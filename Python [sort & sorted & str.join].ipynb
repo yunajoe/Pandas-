{
 "cells": [
  {
   "cell_type": "code",
   "execution_count": null,
   "id": "f6f8e109",
   "metadata": {},
   "outputs": [],
   "source": [
    "# list.sort   vs  sorted()\n",
    "\n",
    "# 1. list.sort\n",
    ">> 오직 list에만 적용이 된다. \n",
    ">> 원본 리스트를 변경하고 반환값이 없기 때문에 새로운 변수에 할당을 하면은 None값이 나온다.\n",
    ">> sorted 보다는 less convenient 이지만 원본 리스트가 필요없는 경우 사용할때 유용하다.\n",
    "\n",
    "# 2. sorted()\n",
    ">> list외에도 literable한 객체에 대해서 사용가능하다 \n",
    ">> 반환값이 있기 때문에 새로운 변수에 할당을 하면은 정렬된 값이 할당이 된다. 그 정렬된 값은 type은 list이다\n",
    ">> 반면에 반환값이 있기 때문에 새로운 변수에 할당하지 않으면 변함이 없다. "
   ]
  },
  {
   "cell_type": "code",
   "execution_count": 10,
   "id": "ce44f277",
   "metadata": {},
   "outputs": [
    {
     "data": {
      "text/plain": [
       "[1, 2, 3, 4, 5]"
      ]
     },
     "execution_count": 10,
     "metadata": {},
     "output_type": "execute_result"
    }
   ],
   "source": [
    "a = [5, 2, 3, 1, 4]\n",
    "a.sort()\n",
    "a"
   ]
  },
  {
   "cell_type": "code",
   "execution_count": 11,
   "id": "47f4a641",
   "metadata": {},
   "outputs": [],
   "source": [
    "a = [5, 2, 3, 1, 4]\n",
    "new_a = a.sort()\n",
    "new_a\n",
    "# 아무것도 안 나옴"
   ]
  },
  {
   "cell_type": "code",
   "execution_count": 12,
   "id": "3c466cbc",
   "metadata": {},
   "outputs": [
    {
     "data": {
      "text/plain": [
       "[5, 2, 3, 1, 4]"
      ]
     },
     "execution_count": 12,
     "metadata": {},
     "output_type": "execute_result"
    }
   ],
   "source": [
    "# 2. sorted()\n",
    "a = [5, 2, 3, 1, 4]\n",
    "sorted(a)\n",
    "a"
   ]
  },
  {
   "cell_type": "code",
   "execution_count": 13,
   "id": "2b09911d",
   "metadata": {},
   "outputs": [
    {
     "data": {
      "text/plain": [
       "[1, 2, 3, 4, 5]"
      ]
     },
     "execution_count": 13,
     "metadata": {},
     "output_type": "execute_result"
    }
   ],
   "source": [
    "a = [5, 2, 3, 1, 4]\n",
    "new_a = sorted(a)\n",
    "new_a"
   ]
  },
  {
   "cell_type": "code",
   "execution_count": 14,
   "id": "7d86239e",
   "metadata": {},
   "outputs": [
    {
     "data": {
      "text/plain": [
       "{1: 'D', 2: 'B', 3: 'B', 4: 'E', 5: 'A'}"
      ]
     },
     "execution_count": 14,
     "metadata": {},
     "output_type": "execute_result"
    }
   ],
   "source": [
    "dic = {1: 'D', 2: 'B', 3: 'B', 4: 'E', 5: 'A'}\n",
    "dic"
   ]
  },
  {
   "cell_type": "code",
   "execution_count": 15,
   "id": "fe2181d0",
   "metadata": {},
   "outputs": [
    {
     "data": {
      "text/plain": [
       "[1, 2, 3, 4, 5]"
      ]
     },
     "execution_count": 15,
     "metadata": {},
     "output_type": "execute_result"
    }
   ],
   "source": [
    "new_dic = sorted(dic) \n",
    "new_dic  # key값이 나옴"
   ]
  },
  {
   "cell_type": "code",
   "execution_count": 16,
   "id": "b2c44f8d",
   "metadata": {},
   "outputs": [
    {
     "data": {
      "text/plain": [
       "['Andrew', 'This', 'a', 'from', 'is', 'string', 'test']"
      ]
     },
     "execution_count": 16,
     "metadata": {},
     "output_type": "execute_result"
    }
   ],
   "source": [
    "sen = sorted(\"This is a test string from Andrew\".split())  # split를 하면은 split를 기준으로 오름차순..\n",
    "sen"
   ]
  },
  {
   "cell_type": "code",
   "execution_count": 17,
   "id": "06ec0bc8",
   "metadata": {},
   "outputs": [
    {
     "data": {
      "text/plain": [
       "['a', 'Andrew', 'from', 'is', 'string', 'test', 'This']"
      ]
     },
     "execution_count": 17,
     "metadata": {},
     "output_type": "execute_result"
    }
   ],
   "source": [
    "sen = sorted(\"This is a test string from Andrew\".split(), key = str.lower)  \n",
    "sen"
   ]
  },
  {
   "cell_type": "code",
   "execution_count": 18,
   "id": "eb23d284",
   "metadata": {},
   "outputs": [
    {
     "data": {
      "text/plain": [
       "['Baron', 'Jack', 'Mark', 'Sam', 'Jay']"
      ]
     },
     "execution_count": 18,
     "metadata": {},
     "output_type": "execute_result"
    }
   ],
   "source": [
    "my_list = ['Jack', 'Sam', 'Jay', 'Mark','Baron']\n",
    "new_my_list = sorted(my_list, reverse = True, key = len) # 내림차순 정렬  with Key, 즉 글자수가 많은것부다 적은순으로 정렬.\n",
    "new_my_list"
   ]
  },
  {
   "cell_type": "code",
   "execution_count": 19,
   "id": "c30e3567",
   "metadata": {},
   "outputs": [
    {
     "data": {
      "text/plain": [
       "'BaronJackMarkSamJay'"
      ]
     },
     "execution_count": 19,
     "metadata": {},
     "output_type": "execute_result"
    }
   ],
   "source": [
    "new_my_list = \"\".join(new_my_list)  # \"\"안에는 구분자!\n",
    "new_my_list"
   ]
  }
 ],
 "metadata": {
  "kernelspec": {
   "display_name": "Python 3",
   "language": "python",
   "name": "python3"
  },
  "language_info": {
   "codemirror_mode": {
    "name": "ipython",
    "version": 3
   },
   "file_extension": ".py",
   "mimetype": "text/x-python",
   "name": "python",
   "nbconvert_exporter": "python",
   "pygments_lexer": "ipython3",
   "version": "3.8.8"
  }
 },
 "nbformat": 4,
 "nbformat_minor": 5
}
