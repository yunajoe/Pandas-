{
 "cells": [
  {
   "cell_type": "code",
   "execution_count": 3,
   "id": "9bec9b45",
   "metadata": {},
   "outputs": [
    {
     "name": "stdout",
     "output_type": "stream",
     "text": [
      "붕어빵\n",
      "개구리빵\n"
     ]
    }
   ],
   "source": [
    "# 리턴값이 없는! 함수만들기\n",
    "def a():\n",
    "    print(\"붕어빵\")\n",
    "a() # 함수호출\n",
    "\n",
    "def b():\n",
    "    print(\"개구리빵\")\n",
    "b() # 함수호출"
   ]
  },
  {
   "cell_type": "code",
   "execution_count": 8,
   "id": "18a370e2",
   "metadata": {},
   "outputs": [
    {
     "name": "stdout",
     "output_type": "stream",
     "text": [
      "붕어빵\n",
      "잉어빵\n"
     ]
    }
   ],
   "source": [
    "# 리턴값이 있는! 함수만들기 \n",
    "\n",
    "def a():\n",
    "    result=\"붕어빵\"\n",
    "    return result\n",
    "a()\n",
    "\n",
    "def b():\n",
    "    result=\"잉어빵\"\n",
    "    return result\n",
    "b()\n",
    "\n",
    "print(a())\n",
    "print(b())"
   ]
  },
  {
   "cell_type": "code",
   "execution_count": 10,
   "id": "fe184e9c",
   "metadata": {},
   "outputs": [
    {
     "name": "stdout",
     "output_type": "stream",
     "text": [
      "peter\n"
     ]
    },
    {
     "data": {
      "text/plain": [
       "'peter'"
      ]
     },
     "execution_count": 10,
     "metadata": {},
     "output_type": "execute_result"
    }
   ],
   "source": [
    "# print와 return 차이 \n",
    "\n",
    "# return값이 있는 함수 \n",
    "def return_name():\n",
    "    return \"peter\"\n",
    "\n",
    "# return값이 없는 함수 \n",
    "\n",
    "def print_name():\n",
    "    print(\"peter\")\n",
    "\n",
    "    \n",
    "print_name()\n",
    "return_name()"
   ]
  },
  {
   "cell_type": "code",
   "execution_count": 3,
   "id": "7ed71fde",
   "metadata": {},
   "outputs": [
    {
     "name": "stdout",
     "output_type": "stream",
     "text": [
      "2087872921008\n",
      "2087872921488\n"
     ]
    }
   ],
   "source": [
    "# 변수, 메모리, 주소 값 \n",
    "# id() 함수는 객체의 고유값(레퍼런스)\n",
    "def a():\n",
    "    result = \"붕어빵\"\n",
    "    result_loc= id(result)\n",
    "    return result_loc\n",
    "\n",
    "def b():\n",
    "    result = \"개구리빵\"\n",
    "    result_loc= id(result)\n",
    "    return result_loc\n",
    "print(a())\n",
    "print(b())"
   ]
  },
  {
   "cell_type": "code",
   "execution_count": 8,
   "id": "993be395",
   "metadata": {},
   "outputs": [
    {
     "data": {
      "text/plain": [
       "100"
      ]
     },
     "execution_count": 8,
     "metadata": {},
     "output_type": "execute_result"
    }
   ],
   "source": [
    "# 최고 점수를 출력하는 함수 만들기 -- 나의 풀이\n",
    "English_Score=[35,12,33,100,34,98,34,53]\n",
    "\n",
    "def score():\n",
    "    answer = [English_Score[i]for i in range(len(English_Score))]\n",
    "    result = max(answer)\n",
    "    return result\n",
    "\n",
    "score()"
   ]
  },
  {
   "cell_type": "code",
   "execution_count": 9,
   "id": "6623e010",
   "metadata": {},
   "outputs": [
    {
     "data": {
      "text/plain": [
       "12"
      ]
     },
     "execution_count": 9,
     "metadata": {},
     "output_type": "execute_result"
    }
   ],
   "source": [
    "# 최저 점수를 출력하는 함수 만들기 -- 나의 풀이 \n",
    "English_Score=[35,12,33,100,34,98,34,53]\n",
    "\n",
    "def score():\n",
    "    answer = [English_Score[i] for i in range(len(English_Score))]\n",
    "    result = min(answer)\n",
    "    return result \n",
    "score()"
   ]
  },
  {
   "cell_type": "code",
   "execution_count": 10,
   "id": "01504512",
   "metadata": {},
   "outputs": [
    {
     "data": {
      "text/plain": [
       "100"
      ]
     },
     "execution_count": 10,
     "metadata": {},
     "output_type": "execute_result"
    }
   ],
   "source": [
    "# 최고, 최점가 동시에 나오도록 구현하기?\n",
    "\n",
    "def max_min(score):\n",
    "    return max(score)  # return 는 한 줄로 끝남! \n",
    "    return min(score)\n",
    "\n",
    "English_Score=[35,12,33,100,34,98,34,53]\n",
    "result = max_min(English_Score)\n",
    "result"
   ]
  },
  {
   "cell_type": "code",
   "execution_count": 17,
   "id": "5657ab6f",
   "metadata": {},
   "outputs": [
    {
     "data": {
      "text/plain": [
       "[100, 80, 70, 50, 32]"
      ]
     },
     "execution_count": 17,
     "metadata": {},
     "output_type": "execute_result"
    }
   ],
   "source": [
    "# 오름차순, 내림차순 정렬을 sort(), sorted() 함수로 구현하기 \n",
    "# 1. sort() >> 원본 변경 \n",
    "lst = [100,50,70,80,32]\n",
    "lst.sort()\n",
    "lst.sort(reverse=True)\n",
    "lst"
   ]
  },
  {
   "cell_type": "code",
   "execution_count": 18,
   "id": "d48fe0d1",
   "metadata": {},
   "outputs": [
    {
     "data": {
      "text/plain": [
       "[32, 50, 70, 80, 100]"
      ]
     },
     "execution_count": 18,
     "metadata": {},
     "output_type": "execute_result"
    }
   ],
   "source": [
    "# 2.sorted() >> 새로운 리스트로 정렬 \n",
    "# >> 원본 리스트는 그대로 유지 \n",
    "new = sorted(lst)\n",
    "new"
   ]
  },
  {
   "cell_type": "code",
   "execution_count": 19,
   "id": "3531d43e",
   "metadata": {},
   "outputs": [
    {
     "data": {
      "text/plain": [
       "[100, 80, 70, 50, 32]"
      ]
     },
     "execution_count": 19,
     "metadata": {},
     "output_type": "execute_result"
    }
   ],
   "source": [
    "new = sorted(lst, reverse=True)\n",
    "new"
   ]
  },
  {
   "cell_type": "code",
   "execution_count": 23,
   "id": "12e3608e",
   "metadata": {},
   "outputs": [
    {
     "name": "stdout",
     "output_type": "stream",
     "text": [
      "('yuna', '여나당', '100')\n",
      "<class 'tuple'>\n"
     ]
    }
   ],
   "source": [
    "# 함수 호출하기 \n",
    "\n",
    "def my_func(id, name, strength):\n",
    "    return id, name, strength\n",
    "\n",
    "result = my_func(\"yuna\",\"여나당\",\"100\")\n",
    "print(result)\n",
    "print(type(result))"
   ]
  },
  {
   "cell_type": "code",
   "execution_count": 26,
   "id": "01d5e609",
   "metadata": {},
   "outputs": [
    {
     "name": "stdout",
     "output_type": "stream",
     "text": [
      "('yuna', '슈퍼맨', 3000) <class 'tuple'>\n",
      "______________________\n",
      "yunaaa 배트맨 4000\n",
      "<class 'str'> <class 'str'> <class 'int'>\n"
     ]
    }
   ],
   "source": [
    "def my_func(id, name, power):\n",
    "    return id, name, power \n",
    "\n",
    "result = my_func(id=\"yuna\",name=\"슈퍼맨\",power=3000)\n",
    "a, b, c= my_func(id=\"yunaaa\", name=\"배트맨\", power=4000)\n",
    "\n",
    "# 하나의 변수로 리턴값을 받아서 출력 \n",
    "# 여러개의 변수로 리턴값을 받아서 출력 \n",
    "print(result, type(result))\n",
    "print(\"______________________\")\n",
    "print(a,b,c)\n",
    "print(type(a),type(b),type(c))"
   ]
  },
  {
   "cell_type": "code",
   "execution_count": 32,
   "id": "f43212d6",
   "metadata": {},
   "outputs": [],
   "source": [
    "# 함수만들기 \n",
    "# 가변길이 함수 만들기 ?! >> 함수에서 입력 parameter를 받을 때 * 표시를 해줌으로써 가변길이라는 것을 명시적으로 표시한다. \n",
    "def my_func(*x):\n",
    "    n=0\n",
    "    for i in x:\n",
    "        n = n + i        \n",
    "    return n "
   ]
  },
  {
   "cell_type": "code",
   "execution_count": 35,
   "id": "77d711fa",
   "metadata": {},
   "outputs": [
    {
     "data": {
      "text/plain": [
       "10"
      ]
     },
     "execution_count": 35,
     "metadata": {},
     "output_type": "execute_result"
    }
   ],
   "source": [
    "a = my_func(1,2,3,4)\n",
    "a"
   ]
  },
  {
   "cell_type": "code",
   "execution_count": 36,
   "id": "bf2899d1",
   "metadata": {},
   "outputs": [
    {
     "data": {
      "text/plain": [
       "45"
      ]
     },
     "execution_count": 36,
     "metadata": {},
     "output_type": "execute_result"
    }
   ],
   "source": [
    "b = my_func(1,2,3,4,5,6,7,8,9)\n",
    "b"
   ]
  },
  {
   "cell_type": "code",
   "execution_count": 38,
   "id": "2d01bdd1",
   "metadata": {},
   "outputs": [
    {
     "data": {
      "text/plain": [
       "((1, 2, 3, 4), tuple)"
      ]
     },
     "execution_count": 38,
     "metadata": {},
     "output_type": "execute_result"
    }
   ],
   "source": [
    "def my_func(*params):\n",
    "    n = params\n",
    "    return n, type(n)\n",
    "\n",
    "a = my_func(1,2,3,4)\n",
    "a"
   ]
  },
  {
   "cell_type": "code",
   "execution_count": 13,
   "id": "92f85079",
   "metadata": {},
   "outputs": [
    {
     "data": {
      "text/plain": [
       "(5, 9)"
      ]
     },
     "execution_count": 13,
     "metadata": {},
     "output_type": "execute_result"
    }
   ],
   "source": [
    "# 해당 파라미터의 갯수와 홀수들의 합을 구하는 코드 구현 \n",
    "\n",
    "def my_func(*params):\n",
    "    odd = 0 \n",
    "    count = 0 \n",
    "    for i in params: \n",
    "        count = count + 1 # parameter의 총 갯수 \n",
    "        if i % 2 != 0:    \n",
    "         #  count = count + 1  parameter중 홀수의 갯수 \n",
    "            odd = odd + i \n",
    "        result = count, odd\n",
    "    return result         \n",
    "my_func(1,2,3,4,5)"
   ]
  },
  {
   "cell_type": "code",
   "execution_count": 17,
   "id": "ffe48071",
   "metadata": {},
   "outputs": [
    {
     "name": "stdout",
     "output_type": "stream",
     "text": [
      "내 이름은 연아\n",
      "나이는 33살\n",
      "국적은미국\n",
      "None\n",
      "__________________디폴트값적용\n",
      "내 이름은 연아\n",
      "나이는 33살\n",
      "국적은한국\n",
      "None\n"
     ]
    }
   ],
   "source": [
    "# 파라미터에게 기본값(default value)를 설정 할 수 있다. \n",
    "\n",
    "def myself(name, age, nationality=\"한국\"):\n",
    "    print(\"내 이름은 {}\".format(name))\n",
    "    print(\"나이는 {}살\".format(age))\n",
    "    print(\"국적은{}\".format(nationality))\n",
    "    \n",
    "print(myself(\"연아\",33,\"미국\"))\n",
    "print(\"__________________디폴트값적용\")\n",
    "print(myself(\"연아\",33))"
   ]
  },
  {
   "cell_type": "code",
   "execution_count": 18,
   "id": "54de330a",
   "metadata": {},
   "outputs": [
    {
     "name": "stdout",
     "output_type": "stream",
     "text": [
      "False\n",
      "False\n",
      "True\n",
      "True\n",
      "False\n"
     ]
    }
   ],
   "source": [
    "# 실습1 =>> 짝수? 홀수? \n",
    "# 어떤 수가 짝수인지 홀수인지 판단해 주는 함수 is_evenly_divisible\n",
    "\n",
    "def is_evenly_divisible(number):\n",
    "    if number % 2 == 0:\n",
    "        return True\n",
    "    return False\n",
    "\n",
    "\n",
    "print(is_evenly_divisible(3))\n",
    "print(is_evenly_divisible(7))\n",
    "print(is_evenly_divisible(8))\n",
    "print(is_evenly_divisible(218))\n",
    "print(is_evenly_divisible(317))"
   ]
  },
  {
   "cell_type": "code",
   "execution_count": 25,
   "id": "2da54491",
   "metadata": {},
   "outputs": [
    {
     "name": "stdout",
     "output_type": "stream",
     "text": [
      "5만원권 지폐 갯수는 1장\n",
      "1만원권 지폐 갯수는 1장\n",
      "5천원권 지폐 갯수는 1장\n",
      "1천권권 지폐 갯수는 2장\n",
      "\n",
      "5만원권 지폐 갯수는 2장\n",
      "1만원권 지폐 갯수는 2장\n",
      "5천원권 지폐 갯수는 0장\n",
      "1천권권 지폐 갯수는 2장\n"
     ]
    }
   ],
   "source": [
    "# 실습2 =>> 거스릅돈 계산기   (나의풀이!)    \n",
    "\n",
    "def calculate_change(payment, cost):\n",
    "    change = payment - cost # 67000\n",
    "    p1 = change // 50000 # 5만원권 지페 갯수   .. 1 \n",
    "    r1 = change - (p1*50000) # 17000.... \n",
    "    p2 = r1 // 10000 # 1만원권 지폐 ㅐㅅ수.. 1 \n",
    "    r2 = r1-(p2*10000) # 7000\n",
    "    p3 = r2 // 5000 # 1... 5천원 지폐\n",
    "    r3 = r2 - (p3*5000) # 2000 \n",
    "    p4 = r3 // 1000 # 2천권권... \n",
    "    \n",
    "    print(f\"5만원권 지폐 갯수는 {p1}장\")\n",
    "    print(f\"1만원권 지폐 갯수는 {p2}장\")\n",
    "    print(f\"5천원권 지폐 갯수는 {p3}장\")\n",
    "    print(f\"1천권권 지폐 갯수는 {p4}장\")\n",
    "    \n",
    "    \n",
    "    \n",
    " \n",
    "    \n",
    "    \n",
    "    \n",
    "    \n",
    "calculate_change(100000, 33000)\n",
    "print()\n",
    "calculate_change(500000, 378000)"
   ]
  },
  {
   "cell_type": "code",
   "execution_count": 26,
   "id": "7ff4770e",
   "metadata": {},
   "outputs": [
    {
     "name": "stdout",
     "output_type": "stream",
     "text": [
      "5만원 지폐 갯수 1장\n",
      "1만원 지폐 갯수 1장\n",
      "5천원 지폐 갯수 1장\n",
      "1천원 지폐 갯수 2장\n",
      "\n",
      "5만원 지폐 갯수 2장\n",
      "1만원 지폐 갯수 2장\n",
      "5천원 지폐 갯수 0장\n",
      "1천원 지폐 갯수 2장\n"
     ]
    }
   ],
   "source": [
    "# 실습2 =>> 거스릅돈 계산기  (해설풀이)  '\n",
    "\n",
    "\n",
    "def calculate_change(payment, cost):\n",
    "    change = payment-cost # 거스름돈 총액 \n",
    "    \n",
    "    fifty = change//50000 # 5만원 지폐 갯수\n",
    "    ten = (change % 50000) // 10000 # 1만원 지폐 갯수 \n",
    "    five = (change % 10000) // 5000 # 5천원 지폐 갯수 \n",
    "    one = (change % 5000) // 1000 # 천원 지폐 갯수\n",
    "    \n",
    "    print(\"5만원 지폐 갯수 {}장\".format(fifty))\n",
    "    print(\"1만원 지폐 갯수 {}장\".format(ten))\n",
    "    print(\"5천원 지폐 갯수 {}장\".format(five))\n",
    "    print(\"1천원 지폐 갯수 {}장\".format(one))\n",
    "    \n",
    "calculate_change(100000, 33000)\n",
    "print()\n",
    "calculate_change(500000, 378000)   "
   ]
  },
  {
   "cell_type": "code",
   "execution_count": null,
   "id": "104c49b4",
   "metadata": {},
   "outputs": [],
   "source": []
  }
 ],
 "metadata": {
  "kernelspec": {
   "display_name": "Python 3",
   "language": "python",
   "name": "python3"
  },
  "language_info": {
   "codemirror_mode": {
    "name": "ipython",
    "version": 3
   },
   "file_extension": ".py",
   "mimetype": "text/x-python",
   "name": "python",
   "nbconvert_exporter": "python",
   "pygments_lexer": "ipython3",
   "version": "3.8.8"
  }
 },
 "nbformat": 4,
 "nbformat_minor": 5
}
