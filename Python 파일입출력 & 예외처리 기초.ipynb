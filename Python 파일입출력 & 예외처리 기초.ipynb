{
 "cells": [
  {
   "cell_type": "code",
   "execution_count": null,
   "id": "a3849035",
   "metadata": {},
   "outputs": [],
   "source": [
    "# 인코딩 & 디코딩 \n",
    "# 컴퓨터는 문자를 인식할 수 없기 때문에 숫자로 변환되어 저장, 변한되는 기준이 이것을 문자 코드라 하며 대표적으로  ASCII코드 또는 유니코드\n",
    "\n",
    "# 문자 인코딩 = 문자를 코드로 변환 \n",
    "# 문자 디코딩 = 코드를 문자로 변환 \n",
    "# mode = 파일이 열리는 모드 \n",
    "# mode를 작성할 때 r(읽기), w(쓰기), a(추가하기) 세가기중 하나와 t(텍스트).b(바이너리) 둘 중 하나와는 반드시 결합 \n",
    "\n"
   ]
  },
  {
   "cell_type": "code",
   "execution_count": 2,
   "id": "87d4a925",
   "metadata": {},
   "outputs": [],
   "source": [
    "# 파일쓰기 \n",
    "# 바탕화면에 '매수종목1.txt' 파일을 생성한 후 다음과 같이 종목코드를 파일에 써보세요\n",
    "\n",
    "f = open(\"C:\\\\Users\\\\yuna\\\\OneDrive\\\\바탕 화면\\\\파일1.txt\",mode = \"wt\",encoding = \"utf -8\")\n",
    "f.write(\"파이썬공부하자\\n\")\n",
    "f.write(\"오늘하루도화이팅\\n\")\n",
    "f.write(\"BE NICE\")\n",
    "f.close()"
   ]
  },
  {
   "cell_type": "code",
   "execution_count": 4,
   "id": "9c1700ae",
   "metadata": {},
   "outputs": [],
   "source": [
    "# 파일쓰기 2\n",
    "# 바탕화면에 '매수종목2.txt' 파일을 생성한 후 다음과 같이 종목코드와 종목명을 파일에 써보기 \n",
    "\n",
    "f = open(\"C:\\\\Users\\\\yuna\\\\OneDrive\\\\바탕 화면\\\\파일2.txt\",mode = \"wt\", encoding =\"utf -8\" )\n",
    "f.write(\"005930 삼성전자\\n\")\n",
    "f.write(\"005380 현대차\\n\")\n",
    "f.write(\"035420 NAVER\\n\")\n",
    "f.close()"
   ]
  },
  {
   "cell_type": "code",
   "execution_count": 15,
   "id": "a46aed63",
   "metadata": {},
   "outputs": [
    {
     "ename": "PermissionError",
     "evalue": "[Errno 13] Permission denied: 'C:\\\\Users\\\\yuna\\\\OneDrive\\\\바탕 화면\\\\파일3.csv'",
     "output_type": "error",
     "traceback": [
      "\u001b[1;31m---------------------------------------------------------------------------\u001b[0m",
      "\u001b[1;31mPermissionError\u001b[0m                           Traceback (most recent call last)",
      "\u001b[1;32m<ipython-input-15-c37184334c97>\u001b[0m in \u001b[0;36m<module>\u001b[1;34m\u001b[0m\n\u001b[0;32m      4\u001b[0m \u001b[1;32mimport\u001b[0m \u001b[0mcsv\u001b[0m\u001b[1;33m\u001b[0m\u001b[1;33m\u001b[0m\u001b[0m\n\u001b[0;32m      5\u001b[0m \u001b[1;33m\u001b[0m\u001b[0m\n\u001b[1;32m----> 6\u001b[1;33m \u001b[0mf\u001b[0m \u001b[1;33m=\u001b[0m \u001b[0mopen\u001b[0m\u001b[1;33m(\u001b[0m\u001b[1;34m\"C:\\\\Users\\\\yuna\\\\OneDrive\\\\바탕 화면\\\\파일3.csv\"\u001b[0m\u001b[1;33m,\u001b[0m \u001b[0mmode\u001b[0m\u001b[1;33m=\u001b[0m\u001b[1;34m\"wt\"\u001b[0m\u001b[1;33m,\u001b[0m \u001b[0mencoding\u001b[0m\u001b[1;33m=\u001b[0m\u001b[1;34m\"cp949\"\u001b[0m\u001b[1;33m,\u001b[0m \u001b[0mnewline\u001b[0m\u001b[1;33m=\u001b[0m\u001b[1;34m''\u001b[0m\u001b[1;33m)\u001b[0m\u001b[1;33m\u001b[0m\u001b[1;33m\u001b[0m\u001b[0m\n\u001b[0m\u001b[0;32m      7\u001b[0m \u001b[0mwriter\u001b[0m \u001b[1;33m=\u001b[0m \u001b[0mcsv\u001b[0m\u001b[1;33m.\u001b[0m\u001b[0mwriter\u001b[0m\u001b[1;33m(\u001b[0m\u001b[0mf\u001b[0m\u001b[1;33m)\u001b[0m \u001b[1;31m# 파일객체(f)를 csv에 넣어줌\u001b[0m\u001b[1;33m\u001b[0m\u001b[1;33m\u001b[0m\u001b[0m\n\u001b[0;32m      8\u001b[0m \u001b[0mwriter\u001b[0m\u001b[1;33m.\u001b[0m\u001b[0mwriterow\u001b[0m\u001b[1;33m(\u001b[0m\u001b[1;33m[\u001b[0m\u001b[1;34m\"종목명\"\u001b[0m\u001b[1;33m,\u001b[0m\u001b[1;34m\"종목코드\"\u001b[0m\u001b[1;33m,\u001b[0m\u001b[1;34m\"PER\"\u001b[0m\u001b[1;33m]\u001b[0m\u001b[1;33m)\u001b[0m   \u001b[1;31m# writerow() 라는 메서드를 통해 list에 넣어줌\u001b[0m\u001b[1;33m\u001b[0m\u001b[1;33m\u001b[0m\u001b[0m\n",
      "\u001b[1;31mPermissionError\u001b[0m: [Errno 13] Permission denied: 'C:\\\\Users\\\\yuna\\\\OneDrive\\\\바탕 화면\\\\파일3.csv'"
     ]
    }
   ],
   "source": [
    "# csv 파일생성 (csv? 몇 가지 필드를 쉼표(,)로 구분한 텍스트 데이터 및 텍스트 파일)\n",
    "# 바탕화면에 '매수종목.csv' 파일을 생성한 후 다음과 같이 종목코드와 종목명을 파일에 써보세요. 인코딩은 'cp949'를 사용\n",
    "\n",
    "import csv\n",
    "\n",
    "f = open(\"C:\\\\Users\\\\yuna\\\\OneDrive\\\\바탕 화면\\\\파일3.csv\", mode=\"wt\", encoding=\"cp949\", newline='')\n",
    "writer = csv.writer(f) # 파일객체(f)를 csv에 넣어줌  \n",
    "writer.writerow([\"종목명\",\"종목코드\",\"PER\"])   # writerow() 라는 메서드를 통해 list에 넣어줌 \n",
    "writer.writerow([\"삼성전자\", \"005930\", 15.59])\n",
    "writer.writerow([\"NAVER\", \"035420\", 55.82])\n",
    "f.close()"
   ]
  },
  {
   "cell_type": "code",
   "execution_count": 18,
   "id": "7e31e943",
   "metadata": {},
   "outputs": [
    {
     "data": {
      "text/plain": [
       "'파이썬공부하자\\n오늘하루도화이팅\\nBE NICE'"
      ]
     },
     "execution_count": 18,
     "metadata": {},
     "output_type": "execute_result"
    }
   ],
   "source": [
    "# 파일 읽기\n",
    "f = open(\"C:\\\\Users\\\\yuna\\\\OneDrive\\\\바탕 화면\\\\파일1.txt\", mode= \"rt\", encoding = \"utf -8\")\n",
    "f.read()# 파일을 한줄로 읽음"
   ]
  },
  {
   "cell_type": "code",
   "execution_count": 26,
   "id": "c11146a8",
   "metadata": {},
   "outputs": [
    {
     "name": "stdout",
     "output_type": "stream",
     "text": [
      "파이썬공부하자\n",
      "\n"
     ]
    }
   ],
   "source": [
    "f = open(\"C:\\\\Users\\\\yuna\\\\OneDrive\\\\바탕 화면\\\\파일1.txt\", mode= \"rt\", encoding = \"utf -8\")\n",
    "print(f.readline())  # \\n 나오면 멈춤\n"
   ]
  },
  {
   "cell_type": "code",
   "execution_count": 33,
   "id": "38f9dd40",
   "metadata": {},
   "outputs": [
    {
     "name": "stdout",
     "output_type": "stream",
     "text": [
      "파이썬공부하자\n",
      "\n",
      "오늘하루도화이팅\n",
      "\n",
      "BE NICE\n"
     ]
    }
   ],
   "source": [
    "f = open(\"C:\\\\Users\\\\yuna\\\\OneDrive\\\\바탕 화면\\\\파일1.txt\", mode= \"rt\", encoding = \"utf -8\")\n",
    "for i in range(3):\n",
    "    print(f.readline()) # realind() 을 이용해서 전체 파일 읽기\n",
    "\n"
   ]
  },
  {
   "cell_type": "code",
   "execution_count": 39,
   "id": "b9614534",
   "metadata": {},
   "outputs": [
    {
     "name": "stdout",
     "output_type": "stream",
     "text": [
      "['파이썬공부하자\\n', '오늘하루도화이팅\\n', 'BE NICE']\n",
      "\n",
      "\n",
      "파이썬공부하자\n",
      "오늘하루도화이팅\n",
      "BE NICE"
     ]
    }
   ],
   "source": [
    "f = open(\"C:\\\\Users\\\\yuna\\\\OneDrive\\\\바탕 화면\\\\파일1.txt\", mode= \"rt\", encoding = \"utf -8\")\n",
    "lines = f.readlines() # readlines 는 파일을 읽으면서 한 줄, 한 줄 각각 리스트 원소로 들어가게 함 \n",
    "print(lines[:3])\n",
    "print(\"\\n\")\n",
    "\n",
    "for i in lines[:3]:\n",
    "    print(i, end = \"\")"
   ]
  },
  {
   "cell_type": "code",
   "execution_count": 49,
   "id": "44b75ef5",
   "metadata": {},
   "outputs": [
    {
     "name": "stdout",
     "output_type": "stream",
     "text": [
      "['파이썬공부하자', '오늘하루도화이팅', 'BE NICE']\n"
     ]
    }
   ],
   "source": [
    "# 바탕화면에 생성한 '매수종목1.txt' 파일을 읽은 후 종목코드를 리스트에 저장\n",
    "\n",
    "f = open(\"C:\\\\Users\\\\yuna\\\\OneDrive\\\\바탕 화면\\\\파일1.txt\", mode= \"rt\", encoding = \"utf -8\")\n",
    "lines = f.readlines() \n",
    "\n",
    "list= []\n",
    "for i in lines:\n",
    "    i = i.strip()\n",
    "    list.append(i)\n",
    "print(list)\n",
    "\n",
    "f.close()"
   ]
  },
  {
   "cell_type": "code",
   "execution_count": 57,
   "id": "6b3a6093",
   "metadata": {},
   "outputs": [
    {
     "name": "stdout",
     "output_type": "stream",
     "text": [
      "{'005930': '삼성전자', '005380': '현대차', '035420': 'NAVER'}\n"
     ]
    }
   ],
   "source": [
    "# '매수종목2.txt' 파일을 읽은 후 종목코드와 종목명을 딕셔너리로 저장해보세요. 종목명을 key로 종목명을 value로 저장\n",
    "\n",
    "f = open(\"C:\\\\Users\\\\yuna\\\\OneDrive\\\\바탕 화면\\\\파일2.txt\", mode= \"rt\", encoding = \"utf -8\")\n",
    "lines = f.readlines()\n",
    "\n",
    "data = {}\n",
    "for i in lines:\n",
    "    i = i.strip()\n",
    "    a, b = i.split()  # 공백으로 나눔\n",
    "    data[a] = b\n",
    "print(data)"
   ]
  },
  {
   "cell_type": "code",
   "execution_count": 63,
   "id": "b786eeb8",
   "metadata": {},
   "outputs": [
    {
     "name": "stdout",
     "output_type": "stream",
     "text": [
      "10.31\n",
      "0\n",
      "8.0\n"
     ]
    }
   ],
   "source": [
    "# 예외처리 \n",
    "\n",
    "# 문자열 PER (Price to Earning Ratio) 값을 실수로 변환할 때 에러가 발생합니다. 예외처리를 통해 에러가 발생하는 PER은 0으로 출력\n",
    "\n",
    "per = [\"10.31\", \"\", \"8.00\"]\n",
    "\n",
    "for i in per:\n",
    "    try:\n",
    "        print(float(i))\n",
    "    \n",
    "    except:\n",
    "        print(0)\n"
   ]
  },
  {
   "cell_type": "code",
   "execution_count": 71,
   "id": "eef81cb7",
   "metadata": {},
   "outputs": [
    {
     "name": "stdout",
     "output_type": "stream",
     "text": [
      "[10.31, 0, 8.0]\n"
     ]
    }
   ],
   "source": [
    "# 예외처리 및 리스트에 저장\n",
    "\n",
    "# 문자열로 표현된 PER 값을 실수로 변환한 후 이를 새로운 리스트에 저장\n",
    "\n",
    "per = [\"10.31\", \"\", \"8.00\"]\n",
    "new_list = []\n",
    "for i in per:\n",
    "    try: \n",
    "        a = float(i)\n",
    "    except:\n",
    "        a = 0 \n",
    "    new_list.append(a)\n",
    "\n",
    "print(new_list)\n",
    "    \n"
   ]
  },
  {
   "cell_type": "code",
   "execution_count": 73,
   "id": "152c4716",
   "metadata": {},
   "outputs": [
    {
     "name": "stdout",
     "output_type": "stream",
     "text": [
      "0으로 나누면 안됩니다\n"
     ]
    }
   ],
   "source": [
    "# 특정 예외만 처리하기\n",
    "#try ~ except로 모든 에러에 대해 예외처리하지 말고 ZeroDivisionError 에러만 예외처리\n",
    "\n",
    "try:\n",
    "    b = 3/0 \n",
    "\n",
    "except ZeroDivisionError:\n",
    "    print(\"0으로 나누면 안됩니다\")\n",
    "    "
   ]
  },
  {
   "cell_type": "code",
   "execution_count": 82,
   "id": "66208720",
   "metadata": {},
   "outputs": [
    {
     "name": "stdout",
     "output_type": "stream",
     "text": [
      "1\n",
      "2\n",
      "3\n",
      "list index out of range\n",
      "list index out of range\n"
     ]
    }
   ],
   "source": [
    "# 예외의 메시지 출력하기\n",
    "# 리스트의 인덱싱에 대해 에러를 출력\n",
    "# try:\n",
    "#     실행코드\n",
    "# except 예외 as 변수:\n",
    "#     예외처리코드 \n",
    "\n",
    "data = [1, 2, 3]\n",
    "\n",
    "for i in range(5):\n",
    "    try: \n",
    "        print(data[i])\n",
    "    \n",
    "    except IndexError as e:\n",
    "        print(e)\n",
    "    "
   ]
  },
  {
   "cell_type": "code",
   "execution_count": null,
   "id": "73e5629c",
   "metadata": {},
   "outputs": [],
   "source": [
    "# try, except, else, finally 구조 사용\n",
    "\n",
    "# try:\n",
    "#     실행 코드\n",
    "# except:\n",
    "#     예외가 발생했을 때 수행할 코드\n",
    "# else:\n",
    "#     예외가 발생하지 않았을 때 수행할 코드\n",
    "# finally:\n",
    "#     예외 발생 여부와 상관없이 항상 수행할 코드\n",
    "\n"
   ]
  },
  {
   "cell_type": "code",
   "execution_count": 85,
   "id": "1162336b",
   "metadata": {},
   "outputs": [
    {
     "name": "stdout",
     "output_type": "stream",
     "text": [
      "10.31\n",
      "문제없음\n",
      "완료\n",
      "0\n",
      "완료\n",
      "8.0\n",
      "문제없음\n",
      "완료\n"
     ]
    }
   ],
   "source": [
    "# 아래의 코드에 대해서 예외처리를 사용하고 try, except, else, finally에 적당한 코드를 작성해봅시다. else와 finally는 적당한 문구를 print\n",
    "\n",
    "per = [\"10.31\", \"\", \"8.00\"]\n",
    "\n",
    "for i in per:\n",
    "    try: \n",
    "        print(float(i))\n",
    "    except:\n",
    "        print(0)\n",
    "    else:\n",
    "        print(\"문제없음\")\n",
    "    finally:\n",
    "        print(\"완료\")\n",
    "\n"
   ]
  },
  {
   "cell_type": "code",
   "execution_count": null,
   "id": "50aac7db",
   "metadata": {},
   "outputs": [],
   "source": []
  }
 ],
 "metadata": {
  "kernelspec": {
   "display_name": "Python 3",
   "language": "python",
   "name": "python3"
  },
  "language_info": {
   "codemirror_mode": {
    "name": "ipython",
    "version": 3
   },
   "file_extension": ".py",
   "mimetype": "text/x-python",
   "name": "python",
   "nbconvert_exporter": "python",
   "pygments_lexer": "ipython3",
   "version": "3.8.8"
  }
 },
 "nbformat": 4,
 "nbformat_minor": 5
}
