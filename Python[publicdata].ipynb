{
 "cells": [
  {
   "cell_type": "code",
   "execution_count": null,
   "id": "b8b2f60e",
   "metadata": {},
   "outputs": [],
   "source": [
    "# Json 데이터 처리란?\n",
    "클라이언트와 서버 사이에서 데잍어를 교환시 파이썬의 객체 타입을 문자열 또는 \n",
    "문자열 데이터를 파이썬의 객체 타입으로 변환 \n",
    "# 파이썬의 대표적인 자료구조 4개 --> List, Tuple, Dictionary, Set"
   ]
  },
  {
   "cell_type": "code",
   "execution_count": null,
   "id": "da7bed1d",
   "metadata": {},
   "outputs": [],
   "source": [
    "# 파이썬 딕셔너리 타입?\n",
    "파이썬 자료구조의 한 형태.키(Key): 값(Value)쌍의 요소를 갖는 객체. \n",
    "키를 통하여 빠르게 값을 찾아내는 해시테이블(Hash Table)구조를 가지는 객체\n"
   ]
  },
  {
   "cell_type": "code",
   "execution_count": 9,
   "id": "6e200534",
   "metadata": {},
   "outputs": [
    {
     "name": "stdout",
     "output_type": "stream",
     "text": [
      "{'name': (1, 2)}\n",
      "<class 'dict'>\n",
      "<class 'tuple'>\n",
      "________________\n",
      "['name']\n",
      "<class 'list'>\n",
      "name\n",
      "<class 'str'>\n"
     ]
    }
   ],
   "source": [
    "a = {\"name\":(1,2)}\n",
    "print(a)\n",
    "print(type(a))\n",
    "print(type(a[\"name\"]))\n",
    "\n",
    "print(\"________________\")\n",
    "b = list(a)\n",
    "print(b)\n",
    "print(type(b))\n",
    "print(b[0])\n",
    "print(type(b[0]))"
   ]
  },
  {
   "cell_type": "code",
   "execution_count": null,
   "id": "3269cc25",
   "metadata": {},
   "outputs": [],
   "source": [
    "# JSON(JavaScript Object Notation)은 속성-값으로 이루어진 data object를전달하기 위해 인간이 읽을 수 있는 텍스트를 사용하는 개방형 표준 포맷 \n",
    "# python은 json를 처리할수 있는 기본적인 모듈을 가지고 있다. "
   ]
  },
  {
   "cell_type": "code",
   "execution_count": 10,
   "id": "2303d869",
   "metadata": {},
   "outputs": [
    {
     "name": "stdout",
     "output_type": "stream",
     "text": [
      "{'id': 1004, 'name': 'yuna', 'age': 33, 'email': 'yunaaa@gmail.com', 'data': [{'date': '2010-12-12', 'device': 'pc'}, {'date': '2010-06-12', 'device': 'mobile'}, {'date': '2010-11-12', 'device': 'mac'}]}\n",
      "_____\n",
      "<class 'dict'>\n"
     ]
    }
   ],
   "source": [
    "#<실습>\n",
    "\n",
    "import json    # Json 데이터를 처리하기 위해 사용되는 파이썬의 내장모듈\n",
    "\n",
    "members = {\n",
    "    \"id\":1004, \n",
    "    \"name\":\"yuna\",\n",
    "    \"age\":33, \n",
    "    \"email\":\"yunaaa@gmail.com\",\n",
    "    \"data\":[\n",
    "        {\"date\":\"2010-12-12\",\"device\":\"pc\"}, \n",
    "        {\"date\":\"2010-06-12\",\"device\":\"mobile\"}, \n",
    "        {\"date\":\"2010-11-12\",\"device\":\"mac\"},\n",
    "    ]    \n",
    "}\n",
    "print(members)\n",
    "print(\"_____\")\n",
    "print(type(members))"
   ]
  },
  {
   "cell_type": "code",
   "execution_count": 12,
   "id": "741de40d",
   "metadata": {},
   "outputs": [
    {
     "name": "stdout",
     "output_type": "stream",
     "text": [
      "{\"id\": 1004, \"name\": \"yuna\", \"age\": 33, \"email\": \"yunaaa@gmail.com\", \"data\": [{\"date\": \"2010-12-12\", \"device\": \"pc\"}, {\"date\": \"2010-06-12\", \"device\": \"mobile\"}, {\"date\": \"2010-11-12\", \"device\": \"mac\"}]}\n",
      "_____________\n",
      "<class 'str'>\n"
     ]
    }
   ],
   "source": [
    "# dumps() >> Python 객체를 Json 문자열로 변환 \n",
    "\n",
    "jsonStr = json.dumps(members)\n",
    "print(jsonStr)\n",
    "print(\"_____________\")\n",
    "print(type(jsonStr)) # dic 클래스가 str로 바뀌었다.\n"
   ]
  },
  {
   "cell_type": "code",
   "execution_count": 17,
   "id": "1ef0d4c2",
   "metadata": {},
   "outputs": [
    {
     "name": "stdout",
     "output_type": "stream",
     "text": [
      "<class 'str'>\n",
      "load()함수를 써서 딕셔너리로 변경했음\n",
      "<class 'dict'>\n"
     ]
    }
   ],
   "source": [
    "# loads() >> Json 문자열을 python 객체로 변환하기 위해서 사용하는 함수 \n",
    "\n",
    "import json \n",
    "jsonStr='{\"id\": 1004, \"name\": \"yuna\", \"age\": 33, \"email\": \"yunaaa@gmail.com\", \"data\": [{\"date\": \"2010-12-12\", \"device\": \"pc\"}, {\"date\": \"2010-06-12\", \"device\": \"mobile\"}, {\"date\": \"2010-11-12\", \"device\": \"mac\"}]}'\n",
    "\n",
    "print(type(jsonStr))\n",
    "print(\"load()함수를 써서 딕셔너리로 변경했음\")\n",
    "jsonObj = json.loads(jsonStr)\n",
    "print(type(jsonObj))"
   ]
  },
  {
   "cell_type": "code",
   "execution_count": 18,
   "id": "67b864ab",
   "metadata": {},
   "outputs": [
    {
     "data": {
      "text/plain": [
       "'yuna'"
      ]
     },
     "execution_count": 18,
     "metadata": {},
     "output_type": "execute_result"
    }
   ],
   "source": [
    "# 하나만 출력해보자 \n",
    "\n",
    "jsonObj[\"name\"]"
   ]
  },
  {
   "cell_type": "code",
   "execution_count": 20,
   "id": "7b9138a0",
   "metadata": {},
   "outputs": [
    {
     "name": "stdout",
     "output_type": "stream",
     "text": [
      "2010-12-12 pc\n",
      "2010-06-12 mobile\n",
      "2010-11-12 mac\n"
     ]
    }
   ],
   "source": [
    "# 중첩된 구조의 반복\n",
    "\n",
    "for i in jsonObj[\"data\"]:\n",
    "    print(i[\"date\"], i[\"device\"])"
   ]
  },
  {
   "cell_type": "code",
   "execution_count": 22,
   "id": "c70c7777",
   "metadata": {},
   "outputs": [
    {
     "name": "stdout",
     "output_type": "stream",
     "text": [
      "접속날짜는2010-12-12이고 사용하는 기기는 pc입니당.\n",
      "접속날짜는2010-06-12이고 사용하는 기기는 mobile입니당.\n",
      "접속날짜는2010-11-12이고 사용하는 기기는 mac입니당.\n"
     ]
    }
   ],
   "source": [
    "\n",
    "for i in jsonObj[\"data\"]:\n",
    "    print(f'접속날짜는{i[\"date\"]}이고 사용하는 기기는 {i[\"device\"]}입니당.')\n",
    "    \n",
    " # ㅇ   "
   ]
  },
  {
   "cell_type": "code",
   "execution_count": 27,
   "id": "aad63cfc",
   "metadata": {},
   "outputs": [
    {
     "name": "stdout",
     "output_type": "stream",
     "text": [
      "A\n",
      "B\n",
      "C\n",
      "D\n",
      "_______\n",
      "A\n",
      "B\n",
      "C\n",
      "D\n"
     ]
    }
   ],
   "source": [
    "# 딕셔너리 구조와 반복문 \n",
    "\n",
    "# 키값만 출력해보자 \n",
    "dic1 ={\"A\":100,\"B\":200,\"C\":300,\"D\":400}\n",
    "for key in dic1:\n",
    "    print(key)  # 키 값 출력\n",
    " \n",
    "print(\"_______\")\n",
    "for key2 in dic1.keys():\n",
    "    print(key2)"
   ]
  },
  {
   "cell_type": "code",
   "execution_count": 29,
   "id": "4f9aac3c",
   "metadata": {
    "scrolled": true
   },
   "outputs": [
    {
     "name": "stdout",
     "output_type": "stream",
     "text": [
      "100\n",
      "200\n",
      "300\n",
      "400\n"
     ]
    }
   ],
   "source": [
    "# value값만 출력해보자 \n",
    "dic1 ={\"A\":100,\"B\":200,\"C\":300,\"D\":400}\n",
    "for value in dic1.values():\n",
    "    print(value)"
   ]
  },
  {
   "cell_type": "code",
   "execution_count": 30,
   "id": "95a22c85",
   "metadata": {},
   "outputs": [
    {
     "name": "stdout",
     "output_type": "stream",
     "text": [
      "A 100\n",
      "B 200\n",
      "C 300\n",
      "D 400\n"
     ]
    }
   ],
   "source": [
    "# key, value값 둘다 출력하기 \n",
    "dic1 ={\"A\":100,\"B\":200,\"C\":300,\"D\":400} \n",
    "for key,value in dic1.items():\n",
    "    print(key, value)"
   ]
  },
  {
   "cell_type": "code",
   "execution_count": 33,
   "id": "0970ed13",
   "metadata": {},
   "outputs": [
    {
     "name": "stdout",
     "output_type": "stream",
     "text": [
      "{'A': 100, 'B': 200, 'C': 300, 'D': 400, 'E': None}\n"
     ]
    }
   ],
   "source": [
    "# key만 추가해보기 \n",
    "#setdefault() 사용하기 \n",
    "\n",
    "dic1 ={\"A\":100,\"B\":200,\"C\":300,\"D\":400} \n",
    "dic1.setdefault(\"E\") \n",
    "print(dic1)"
   ]
  },
  {
   "cell_type": "code",
   "execution_count": 34,
   "id": "7610a514",
   "metadata": {},
   "outputs": [
    {
     "data": {
      "text/plain": [
       "{'A': 100, 'B': 200, 'C': 300, 'D': 400, 'F': 500}"
      ]
     },
     "execution_count": 34,
     "metadata": {},
     "output_type": "execute_result"
    }
   ],
   "source": [
    "# key, value 추가하기 \n",
    "#setdefault() 사용하기 \n",
    "dic1 ={\"A\":100,\"B\":200,\"C\":300,\"D\":400} \n",
    "dic1.setdefault(\"F\",500)\n",
    "dic1"
   ]
  },
  {
   "cell_type": "code",
   "execution_count": 39,
   "id": "3373eab3",
   "metadata": {},
   "outputs": [
    {
     "data": {
      "text/plain": [
       "{'A': 1000, 'B': 200, 'C': 300, 'D': 400, 'F': 500}"
      ]
     },
     "execution_count": 39,
     "metadata": {},
     "output_type": "execute_result"
    }
   ],
   "source": [
    "# key 수정하기 \n",
    "# update 메서드 사용 \n",
    "dic1.update(A=1000)\n"
   ]
  },
  {
   "cell_type": "code",
   "execution_count": 42,
   "id": "2da1ee85",
   "metadata": {},
   "outputs": [
    {
     "data": {
      "text/plain": [
       "{'A': 1000, 'B': 200, 'C': 300, 'D': 400, 'F': 500, 'Z': 100}"
      ]
     },
     "execution_count": 42,
     "metadata": {},
     "output_type": "execute_result"
    }
   ],
   "source": [
    "# 없는 key를 수정하려고 할 때?\n",
    "# 없기 때문에 새로운 입력 처리로 해당됨\n",
    "dic1.update(Z=100)\n",
    "dic1"
   ]
  },
  {
   "cell_type": "code",
   "execution_count": 45,
   "id": "6c649314",
   "metadata": {},
   "outputs": [
    {
     "data": {
      "text/plain": [
       "{'A': 200, 'B': 300, 'C': 300, 'D': 400}"
      ]
     },
     "execution_count": 45,
     "metadata": {},
     "output_type": "execute_result"
    }
   ],
   "source": [
    "# 여러개의 값을 수정하려고 할 때?\n",
    "dic1 ={\"A\":100,\"B\":200,\"C\":300,\"D\":400} \n",
    "dic1.update(A=200,B=300)\n",
    "dic1"
   ]
  },
  {
   "cell_type": "code",
   "execution_count": 47,
   "id": "eefc2aff",
   "metadata": {},
   "outputs": [
    {
     "data": {
      "text/plain": [
       "{1: '수지', 2: '마마무', 3: '블랙핑크', 4: '트와이스'}"
      ]
     },
     "execution_count": 47,
     "metadata": {},
     "output_type": "execute_result"
    }
   ],
   "source": [
    "# key값이 문자가 아닌, 숫자인 경우는 \n",
    "# 딕셔너리 or 리스트 or 튜플로 감싸준다음에 수정\n",
    "dic2 = {1:\"잇지\",2:\"오마이걸\",3:\"블랙핑크\",4:\"트와이스\"}\n",
    "dic2.update({1:\"수지\",2:\"마마무\"})\n",
    "dic2\n"
   ]
  },
  {
   "cell_type": "code",
   "execution_count": 52,
   "id": "a31e8522",
   "metadata": {},
   "outputs": [
    {
     "data": {
      "text/plain": [
       "{1: '아이오아이', 2: '레드벨벳', 3: '블랙핑크', 4: '트와이스'}"
      ]
     },
     "execution_count": 52,
     "metadata": {},
     "output_type": "execute_result"
    }
   ],
   "source": [
    "# 리스트는 이중 []\n",
    "dic2 = {1:\"잇지\",2:\"오마이걸\",3:\"블랙핑크\",4:\"트와이스\"}\n",
    "dic2.update([[1,\"아이오아이\"],[2,\"레드벨벳\"]])\n",
    "dic2"
   ]
  },
  {
   "cell_type": "code",
   "execution_count": 56,
   "id": "2592683f",
   "metadata": {},
   "outputs": [
    {
     "name": "stdout",
     "output_type": "stream",
     "text": [
      "{'a': 100, 'b': 200}\n",
      "100\n",
      "200\n"
     ]
    }
   ],
   "source": [
    "# 딕셔너리는 인덱스가 없기 때문에 키로 엑세스 한다. \n",
    "dic3 = {\"a\":100,\"b\":200}\n",
    "print(dic3)\n",
    "print(dic3[\"a\"])\n",
    "print(dic3[\"b\"])\n"
   ]
  },
  {
   "cell_type": "code",
   "execution_count": 59,
   "id": "ba37170a",
   "metadata": {},
   "outputs": [
    {
     "data": {
      "text/plain": [
       "{'a': 1000, 'b': 2000, 'c': 3000}"
      ]
     },
     "execution_count": 59,
     "metadata": {},
     "output_type": "execute_result"
    }
   ],
   "source": [
    "dic3[\"a\"]=1000\n",
    "dic3[\"b\"]=2000\n",
    "dic3[\"c\"]=3000\n",
    "dic3"
   ]
  },
  {
   "cell_type": "code",
   "execution_count": 64,
   "id": "2a68f89f",
   "metadata": {},
   "outputs": [
    {
     "name": "stdout",
     "output_type": "stream",
     "text": [
      "<class 'list'>\n",
      "<class 'dict'>\n"
     ]
    }
   ],
   "source": [
    "# 딕셔너리 변환(key ,value값만 맞춰주면 리스트 & 튜플을 딕셔너리로 변환할 수 있음)\n",
    "\n",
    "# 1. 리스트를 딕셔너리로 \n",
    "animals=[[\"A\",1],[\"B\",2],[\"C\",3]]\n",
    "print(type(animals))\n",
    "animals_dic = dict(animals)\n",
    "print(type(animals_dic))"
   ]
  },
  {
   "cell_type": "code",
   "execution_count": 71,
   "id": "833a7a7f",
   "metadata": {},
   "outputs": [
    {
     "data": {
      "text/plain": [
       "{'book': 1000, 'bag': 2000, 'purse': 3000}"
      ]
     },
     "execution_count": 71,
     "metadata": {},
     "output_type": "execute_result"
    }
   ],
   "source": [
    "# 2. 튜프를 딕셔너리로 \n",
    "goods = (('book',1000),('bag',2000),('purse',3000)) \n",
    "dict(goods)\n"
   ]
  },
  {
   "cell_type": "code",
   "execution_count": 77,
   "id": "4215f830",
   "metadata": {},
   "outputs": [
    {
     "name": "stdout",
     "output_type": "stream",
     "text": [
      "<class 'list'>\n",
      "___\n",
      "<class 'dict'>\n"
     ]
    }
   ],
   "source": [
    "# 리스트안에 튜플을 >> 딕셔너리로 \n",
    "# 튜플안에 리스트를 >> 딕셔너리로 \n",
    "\n",
    "\n",
    "# 리스트안에 튜플을?!?!?\n",
    "data = [(\"가\",10),(\"나\",20),(\"다\",30)]\n",
    "print(type(data))\n",
    "print(\"___\")\n",
    "print(type(dict(data)))"
   ]
  },
  {
   "cell_type": "code",
   "execution_count": 78,
   "id": "3cee9abf",
   "metadata": {},
   "outputs": [
    {
     "data": {
      "text/plain": [
       "{'price': 50000,\n",
       " 'computer': ['프린트', '모니터', 'RAM', 'Hdd'],\n",
       " 'coffee': ['americano', 'Latte', 'Mocha', 'Vanila Latte']}"
      ]
     },
     "execution_count": 78,
     "metadata": {},
     "output_type": "execute_result"
    }
   ],
   "source": [
    "# 원소 삭제하기 \n",
    "\n",
    "goods={\n",
    "    \"price\":50000, \n",
    "    \"computer\":[\"프린트\",\"모니터\",\"RAM\",\"Hdd\"], \n",
    "    \"coffee\":[\"americano\",\"Latte\",\"Mocha\",\"Vanila Latte\"]\n",
    "}\n",
    "goods"
   ]
  },
  {
   "cell_type": "code",
   "execution_count": 79,
   "id": "672040c1",
   "metadata": {},
   "outputs": [
    {
     "data": {
      "text/plain": [
       "{'price': 50000,\n",
       " 'computer': ['프린트', '모니터', 'RAM', 'Hdd'],\n",
       " 'coffee': ['americano', 'Latte', 'Mocha', 'Vanila Latte'],\n",
       " 'fruit': ['apple', 'orange', 'peach', 'water melon']}"
      ]
     },
     "execution_count": 79,
     "metadata": {},
     "output_type": "execute_result"
    }
   ],
   "source": [
    "goods[\"fruit\"]=[\"apple\",\"orange\",\"peach\",\"water melon\"]\n",
    "goods"
   ]
  },
  {
   "cell_type": "code",
   "execution_count": 80,
   "id": "a268abe9",
   "metadata": {},
   "outputs": [
    {
     "data": {
      "text/plain": [
       "{'price': 50000,\n",
       " 'computer': ['프린트', '모니터', 'RAM', 'Hdd'],\n",
       " 'coffee': ['americano', 'Latte', 'Mocha', 'Vanila Latte'],\n",
       " 'fruit': ['orange', 'peach', 'water melon']}"
      ]
     },
     "execution_count": 80,
     "metadata": {},
     "output_type": "execute_result"
    }
   ],
   "source": [
    "# fruit의 apple를 삭제해보자  \"remove\"\n",
    "goods[\"fruit\"].remove(\"apple\")\n",
    "goods"
   ]
  },
  {
   "cell_type": "code",
   "execution_count": 81,
   "id": "15195381",
   "metadata": {},
   "outputs": [
    {
     "data": {
      "text/plain": [
       "{'price': 50000,\n",
       " 'computer': ['프린트', '모니터', 'RAM', 'Hdd'],\n",
       " 'coffee': ['americano', 'Latte', 'Mocha', 'Vanila Latte'],\n",
       " 'fruit': ['orange', 'peach', 'water melon', 'plum']}"
      ]
     },
     "execution_count": 81,
     "metadata": {},
     "output_type": "execute_result"
    }
   ],
   "source": [
    "# fruit의 plum를 추가해보자   \"append\"\n",
    "goods[\"fruit\"].append(\"plum\")\n",
    "goods"
   ]
  },
  {
   "cell_type": "code",
   "execution_count": 82,
   "id": "1a778877",
   "metadata": {},
   "outputs": [
    {
     "data": {
      "text/plain": [
       "{'price': 50000,\n",
       " 'computer': ['프린트', '모니터', 'RAM', 'Hdd'],\n",
       " 'coffee': ['americano', 'Latte', 'Mocha', 'Vanila Latte']}"
      ]
     },
     "execution_count": 82,
     "metadata": {},
     "output_type": "execute_result"
    }
   ],
   "source": [
    "# 항목을 완전히 삭제  \"remove\"\n",
    "del goods[\"fruit\"]\n",
    "goods"
   ]
  },
  {
   "cell_type": "code",
   "execution_count": 93,
   "id": "5708f701",
   "metadata": {},
   "outputs": [
    {
     "name": "stdout",
     "output_type": "stream",
     "text": [
      "{3: 3, 4: 1, 1: 3, 2: 2, 7: 2, 8: 1, 9: 1, 5: 2, 6: 3}\n"
     ]
    }
   ],
   "source": [
    "# 요소별 카운트를 딕셔너리로 만들기 -- 나의 풀이 \n",
    "numbers =[3,4,1,2,3,7,8,9,1,5,6,6,5,3,2,1,6,7]\n",
    "\n",
    "dic={}\n",
    "\n",
    "\n",
    "for num in numbers:\n",
    "    x = numbers.count(num) # 갯수\n",
    "    dic[num] = x  \n",
    "print(dic)\n",
    "  \n",
    "    \n",
    "    "
   ]
  },
  {
   "cell_type": "code",
   "execution_count": 97,
   "id": "ed448304",
   "metadata": {},
   "outputs": [
    {
     "name": "stdout",
     "output_type": "stream",
     "text": [
      "{3: 3, 4: 1, 1: 3, 2: 2, 7: 2, 8: 1, 9: 1, 5: 2, 6: 3}\n"
     ]
    }
   ],
   "source": [
    "# 요소별 카운트를 딕셔너리로 만들기 -- 해설 풀이 \n",
    "\n",
    "numbers =[3,4,1,2,3,7,8,9,1,5,6,6,5,3,2,1,6,7]\n",
    "dic = {}\n",
    "\n",
    "for num in numbers:\n",
    "    if num in dic:\n",
    "        dic[num] = dic[num] + 1\n",
    "    else:\n",
    "        dic[num] = 1\n",
    "print(dic)\n",
    "\n"
   ]
  },
  {
   "cell_type": "code",
   "execution_count": null,
   "id": "20a07b76",
   "metadata": {},
   "outputs": [],
   "source": [
    "# 공공데이터, API 사용을 위한 파이썬 라이브러리 \n",
    "\n",
    "\n",
    "# URL 인코딩(퍼센트인코딩?)\n",
    ">> URL에 문자를 표현하는 문자 인코딩 방법. \n",
    "# Why? 필요한가 \n",
    ">> GET 방식을 통해 HTTP 요청을 할 때 쿼리 파라미터가 붙는 경우가 생기는데, \n",
    "URL은 아스키코드값만 사용이 된다. 이 쿼리 파라미터에 한글이 포함될 경우, 아스키코드만으로는 표현을 할 수 없어서 \n",
    "URL 인코딩을 진행해야 한다. \n",
    "\n",
    "# 파이썬에서는 내장함수로 urllib라는 패키지를 사용해 url 인코딩을 진행할 수 있다. "
   ]
  },
  {
   "cell_type": "code",
   "execution_count": 14,
   "id": "1a384556",
   "metadata": {},
   "outputs": [
    {
     "name": "stdout",
     "output_type": "stream",
     "text": [
      "https\n",
      "google.com:80\n",
      "80\n",
      "/subpage/search.google\n",
      "name=홍길동&password=1234\n"
     ]
    }
   ],
   "source": [
    "from urllib import parse \n",
    "\n",
    "url = parse.urlparse(\"https://google.com:80/subpage/search.google?name=홍길동&password=1234\")\n",
    "\n",
    "print(url.scheme) # 통신방식 \n",
    "print(url.netloc) # 서버주소 \n",
    "print(url.port) # 포트번호 \n",
    "print(url.path) # 자료 위치 \n",
    "print(url.query) #  쿼리 값 \n",
    "\n"
   ]
  },
  {
   "cell_type": "code",
   "execution_count": 15,
   "id": "30b90ab3",
   "metadata": {},
   "outputs": [
    {
     "name": "stdout",
     "output_type": "stream",
     "text": [
      "ParseResult(scheme='https', netloc='google.com:80', path='/subpage/search.google', params='', query='name=홍길동&password=1234', fragment='')\n"
     ]
    }
   ],
   "source": [
    "print(url) # 위의 값을 한번에 출력 (parseresult)"
   ]
  },
  {
   "cell_type": "code",
   "execution_count": 16,
   "id": "0ea91b0d",
   "metadata": {},
   "outputs": [
    {
     "name": "stdout",
     "output_type": "stream",
     "text": [
      "https://google.com:80/subpage/search.google?name=홍길동&password=1234\n"
     ]
    }
   ],
   "source": [
    "# parseresult의 값을 다시 URL로 만들고자 한다면?\n",
    "# geturl() 도는 urlunparese() 메서드를 사용하자 \n",
    "print(url.geturl())"
   ]
  },
  {
   "cell_type": "code",
   "execution_count": 17,
   "id": "22ef92d1",
   "metadata": {},
   "outputs": [],
   "source": [
    "# parse_qs\n",
    "# qs --> query string \n",
    "# 쿼리 스트링이 문자열 형태로 이루어져 있는데, 값의 변경이나 분리를 용이하게 해 주는 함수들이 있는데 \n",
    "# parse_qs() // parse_qsl() (둘의 차이점?? 반환값이 다르다 )\n",
    "\n",
    "# 1. parse_qs >> 딕셔너리\n",
    "# 2. parse_qsl >> 리스트 "
   ]
  },
  {
   "cell_type": "code",
   "execution_count": 18,
   "id": "7c6dba3f",
   "metadata": {},
   "outputs": [
    {
     "name": "stdout",
     "output_type": "stream",
     "text": [
      "{'name': ['홍길동'], 'password': ['1234']}\n",
      "<class 'dict'>\n"
     ]
    }
   ],
   "source": [
    "# 1. parse_qs \n",
    "from urllib import parse\n",
    "url = parse.urlparse(\"https://google.com:80/subpage/search.google?name=홍길동&password=1234\")\n",
    "\n",
    "answer = parse.parse_qs(url.query)\n",
    "print(answer)\n",
    "print(type(answer))"
   ]
  },
  {
   "cell_type": "code",
   "execution_count": 19,
   "id": "ea46205f",
   "metadata": {},
   "outputs": [
    {
     "name": "stdout",
     "output_type": "stream",
     "text": [
      "[('name', '홍길동'), ('password', '1234')]\n",
      "<class 'list'>\n"
     ]
    }
   ],
   "source": [
    "answer = parse.parse_qsl(url.query)\n",
    "print(answer)\n",
    "print(type(answer))"
   ]
  },
  {
   "cell_type": "code",
   "execution_count": 20,
   "id": "230ff3e8",
   "metadata": {},
   "outputs": [
    {
     "data": {
      "text/plain": [
       "{'name': '홍길동', 'password': '1111'}"
      ]
     },
     "execution_count": 20,
     "metadata": {},
     "output_type": "execute_result"
    }
   ],
   "source": [
    "# urllib.parse 를 이용하여 password 변경하기 \n",
    "parse.parse_qsl(url.query) # [('name', '홍길동'), ('password', '1234')]\n",
    "test_qs = dict(parse.parse_qsl(url.query))\n",
    "test_qs # {'name': '홍길동', 'password': '1234'}\n",
    "test_qs[\"password\"] = \"1111\"\n",
    "test_qs  # {'name': '홍길동', 'password': '1111'}\n"
   ]
  },
  {
   "cell_type": "code",
   "execution_count": 30,
   "id": "9013c5a0",
   "metadata": {},
   "outputs": [
    {
     "data": {
      "text/plain": [
       "{'name': ['홍길동'], 'password': ['1234']}"
      ]
     },
     "execution_count": 30,
     "metadata": {},
     "output_type": "execute_result"
    }
   ],
   "source": [
    "# urlencode() 메서드 사용\n",
    "# 쿼리 스트링 parameter를 Encoding하기 위해서 --> urlencode() 메서드 사용\n",
    "# 인코딩된 쿼리스트링은 문자열로 반환\n",
    "\n",
    "from urllib.parse import urlparse,parse_qs,parse_qsl, urlencode\n",
    "\n",
    "url = parse.urlparse(\"https://google.com:80/subpage/search.google?name=홍길동&password=1234\")\n",
    "\n",
    "query = parse.parse_qs(url.query) # {'name': ['홍길동'], 'password': ['1234']}\n",
    "query # 딕셔너리 타입 \n",
    " "
   ]
  },
  {
   "cell_type": "code",
   "execution_count": 27,
   "id": "376dbd04",
   "metadata": {},
   "outputs": [
    {
     "data": {
      "text/plain": [
       "'name=%ED%99%8D%EA%B8%B8%EB%8F%99&password=1234'"
      ]
     },
     "execution_count": 27,
     "metadata": {},
     "output_type": "execute_result"
    }
   ],
   "source": [
    "result = parse.urlencode(query, doseq=True)\n",
    "result "
   ]
  },
  {
   "cell_type": "code",
   "execution_count": 34,
   "id": "ae45b68e",
   "metadata": {},
   "outputs": [
    {
     "name": "stdout",
     "output_type": "stream",
     "text": [
      "name=%5B%27%ED%99%8D%EA%B8%B8%EB%8F%99%27%5D&password=%5B%271234%27%5D\n",
      "<class 'str'>\n"
     ]
    }
   ],
   "source": [
    "result = parse.urlencode(query, doseq=False)  # doseq=False가 default값\n",
    "print(result)\n",
    "print(type(result))"
   ]
  },
  {
   "cell_type": "code",
   "execution_count": 35,
   "id": "1cca4c2d",
   "metadata": {},
   "outputs": [
    {
     "name": "stdout",
     "output_type": "stream",
     "text": [
      "aaa=111&bbb=%5B%27222%27%2C+%27333%27%5D\n",
      "aaa=111&bbb=222&bbb=333\n"
     ]
    }
   ],
   "source": [
    "# doseq 옵션 사용 2 \n",
    "\n",
    "params = {\"aaa\":\"111\", \"bbb\":[\"222\",\"333\"]}\n",
    "\n",
    "result1 = urlencode(params) # doseq = False\n",
    "result2 = urlencode(params, doseq = True)\n",
    "print(result1)\n",
    "print(result2)"
   ]
  },
  {
   "cell_type": "code",
   "execution_count": 36,
   "id": "76f49d50",
   "metadata": {},
   "outputs": [
    {
     "data": {
      "text/plain": [
       "'%EB%8C%80%ED%95%9C%EB%AF%BC%EA%B5%AD'"
      ]
     },
     "execution_count": 36,
     "metadata": {},
     "output_type": "execute_result"
    }
   ],
   "source": [
    "# quote, unquote \n",
    "\n",
    "# url에 한글이 포함될 경우 오류가 나기도 하는데 이떄 한그을 URL 인코더로 인코딩해서 입력해줘야 한다. \n",
    "# 이때, 간편히 처리하고자 한다면 quote , unquote 메서드를 사용해도 좋다 \n",
    "\n",
    "# quote(): 한글 --> url \n",
    "# unquote(): url -- > 한글 \n",
    "\n",
    "from urllib.parse import quote, unquote \n",
    "\n",
    "qt = quote(\"대한민국\")\n",
    "qt"
   ]
  },
  {
   "cell_type": "code",
   "execution_count": 37,
   "id": "5cc98b22",
   "metadata": {},
   "outputs": [
    {
     "data": {
      "text/plain": [
       "'대한민국'"
      ]
     },
     "execution_count": 37,
     "metadata": {},
     "output_type": "execute_result"
    }
   ],
   "source": [
    "unquote('%EB%8C%80%ED%95%9C%EB%AF%BC%EA%B5%AD')"
   ]
  },
  {
   "cell_type": "code",
   "execution_count": 66,
   "id": "be80b5b5",
   "metadata": {},
   "outputs": [
    {
     "name": "stdout",
     "output_type": "stream",
     "text": [
      "http://apis.data.go.kr/B552061/jaywalking/getRestJaywalking?ServiceKey=MsPH6%2BcM2KEPP%2BntSoiJ0Klj5yPyQWuUBMfUWKY7%2BxN4AfevkwBCVQxU5Ok1GK3%2FczQAxYGvd2XEmRRKhNYK%2Fw%3D%3D&searchYearCd=2017&siDo=11&guGun=680&type=json&numOfRows=10&pageNo=1\n",
      "<Response [200]>\n"
     ]
    }
   ],
   "source": [
    "from urllib.parse import urlencode, unquote \n",
    "import requests\n",
    "import json \n",
    "url = \"http://apis.data.go.kr/B552061/jaywalking/getRestJaywalking\"\n",
    "\n",
    "queryString=\"?\"+urlencode(\n",
    "   {  \n",
    "       \"ServiceKey\":unquote(\"MsPH6%2BcM2KEPP%2BntSoiJ0Klj5yPyQWuUBMfUWKY7%2BxN4AfevkwBCVQxU5Ok1GK3%2FczQAxYGvd2XEmRRKhNYK%2Fw%3D%3D\"),\n",
    "       \"searchYearCd\":\"2017\",\n",
    "       \"siDo\":\"11\",\n",
    "       \"guGun\":\"680\",\n",
    "       \"type\":\"json\",\n",
    "       \"numOfRows\":\"10\",\n",
    "       \"pageNo\":\"1\"      \n",
    "     }\n",
    ")\n",
    "\n",
    "queryURL = url + queryString \n",
    "response = requests.get(queryURL)\n",
    "print(queryURL)\n",
    "print(response)  # 200\n"
   ]
  },
  {
   "cell_type": "code",
   "execution_count": 67,
   "id": "f45e18a5",
   "metadata": {},
   "outputs": [
    {
     "name": "stdout",
     "output_type": "stream",
     "text": [
      "{\"resultCode\":\"00\",\"resultMsg\":\"NORMAL_CODE\",\"items\":{\"item\":[{\"afos_fid\":6430722,\"afos_id\":\"2018045\",\"bjd_cd\":\"1168010800\",\"spot_cd\":\"112211001\",\"sido_sgg_nm\":\"서울 서울강남1\",\"spot_nm\":\"서울특별시 강남구 논현동(신논현역 부근)\",\"occrrnc_cnt\":10,\"caslt_cnt\":11,\"dth_dnv_cnt\":1,\"se_dnv_cnt\":4,\"sl_dnv_cnt\":6,\"wnd_dnv_cnt\":0,\"geom_json\":\"{\\\"type\\\":\\\"Polygon\\\",\\\"coordinates\\\":[[[127.02518392,37.50419679],[127.02513214,37.5037797],[127.02497878,37.50337864],[127.02472974,37.50300901],[127.02439459,37.50268503],[127.02398621,37.50241915],[127.02352029,37.50222158],[127.02301474,37.50209991],[127.02248898,37.50205883],[127.02196322,37.50209991],[127.02145767,37.50222158],[127.02099175,37.50241915],[127.02058336,37.50268503],[127.02024821,37.50300901],[127.01999917,37.50337864],[127.01984582,37.5037797],[127.01979403,37.50419679],[127.01984582,37.50461387],[127.01999917,37.50501493],[127.02024821,37.50538455],[127.02058336,37.50570851],[127.02099175,37.50597439],[127.02145767,37.50617195],[127.02196322,37.5062936],[127.02248898,37.50633468],[127.02301474,37.5062936],[127.02352029,37.50617195],[127.02398621,37.50597439],[127.02439459,37.50570851],[127.02472974,37.50538455],[127.02497878,37.50501493],[127.02513214,37.50461387],[127.02518392,37.50419679]]]}\",\"lo_crd\":\"127.022488978485\",\"la_crd\":\"37.504196787752\"},{\"afos_fid\":6429450,\"afos_id\":\"2018045\",\"bjd_cd\":\"1168010100\",\"spot_cd\":\"112211002\",\"sido_sgg_nm\":\"서울 서울강남2\",\"spot_nm\":\"서울특별시 강남구 역삼동(현대해상강남타워 부근)\",\"occrrnc_cnt\":7,\"caslt_cnt\":9,\"dth_dnv_cnt\":1,\"se_dnv_cnt\":5,\"sl_dnv_cnt\":2,\"wnd_dnv_cnt\":1,\"geom_json\":\"{\\\"type\\\":\\\"Polygon\\\",\\\"coordinates\\\":[[[127.0368177,37.50007897],[127.03676591,37.49966185],[127.03661255,37.49926077],[127.03636352,37.49889112],[127.03602836,37.49856713],[127.03561998,37.49830123],[127.03515406,37.49810365],[127.03464851,37.49798198],[127.03412275,37.49794089],[127.03359699,37.49798198],[127.03309144,37.49810365],[127.03262552,37.49830123],[127.03221714,37.49856713],[127.03188198,37.49889112],[127.03163294,37.49926077],[127.03147959,37.49966185],[127.0314278,37.50007897],[127.03147959,37.50049608],[127.03163294,37.50089716],[127.03188198,37.50126679],[127.03221714,37.50159078],[127.03262552,37.50185666],[127.03309144,37.50205423],[127.03359699,37.5021759],[127.03412275,37.50221698],[127.03464851,37.5021759],[127.03515406,37.50205423],[127.03561998,37.50185666],[127.03602836,37.50159078],[127.03636352,37.50126679],[127.03661255,37.50089716],[127.03676591,37.50049608],[127.0368177,37.50007897]]]}\",\"lo_crd\":\"127.034122749666\",\"la_crd\":\"37.500078966572\"},{\"afos_fid\":6430399,\"afos_id\":\"2018045\",\"bjd_cd\":\"1168010800\",\"spot_cd\":\"112211003\",\"sido_sgg_nm\":\"서울 서울강남3\",\"spot_nm\":\"서울특별시 강남구 논현동(사진박물관 부근)\",\"occrrnc_cnt\":5,\"caslt_cnt\":6,\"dth_dnv_cnt\":0,\"se_dnv_cnt\":3,\"sl_dnv_cnt\":3,\"wnd_dnv_cnt\":0,\"geom_json\":\"{\\\"type\\\":\\\"Polygon\\\",\\\"coordinates\\\":[[[127.02732594,37.5183978],[127.02727415,37.51798079],[127.0271208,37.5175798],[127.02687176,37.51721025],[127.02653661,37.51688633],[127.02612822,37.5166205],[127.0256623,37.51642296],[127.02515675,37.51630132],[127.02463099,37.51626025],[127.02410523,37.51630132],[127.02359968,37.51642296],[127.02313376,37.5166205],[127.02272538,37.51688633],[127.02239023,37.51721025],[127.02214119,37.5175798],[127.02198783,37.51798079],[127.02193605,37.5183978],[127.02198783,37.51881481],[127.02214119,37.51921579],[127.02239023,37.51958533],[127.02272538,37.51990924],[127.02313376,37.52017506],[127.02359968,37.52037258],[127.02410523,37.52049421],[127.02463099,37.52053529],[127.02515675,37.52049421],[127.0256623,37.52037258],[127.02612822,37.52017506],[127.02653661,37.51990924],[127.02687176,37.51958533],[127.0271208,37.51921579],[127.02727415,37.51881481],[127.02732594,37.5183978]]]}\",\"lo_crd\":\"127.024630990929\",\"la_crd\":\"37.51839779872\"},{\"afos_fid\":6430422,\"afos_id\":\"2018045\",\"bjd_cd\":\"1168010600\",\"spot_cd\":\"113411001\",\"sido_sgg_nm\":\"서울 서울수서1\",\"spot_nm\":\"서울특별시 강남구 대치동(은마아파트입구교차로 부근)\",\"occrrnc_cnt\":4,\"caslt_cnt\":4,\"dth_dnv_cnt\":0,\"se_dnv_cnt\":2,\"sl_dnv_cnt\":2,\"wnd_dnv_cnt\":0,\"geom_json\":\"{\\\"type\\\":\\\"Polygon\\\",\\\"coordinates\\\":[[[127.06242437,37.5012498],[127.06237259,37.50083269],[127.06221923,37.50043161],[127.06197019,37.50006197],[127.06163504,37.49973798],[127.06122666,37.49947209],[127.06076074,37.49927451],[127.06025519,37.49915284],[127.05972943,37.49911176],[127.05920367,37.49915284],[127.05869812,37.49927451],[127.0582322,37.49947209],[127.05782381,37.49973798],[127.05748866,37.50006197],[127.05723962,37.50043161],[127.05708626,37.50083269],[127.05703448,37.5012498],[127.05708626,37.5016669],[127.05723962,37.50206797],[127.05748866,37.5024376],[127.05782381,37.50276158],[127.0582322,37.50302746],[127.05869812,37.50322503],[127.05920367,37.50334669],[127.05972943,37.50338777],[127.06025519,37.50334669],[127.06076074,37.50322503],[127.06122666,37.50302746],[127.06163504,37.50276158],[127.06197019,37.5024376],[127.06221923,37.50206797],[127.06237259,37.5016669],[127.06242437,37.5012498]]]}\",\"lo_crd\":\"127.059729427772\",\"la_crd\":\"37.501249795742\"},{\"afos_fid\":6429783,\"afos_id\":\"2018045\",\"bjd_cd\":\"1168010600\",\"spot_cd\":\"113411002\",\"sido_sgg_nm\":\"서울 서울수서2\",\"spot_nm\":\"서울특별시 강남구 대치동(한나라한의원 부근)\",\"occrrnc_cnt\":4,\"caslt_cnt\":4,\"dth_dnv_cnt\":0,\"se_dnv_cnt\":2,\"sl_dnv_cnt\":2,\"wnd_dnv_cnt\":0,\"geom_json\":\"{\\\"type\\\":\\\"Polygon\\\",\\\"coordinates\\\":[[[127.05574583,37.50583564],[127.05569404,37.50541856],[127.05554069,37.5050175],[127.05529165,37.50464789],[127.0549565,37.50432391],[127.05454811,37.50405804],[127.05408219,37.50386047],[127.05357664,37.50373881],[127.05305088,37.50369773],[127.05252512,37.50373881],[127.05201957,37.50386047],[127.05155365,37.50405804],[127.05114527,37.50432391],[127.05081012,37.50464789],[127.05056108,37.5050175],[127.05040772,37.50541856],[127.05035593,37.50583564],[127.05040772,37.50625271],[127.05056108,37.50665376],[127.05081012,37.50702337],[127.05114527,37.50734733],[127.05155365,37.5076132],[127.05201957,37.50781075],[127.05252512,37.50793241],[127.05305088,37.50797348],[127.05357664,37.50793241],[127.05408219,37.50781075],[127.05454811,37.5076132],[127.0549565,37.50734733],[127.05529165,37.50702337],[127.05554069,37.50665376],[127.05569404,37.50625271],[127.05574583,37.50583564]]]}\",\"lo_crd\":\"127.053050880595\",\"la_crd\":\"37.505835636706\"}]},\"totalCount\":5,\"numOfRows\":5,\"pageNo\":1}\n",
      "<class 'str'>\n"
     ]
    }
   ],
   "source": [
    "print(response.text) \n",
    "print(type(response.text))"
   ]
  },
  {
   "cell_type": "code",
   "execution_count": 95,
   "id": "c0838a86",
   "metadata": {},
   "outputs": [
    {
     "data": {
      "text/plain": [
       "{'resultCode': '00',\n",
       " 'resultMsg': 'NORMAL_CODE',\n",
       " 'items': {'item': [{'afos_fid': 6430722,\n",
       "    'afos_id': '2018045',\n",
       "    'bjd_cd': '1168010800',\n",
       "    'spot_cd': '112211001',\n",
       "    'sido_sgg_nm': '서울 서울강남1',\n",
       "    'spot_nm': '서울특별시 강남구 논현동(신논현역 부근)',\n",
       "    'occrrnc_cnt': 10,\n",
       "    'caslt_cnt': 11,\n",
       "    'dth_dnv_cnt': 1,\n",
       "    'se_dnv_cnt': 4,\n",
       "    'sl_dnv_cnt': 6,\n",
       "    'wnd_dnv_cnt': 0,\n",
       "    'geom_json': '{\"type\":\"Polygon\",\"coordinates\":[[[127.02518392,37.50419679],[127.02513214,37.5037797],[127.02497878,37.50337864],[127.02472974,37.50300901],[127.02439459,37.50268503],[127.02398621,37.50241915],[127.02352029,37.50222158],[127.02301474,37.50209991],[127.02248898,37.50205883],[127.02196322,37.50209991],[127.02145767,37.50222158],[127.02099175,37.50241915],[127.02058336,37.50268503],[127.02024821,37.50300901],[127.01999917,37.50337864],[127.01984582,37.5037797],[127.01979403,37.50419679],[127.01984582,37.50461387],[127.01999917,37.50501493],[127.02024821,37.50538455],[127.02058336,37.50570851],[127.02099175,37.50597439],[127.02145767,37.50617195],[127.02196322,37.5062936],[127.02248898,37.50633468],[127.02301474,37.5062936],[127.02352029,37.50617195],[127.02398621,37.50597439],[127.02439459,37.50570851],[127.02472974,37.50538455],[127.02497878,37.50501493],[127.02513214,37.50461387],[127.02518392,37.50419679]]]}',\n",
       "    'lo_crd': '127.022488978485',\n",
       "    'la_crd': '37.504196787752'},\n",
       "   {'afos_fid': 6429450,\n",
       "    'afos_id': '2018045',\n",
       "    'bjd_cd': '1168010100',\n",
       "    'spot_cd': '112211002',\n",
       "    'sido_sgg_nm': '서울 서울강남2',\n",
       "    'spot_nm': '서울특별시 강남구 역삼동(현대해상강남타워 부근)',\n",
       "    'occrrnc_cnt': 7,\n",
       "    'caslt_cnt': 9,\n",
       "    'dth_dnv_cnt': 1,\n",
       "    'se_dnv_cnt': 5,\n",
       "    'sl_dnv_cnt': 2,\n",
       "    'wnd_dnv_cnt': 1,\n",
       "    'geom_json': '{\"type\":\"Polygon\",\"coordinates\":[[[127.0368177,37.50007897],[127.03676591,37.49966185],[127.03661255,37.49926077],[127.03636352,37.49889112],[127.03602836,37.49856713],[127.03561998,37.49830123],[127.03515406,37.49810365],[127.03464851,37.49798198],[127.03412275,37.49794089],[127.03359699,37.49798198],[127.03309144,37.49810365],[127.03262552,37.49830123],[127.03221714,37.49856713],[127.03188198,37.49889112],[127.03163294,37.49926077],[127.03147959,37.49966185],[127.0314278,37.50007897],[127.03147959,37.50049608],[127.03163294,37.50089716],[127.03188198,37.50126679],[127.03221714,37.50159078],[127.03262552,37.50185666],[127.03309144,37.50205423],[127.03359699,37.5021759],[127.03412275,37.50221698],[127.03464851,37.5021759],[127.03515406,37.50205423],[127.03561998,37.50185666],[127.03602836,37.50159078],[127.03636352,37.50126679],[127.03661255,37.50089716],[127.03676591,37.50049608],[127.0368177,37.50007897]]]}',\n",
       "    'lo_crd': '127.034122749666',\n",
       "    'la_crd': '37.500078966572'},\n",
       "   {'afos_fid': 6430399,\n",
       "    'afos_id': '2018045',\n",
       "    'bjd_cd': '1168010800',\n",
       "    'spot_cd': '112211003',\n",
       "    'sido_sgg_nm': '서울 서울강남3',\n",
       "    'spot_nm': '서울특별시 강남구 논현동(사진박물관 부근)',\n",
       "    'occrrnc_cnt': 5,\n",
       "    'caslt_cnt': 6,\n",
       "    'dth_dnv_cnt': 0,\n",
       "    'se_dnv_cnt': 3,\n",
       "    'sl_dnv_cnt': 3,\n",
       "    'wnd_dnv_cnt': 0,\n",
       "    'geom_json': '{\"type\":\"Polygon\",\"coordinates\":[[[127.02732594,37.5183978],[127.02727415,37.51798079],[127.0271208,37.5175798],[127.02687176,37.51721025],[127.02653661,37.51688633],[127.02612822,37.5166205],[127.0256623,37.51642296],[127.02515675,37.51630132],[127.02463099,37.51626025],[127.02410523,37.51630132],[127.02359968,37.51642296],[127.02313376,37.5166205],[127.02272538,37.51688633],[127.02239023,37.51721025],[127.02214119,37.5175798],[127.02198783,37.51798079],[127.02193605,37.5183978],[127.02198783,37.51881481],[127.02214119,37.51921579],[127.02239023,37.51958533],[127.02272538,37.51990924],[127.02313376,37.52017506],[127.02359968,37.52037258],[127.02410523,37.52049421],[127.02463099,37.52053529],[127.02515675,37.52049421],[127.0256623,37.52037258],[127.02612822,37.52017506],[127.02653661,37.51990924],[127.02687176,37.51958533],[127.0271208,37.51921579],[127.02727415,37.51881481],[127.02732594,37.5183978]]]}',\n",
       "    'lo_crd': '127.024630990929',\n",
       "    'la_crd': '37.51839779872'},\n",
       "   {'afos_fid': 6430422,\n",
       "    'afos_id': '2018045',\n",
       "    'bjd_cd': '1168010600',\n",
       "    'spot_cd': '113411001',\n",
       "    'sido_sgg_nm': '서울 서울수서1',\n",
       "    'spot_nm': '서울특별시 강남구 대치동(은마아파트입구교차로 부근)',\n",
       "    'occrrnc_cnt': 4,\n",
       "    'caslt_cnt': 4,\n",
       "    'dth_dnv_cnt': 0,\n",
       "    'se_dnv_cnt': 2,\n",
       "    'sl_dnv_cnt': 2,\n",
       "    'wnd_dnv_cnt': 0,\n",
       "    'geom_json': '{\"type\":\"Polygon\",\"coordinates\":[[[127.06242437,37.5012498],[127.06237259,37.50083269],[127.06221923,37.50043161],[127.06197019,37.50006197],[127.06163504,37.49973798],[127.06122666,37.49947209],[127.06076074,37.49927451],[127.06025519,37.49915284],[127.05972943,37.49911176],[127.05920367,37.49915284],[127.05869812,37.49927451],[127.0582322,37.49947209],[127.05782381,37.49973798],[127.05748866,37.50006197],[127.05723962,37.50043161],[127.05708626,37.50083269],[127.05703448,37.5012498],[127.05708626,37.5016669],[127.05723962,37.50206797],[127.05748866,37.5024376],[127.05782381,37.50276158],[127.0582322,37.50302746],[127.05869812,37.50322503],[127.05920367,37.50334669],[127.05972943,37.50338777],[127.06025519,37.50334669],[127.06076074,37.50322503],[127.06122666,37.50302746],[127.06163504,37.50276158],[127.06197019,37.5024376],[127.06221923,37.50206797],[127.06237259,37.5016669],[127.06242437,37.5012498]]]}',\n",
       "    'lo_crd': '127.059729427772',\n",
       "    'la_crd': '37.501249795742'},\n",
       "   {'afos_fid': 6429783,\n",
       "    'afos_id': '2018045',\n",
       "    'bjd_cd': '1168010600',\n",
       "    'spot_cd': '113411002',\n",
       "    'sido_sgg_nm': '서울 서울수서2',\n",
       "    'spot_nm': '서울특별시 강남구 대치동(한나라한의원 부근)',\n",
       "    'occrrnc_cnt': 4,\n",
       "    'caslt_cnt': 4,\n",
       "    'dth_dnv_cnt': 0,\n",
       "    'se_dnv_cnt': 2,\n",
       "    'sl_dnv_cnt': 2,\n",
       "    'wnd_dnv_cnt': 0,\n",
       "    'geom_json': '{\"type\":\"Polygon\",\"coordinates\":[[[127.05574583,37.50583564],[127.05569404,37.50541856],[127.05554069,37.5050175],[127.05529165,37.50464789],[127.0549565,37.50432391],[127.05454811,37.50405804],[127.05408219,37.50386047],[127.05357664,37.50373881],[127.05305088,37.50369773],[127.05252512,37.50373881],[127.05201957,37.50386047],[127.05155365,37.50405804],[127.05114527,37.50432391],[127.05081012,37.50464789],[127.05056108,37.5050175],[127.05040772,37.50541856],[127.05035593,37.50583564],[127.05040772,37.50625271],[127.05056108,37.50665376],[127.05081012,37.50702337],[127.05114527,37.50734733],[127.05155365,37.5076132],[127.05201957,37.50781075],[127.05252512,37.50793241],[127.05305088,37.50797348],[127.05357664,37.50793241],[127.05408219,37.50781075],[127.05454811,37.5076132],[127.0549565,37.50734733],[127.05529165,37.50702337],[127.05554069,37.50665376],[127.05569404,37.50625271],[127.05574583,37.50583564]]]}',\n",
       "    'lo_crd': '127.053050880595',\n",
       "    'la_crd': '37.505835636706'}]},\n",
       " 'totalCount': 5,\n",
       " 'numOfRows': 5,\n",
       " 'pageNo': 1}"
      ]
     },
     "execution_count": 95,
     "metadata": {},
     "output_type": "execute_result"
    }
   ],
   "source": [
    "# 공공 API 에서 제공받은 Json데이터를 원하는 값들만 출력 \n",
    "jsonObj = json.loads(response.text)\n",
    "type(jsonObj) # dict\n",
    "jsonObj"
   ]
  },
  {
   "cell_type": "code",
   "execution_count": 100,
   "id": "ff1921ca",
   "metadata": {},
   "outputs": [
    {
     "data": {
      "text/plain": [
       "{'item': [{'afos_fid': 6430722,\n",
       "   'afos_id': '2018045',\n",
       "   'bjd_cd': '1168010800',\n",
       "   'spot_cd': '112211001',\n",
       "   'sido_sgg_nm': '서울 서울강남1',\n",
       "   'spot_nm': '서울특별시 강남구 논현동(신논현역 부근)',\n",
       "   'occrrnc_cnt': 10,\n",
       "   'caslt_cnt': 11,\n",
       "   'dth_dnv_cnt': 1,\n",
       "   'se_dnv_cnt': 4,\n",
       "   'sl_dnv_cnt': 6,\n",
       "   'wnd_dnv_cnt': 0,\n",
       "   'geom_json': '{\"type\":\"Polygon\",\"coordinates\":[[[127.02518392,37.50419679],[127.02513214,37.5037797],[127.02497878,37.50337864],[127.02472974,37.50300901],[127.02439459,37.50268503],[127.02398621,37.50241915],[127.02352029,37.50222158],[127.02301474,37.50209991],[127.02248898,37.50205883],[127.02196322,37.50209991],[127.02145767,37.50222158],[127.02099175,37.50241915],[127.02058336,37.50268503],[127.02024821,37.50300901],[127.01999917,37.50337864],[127.01984582,37.5037797],[127.01979403,37.50419679],[127.01984582,37.50461387],[127.01999917,37.50501493],[127.02024821,37.50538455],[127.02058336,37.50570851],[127.02099175,37.50597439],[127.02145767,37.50617195],[127.02196322,37.5062936],[127.02248898,37.50633468],[127.02301474,37.5062936],[127.02352029,37.50617195],[127.02398621,37.50597439],[127.02439459,37.50570851],[127.02472974,37.50538455],[127.02497878,37.50501493],[127.02513214,37.50461387],[127.02518392,37.50419679]]]}',\n",
       "   'lo_crd': '127.022488978485',\n",
       "   'la_crd': '37.504196787752'},\n",
       "  {'afos_fid': 6429450,\n",
       "   'afos_id': '2018045',\n",
       "   'bjd_cd': '1168010100',\n",
       "   'spot_cd': '112211002',\n",
       "   'sido_sgg_nm': '서울 서울강남2',\n",
       "   'spot_nm': '서울특별시 강남구 역삼동(현대해상강남타워 부근)',\n",
       "   'occrrnc_cnt': 7,\n",
       "   'caslt_cnt': 9,\n",
       "   'dth_dnv_cnt': 1,\n",
       "   'se_dnv_cnt': 5,\n",
       "   'sl_dnv_cnt': 2,\n",
       "   'wnd_dnv_cnt': 1,\n",
       "   'geom_json': '{\"type\":\"Polygon\",\"coordinates\":[[[127.0368177,37.50007897],[127.03676591,37.49966185],[127.03661255,37.49926077],[127.03636352,37.49889112],[127.03602836,37.49856713],[127.03561998,37.49830123],[127.03515406,37.49810365],[127.03464851,37.49798198],[127.03412275,37.49794089],[127.03359699,37.49798198],[127.03309144,37.49810365],[127.03262552,37.49830123],[127.03221714,37.49856713],[127.03188198,37.49889112],[127.03163294,37.49926077],[127.03147959,37.49966185],[127.0314278,37.50007897],[127.03147959,37.50049608],[127.03163294,37.50089716],[127.03188198,37.50126679],[127.03221714,37.50159078],[127.03262552,37.50185666],[127.03309144,37.50205423],[127.03359699,37.5021759],[127.03412275,37.50221698],[127.03464851,37.5021759],[127.03515406,37.50205423],[127.03561998,37.50185666],[127.03602836,37.50159078],[127.03636352,37.50126679],[127.03661255,37.50089716],[127.03676591,37.50049608],[127.0368177,37.50007897]]]}',\n",
       "   'lo_crd': '127.034122749666',\n",
       "   'la_crd': '37.500078966572'},\n",
       "  {'afos_fid': 6430399,\n",
       "   'afos_id': '2018045',\n",
       "   'bjd_cd': '1168010800',\n",
       "   'spot_cd': '112211003',\n",
       "   'sido_sgg_nm': '서울 서울강남3',\n",
       "   'spot_nm': '서울특별시 강남구 논현동(사진박물관 부근)',\n",
       "   'occrrnc_cnt': 5,\n",
       "   'caslt_cnt': 6,\n",
       "   'dth_dnv_cnt': 0,\n",
       "   'se_dnv_cnt': 3,\n",
       "   'sl_dnv_cnt': 3,\n",
       "   'wnd_dnv_cnt': 0,\n",
       "   'geom_json': '{\"type\":\"Polygon\",\"coordinates\":[[[127.02732594,37.5183978],[127.02727415,37.51798079],[127.0271208,37.5175798],[127.02687176,37.51721025],[127.02653661,37.51688633],[127.02612822,37.5166205],[127.0256623,37.51642296],[127.02515675,37.51630132],[127.02463099,37.51626025],[127.02410523,37.51630132],[127.02359968,37.51642296],[127.02313376,37.5166205],[127.02272538,37.51688633],[127.02239023,37.51721025],[127.02214119,37.5175798],[127.02198783,37.51798079],[127.02193605,37.5183978],[127.02198783,37.51881481],[127.02214119,37.51921579],[127.02239023,37.51958533],[127.02272538,37.51990924],[127.02313376,37.52017506],[127.02359968,37.52037258],[127.02410523,37.52049421],[127.02463099,37.52053529],[127.02515675,37.52049421],[127.0256623,37.52037258],[127.02612822,37.52017506],[127.02653661,37.51990924],[127.02687176,37.51958533],[127.0271208,37.51921579],[127.02727415,37.51881481],[127.02732594,37.5183978]]]}',\n",
       "   'lo_crd': '127.024630990929',\n",
       "   'la_crd': '37.51839779872'},\n",
       "  {'afos_fid': 6430422,\n",
       "   'afos_id': '2018045',\n",
       "   'bjd_cd': '1168010600',\n",
       "   'spot_cd': '113411001',\n",
       "   'sido_sgg_nm': '서울 서울수서1',\n",
       "   'spot_nm': '서울특별시 강남구 대치동(은마아파트입구교차로 부근)',\n",
       "   'occrrnc_cnt': 4,\n",
       "   'caslt_cnt': 4,\n",
       "   'dth_dnv_cnt': 0,\n",
       "   'se_dnv_cnt': 2,\n",
       "   'sl_dnv_cnt': 2,\n",
       "   'wnd_dnv_cnt': 0,\n",
       "   'geom_json': '{\"type\":\"Polygon\",\"coordinates\":[[[127.06242437,37.5012498],[127.06237259,37.50083269],[127.06221923,37.50043161],[127.06197019,37.50006197],[127.06163504,37.49973798],[127.06122666,37.49947209],[127.06076074,37.49927451],[127.06025519,37.49915284],[127.05972943,37.49911176],[127.05920367,37.49915284],[127.05869812,37.49927451],[127.0582322,37.49947209],[127.05782381,37.49973798],[127.05748866,37.50006197],[127.05723962,37.50043161],[127.05708626,37.50083269],[127.05703448,37.5012498],[127.05708626,37.5016669],[127.05723962,37.50206797],[127.05748866,37.5024376],[127.05782381,37.50276158],[127.0582322,37.50302746],[127.05869812,37.50322503],[127.05920367,37.50334669],[127.05972943,37.50338777],[127.06025519,37.50334669],[127.06076074,37.50322503],[127.06122666,37.50302746],[127.06163504,37.50276158],[127.06197019,37.5024376],[127.06221923,37.50206797],[127.06237259,37.5016669],[127.06242437,37.5012498]]]}',\n",
       "   'lo_crd': '127.059729427772',\n",
       "   'la_crd': '37.501249795742'},\n",
       "  {'afos_fid': 6429783,\n",
       "   'afos_id': '2018045',\n",
       "   'bjd_cd': '1168010600',\n",
       "   'spot_cd': '113411002',\n",
       "   'sido_sgg_nm': '서울 서울수서2',\n",
       "   'spot_nm': '서울특별시 강남구 대치동(한나라한의원 부근)',\n",
       "   'occrrnc_cnt': 4,\n",
       "   'caslt_cnt': 4,\n",
       "   'dth_dnv_cnt': 0,\n",
       "   'se_dnv_cnt': 2,\n",
       "   'sl_dnv_cnt': 2,\n",
       "   'wnd_dnv_cnt': 0,\n",
       "   'geom_json': '{\"type\":\"Polygon\",\"coordinates\":[[[127.05574583,37.50583564],[127.05569404,37.50541856],[127.05554069,37.5050175],[127.05529165,37.50464789],[127.0549565,37.50432391],[127.05454811,37.50405804],[127.05408219,37.50386047],[127.05357664,37.50373881],[127.05305088,37.50369773],[127.05252512,37.50373881],[127.05201957,37.50386047],[127.05155365,37.50405804],[127.05114527,37.50432391],[127.05081012,37.50464789],[127.05056108,37.5050175],[127.05040772,37.50541856],[127.05035593,37.50583564],[127.05040772,37.50625271],[127.05056108,37.50665376],[127.05081012,37.50702337],[127.05114527,37.50734733],[127.05155365,37.5076132],[127.05201957,37.50781075],[127.05252512,37.50793241],[127.05305088,37.50797348],[127.05357664,37.50793241],[127.05408219,37.50781075],[127.05454811,37.5076132],[127.0549565,37.50734733],[127.05529165,37.50702337],[127.05554069,37.50665376],[127.05569404,37.50625271],[127.05574583,37.50583564]]]}',\n",
       "   'lo_crd': '127.053050880595',\n",
       "   'la_crd': '37.505835636706'}]}"
      ]
     },
     "execution_count": 100,
     "metadata": {},
     "output_type": "execute_result"
    }
   ],
   "source": [
    "jsonItems = jsonObj.get(\"items\")\n",
    "jsonItem = jsonItems.get(\"item\")\n",
    "jsonItems\n",
    "    "
   ]
  },
  {
   "cell_type": "code",
   "execution_count": 102,
   "id": "78d178b6",
   "metadata": {},
   "outputs": [
    {
     "data": {
      "text/plain": [
       "[{'afos_fid': 6430722,\n",
       "  'afos_id': '2018045',\n",
       "  'bjd_cd': '1168010800',\n",
       "  'spot_cd': '112211001',\n",
       "  'sido_sgg_nm': '서울 서울강남1',\n",
       "  'spot_nm': '서울특별시 강남구 논현동(신논현역 부근)',\n",
       "  'occrrnc_cnt': 10,\n",
       "  'caslt_cnt': 11,\n",
       "  'dth_dnv_cnt': 1,\n",
       "  'se_dnv_cnt': 4,\n",
       "  'sl_dnv_cnt': 6,\n",
       "  'wnd_dnv_cnt': 0,\n",
       "  'geom_json': '{\"type\":\"Polygon\",\"coordinates\":[[[127.02518392,37.50419679],[127.02513214,37.5037797],[127.02497878,37.50337864],[127.02472974,37.50300901],[127.02439459,37.50268503],[127.02398621,37.50241915],[127.02352029,37.50222158],[127.02301474,37.50209991],[127.02248898,37.50205883],[127.02196322,37.50209991],[127.02145767,37.50222158],[127.02099175,37.50241915],[127.02058336,37.50268503],[127.02024821,37.50300901],[127.01999917,37.50337864],[127.01984582,37.5037797],[127.01979403,37.50419679],[127.01984582,37.50461387],[127.01999917,37.50501493],[127.02024821,37.50538455],[127.02058336,37.50570851],[127.02099175,37.50597439],[127.02145767,37.50617195],[127.02196322,37.5062936],[127.02248898,37.50633468],[127.02301474,37.5062936],[127.02352029,37.50617195],[127.02398621,37.50597439],[127.02439459,37.50570851],[127.02472974,37.50538455],[127.02497878,37.50501493],[127.02513214,37.50461387],[127.02518392,37.50419679]]]}',\n",
       "  'lo_crd': '127.022488978485',\n",
       "  'la_crd': '37.504196787752'},\n",
       " {'afos_fid': 6429450,\n",
       "  'afos_id': '2018045',\n",
       "  'bjd_cd': '1168010100',\n",
       "  'spot_cd': '112211002',\n",
       "  'sido_sgg_nm': '서울 서울강남2',\n",
       "  'spot_nm': '서울특별시 강남구 역삼동(현대해상강남타워 부근)',\n",
       "  'occrrnc_cnt': 7,\n",
       "  'caslt_cnt': 9,\n",
       "  'dth_dnv_cnt': 1,\n",
       "  'se_dnv_cnt': 5,\n",
       "  'sl_dnv_cnt': 2,\n",
       "  'wnd_dnv_cnt': 1,\n",
       "  'geom_json': '{\"type\":\"Polygon\",\"coordinates\":[[[127.0368177,37.50007897],[127.03676591,37.49966185],[127.03661255,37.49926077],[127.03636352,37.49889112],[127.03602836,37.49856713],[127.03561998,37.49830123],[127.03515406,37.49810365],[127.03464851,37.49798198],[127.03412275,37.49794089],[127.03359699,37.49798198],[127.03309144,37.49810365],[127.03262552,37.49830123],[127.03221714,37.49856713],[127.03188198,37.49889112],[127.03163294,37.49926077],[127.03147959,37.49966185],[127.0314278,37.50007897],[127.03147959,37.50049608],[127.03163294,37.50089716],[127.03188198,37.50126679],[127.03221714,37.50159078],[127.03262552,37.50185666],[127.03309144,37.50205423],[127.03359699,37.5021759],[127.03412275,37.50221698],[127.03464851,37.5021759],[127.03515406,37.50205423],[127.03561998,37.50185666],[127.03602836,37.50159078],[127.03636352,37.50126679],[127.03661255,37.50089716],[127.03676591,37.50049608],[127.0368177,37.50007897]]]}',\n",
       "  'lo_crd': '127.034122749666',\n",
       "  'la_crd': '37.500078966572'},\n",
       " {'afos_fid': 6430399,\n",
       "  'afos_id': '2018045',\n",
       "  'bjd_cd': '1168010800',\n",
       "  'spot_cd': '112211003',\n",
       "  'sido_sgg_nm': '서울 서울강남3',\n",
       "  'spot_nm': '서울특별시 강남구 논현동(사진박물관 부근)',\n",
       "  'occrrnc_cnt': 5,\n",
       "  'caslt_cnt': 6,\n",
       "  'dth_dnv_cnt': 0,\n",
       "  'se_dnv_cnt': 3,\n",
       "  'sl_dnv_cnt': 3,\n",
       "  'wnd_dnv_cnt': 0,\n",
       "  'geom_json': '{\"type\":\"Polygon\",\"coordinates\":[[[127.02732594,37.5183978],[127.02727415,37.51798079],[127.0271208,37.5175798],[127.02687176,37.51721025],[127.02653661,37.51688633],[127.02612822,37.5166205],[127.0256623,37.51642296],[127.02515675,37.51630132],[127.02463099,37.51626025],[127.02410523,37.51630132],[127.02359968,37.51642296],[127.02313376,37.5166205],[127.02272538,37.51688633],[127.02239023,37.51721025],[127.02214119,37.5175798],[127.02198783,37.51798079],[127.02193605,37.5183978],[127.02198783,37.51881481],[127.02214119,37.51921579],[127.02239023,37.51958533],[127.02272538,37.51990924],[127.02313376,37.52017506],[127.02359968,37.52037258],[127.02410523,37.52049421],[127.02463099,37.52053529],[127.02515675,37.52049421],[127.0256623,37.52037258],[127.02612822,37.52017506],[127.02653661,37.51990924],[127.02687176,37.51958533],[127.0271208,37.51921579],[127.02727415,37.51881481],[127.02732594,37.5183978]]]}',\n",
       "  'lo_crd': '127.024630990929',\n",
       "  'la_crd': '37.51839779872'},\n",
       " {'afos_fid': 6430422,\n",
       "  'afos_id': '2018045',\n",
       "  'bjd_cd': '1168010600',\n",
       "  'spot_cd': '113411001',\n",
       "  'sido_sgg_nm': '서울 서울수서1',\n",
       "  'spot_nm': '서울특별시 강남구 대치동(은마아파트입구교차로 부근)',\n",
       "  'occrrnc_cnt': 4,\n",
       "  'caslt_cnt': 4,\n",
       "  'dth_dnv_cnt': 0,\n",
       "  'se_dnv_cnt': 2,\n",
       "  'sl_dnv_cnt': 2,\n",
       "  'wnd_dnv_cnt': 0,\n",
       "  'geom_json': '{\"type\":\"Polygon\",\"coordinates\":[[[127.06242437,37.5012498],[127.06237259,37.50083269],[127.06221923,37.50043161],[127.06197019,37.50006197],[127.06163504,37.49973798],[127.06122666,37.49947209],[127.06076074,37.49927451],[127.06025519,37.49915284],[127.05972943,37.49911176],[127.05920367,37.49915284],[127.05869812,37.49927451],[127.0582322,37.49947209],[127.05782381,37.49973798],[127.05748866,37.50006197],[127.05723962,37.50043161],[127.05708626,37.50083269],[127.05703448,37.5012498],[127.05708626,37.5016669],[127.05723962,37.50206797],[127.05748866,37.5024376],[127.05782381,37.50276158],[127.0582322,37.50302746],[127.05869812,37.50322503],[127.05920367,37.50334669],[127.05972943,37.50338777],[127.06025519,37.50334669],[127.06076074,37.50322503],[127.06122666,37.50302746],[127.06163504,37.50276158],[127.06197019,37.5024376],[127.06221923,37.50206797],[127.06237259,37.5016669],[127.06242437,37.5012498]]]}',\n",
       "  'lo_crd': '127.059729427772',\n",
       "  'la_crd': '37.501249795742'},\n",
       " {'afos_fid': 6429783,\n",
       "  'afos_id': '2018045',\n",
       "  'bjd_cd': '1168010600',\n",
       "  'spot_cd': '113411002',\n",
       "  'sido_sgg_nm': '서울 서울수서2',\n",
       "  'spot_nm': '서울특별시 강남구 대치동(한나라한의원 부근)',\n",
       "  'occrrnc_cnt': 4,\n",
       "  'caslt_cnt': 4,\n",
       "  'dth_dnv_cnt': 0,\n",
       "  'se_dnv_cnt': 2,\n",
       "  'sl_dnv_cnt': 2,\n",
       "  'wnd_dnv_cnt': 0,\n",
       "  'geom_json': '{\"type\":\"Polygon\",\"coordinates\":[[[127.05574583,37.50583564],[127.05569404,37.50541856],[127.05554069,37.5050175],[127.05529165,37.50464789],[127.0549565,37.50432391],[127.05454811,37.50405804],[127.05408219,37.50386047],[127.05357664,37.50373881],[127.05305088,37.50369773],[127.05252512,37.50373881],[127.05201957,37.50386047],[127.05155365,37.50405804],[127.05114527,37.50432391],[127.05081012,37.50464789],[127.05056108,37.5050175],[127.05040772,37.50541856],[127.05035593,37.50583564],[127.05040772,37.50625271],[127.05056108,37.50665376],[127.05081012,37.50702337],[127.05114527,37.50734733],[127.05155365,37.5076132],[127.05201957,37.50781075],[127.05252512,37.50793241],[127.05305088,37.50797348],[127.05357664,37.50793241],[127.05408219,37.50781075],[127.05454811,37.5076132],[127.0549565,37.50734733],[127.05529165,37.50702337],[127.05554069,37.50665376],[127.05569404,37.50625271],[127.05574583,37.50583564]]]}',\n",
       "  'lo_crd': '127.053050880595',\n",
       "  'la_crd': '37.505835636706'}]"
      ]
     },
     "execution_count": 102,
     "metadata": {},
     "output_type": "execute_result"
    }
   ],
   "source": [
    "jsonItem"
   ]
  },
  {
   "cell_type": "code",
   "execution_count": 106,
   "id": "75abd048",
   "metadata": {},
   "outputs": [
    {
     "name": "stdout",
     "output_type": "stream",
     "text": [
      "서울 서울강남1 , 서울특별시 강남구 논현동(신논현역 부근)\n",
      "서울 서울강남2 , 서울특별시 강남구 역삼동(현대해상강남타워 부근)\n",
      "서울 서울강남3 , 서울특별시 강남구 논현동(사진박물관 부근)\n",
      "서울 서울수서1 , 서울특별시 강남구 대치동(은마아파트입구교차로 부근)\n",
      "서울 서울수서2 , 서울특별시 강남구 대치동(한나라한의원 부근)\n"
     ]
    }
   ],
   "source": [
    "for i in jsonItem:\n",
    "    print(i.get(\"sido_sgg_nm\"), \",\",i.get(\"spot_nm\"))\n",
    "   #   print(i[\"sido_sgg_nm\"], i[\"spot_nm\"])\n"
   ]
  },
  {
   "cell_type": "code",
   "execution_count": 114,
   "id": "b052b62f",
   "metadata": {},
   "outputs": [
    {
     "name": "stdout",
     "output_type": "stream",
     "text": [
      "서울 서울강남1,서울특별시 강남구 논현동(신논현역 부근)\n",
      "서울 서울강남2,서울특별시 강남구 역삼동(현대해상강남타워 부근)\n",
      "서울 서울강남3,서울특별시 강남구 논현동(사진박물관 부근)\n",
      "서울 서울수서1,서울특별시 강남구 대치동(은마아파트입구교차로 부근)\n",
      "서울 서울수서2,서울특별시 강남구 대치동(한나라한의원 부근)\n"
     ]
    }
   ],
   "source": [
    "# f문자열을 사용하면 comma 사이의 간격을 없앨 수 있다. \n",
    "for i in jsonItem:    \n",
    "    print(f\"{i.get('sido_sgg_nm')},{i.get('spot_nm')}\")\n",
    "  \n"
   ]
  },
  {
   "cell_type": "code",
   "execution_count": 120,
   "id": "7c77056d",
   "metadata": {},
   "outputs": [],
   "source": [
    "# csv 파일로 저장하기 \n",
    "f=open(\"Apidata.csv\",\"w\")\n",
    "\n",
    "# 헤더 추가하기 \n",
    "f.write(\"지역구,사고지역\")\n",
    "\n",
    "# 파일에 data 쓰기 \n",
    "for i in jsonItem:\n",
    "    f.write(i['sido_sgg_nm']+\",\"+i['spot_nm'] +\"\\n\")\n",
    "f.close()"
   ]
  },
  {
   "cell_type": "code",
   "execution_count": 124,
   "id": "28350a07",
   "metadata": {},
   "outputs": [
    {
     "name": "stdout",
     "output_type": "stream",
     "text": [
      "2.6.0\n"
     ]
    }
   ],
   "source": [
    "# SQL & DB \n",
    "# SQL Lite3 데이터 베이스 사용해보기, 자체 내장되어있는 모듈\n",
    "import sqlite3\n",
    "print(sqlite3.version)\n"
   ]
  },
  {
   "cell_type": "code",
   "execution_count": 138,
   "id": "8e979c98",
   "metadata": {},
   "outputs": [
    {
     "data": {
      "text/plain": [
       "sqlite3.Connection"
      ]
     },
     "execution_count": 138,
     "metadata": {},
     "output_type": "execute_result"
    }
   ],
   "source": [
    "# DB 생성 \n",
    "# 데이터베이스명db >> 로컬디스크내 생성 >> connection 객체의 connect 함수 사용 \n",
    "# c드라이브에 생성을 하게되면 보안등의 문제가 날 수 있으므로 폴더를 하나 만들어놓고 그 안에 db 파일을 생성하자 \n",
    "dbconn = sqlite3.connect(\"c:\\sqlite3\\publicapi.db\")\n",
    "type(dbconn)"
   ]
  },
  {
   "cell_type": "code",
   "execution_count": 139,
   "id": "26c98f0f",
   "metadata": {},
   "outputs": [
    {
     "data": {
      "text/plain": [
       "sqlite3.Cursor"
      ]
     },
     "execution_count": 139,
     "metadata": {},
     "output_type": "execute_result"
    }
   ],
   "source": [
    "# DB 입력 \n",
    "# Cursor 객체 생성\n",
    "# Cursor 객체란? query를 조작할때 사용\n",
    "cs = dbconn.cursor()\n",
    "type(cs)"
   ]
  },
  {
   "cell_type": "code",
   "execution_count": 129,
   "id": "95301e53",
   "metadata": {},
   "outputs": [
    {
     "data": {
      "text/plain": [
       "<sqlite3.Cursor at 0x1a926605500>"
      ]
     },
     "execution_count": 129,
     "metadata": {},
     "output_type": "execute_result"
    }
   ],
   "source": [
    "# 테이블 생성\n",
    "cs.execute(\"CREATE TABLE Test(Column1 text, Column2 int, Column3 int, Column4 int)\")"
   ]
  },
  {
   "cell_type": "code",
   "execution_count": 148,
   "id": "3e80cbfe",
   "metadata": {},
   "outputs": [
    {
     "data": {
      "text/plain": [
       "<sqlite3.Cursor at 0x1a9266091f0>"
      ]
     },
     "execution_count": 148,
     "metadata": {},
     "output_type": "execute_result"
    }
   ],
   "source": [
    "# 데이터 넣기 \n",
    "cs.execute(\"INSERT INTO Test VALUES('힘들다',10,20,30)\")\n",
    "cs.execute(\"INSERT INTO Test VALUES('기쁘다',10,20,30)\")\n",
    "cs.execute(\"INSERT INTO Test VALUES('슬프다',10,20,30)\")\n",
    "cs.execute(\"INSERT INTO Test VALUES('배고파',10,20,30)\")\n",
    "cs.execute(\"INSERT INTO Test VALUES('졸려',10,20,30)\")\n",
    "cs.execute(\"INSERT INTO Test VALUES('화이팅',10,20,30)\")\n"
   ]
  },
  {
   "cell_type": "code",
   "execution_count": 149,
   "id": "5119fcc6",
   "metadata": {},
   "outputs": [],
   "source": [
    "# 최종반영  >> commit()\n",
    "dbconn.commit()"
   ]
  },
  {
   "cell_type": "code",
   "execution_count": 153,
   "id": "09628f97",
   "metadata": {},
   "outputs": [
    {
     "data": {
      "text/plain": [
       "[('힘들다', 10, 20, 30),\n",
       " ('힘들다', 10, 20, 30),\n",
       " ('기쁘다', 10, 20, 30),\n",
       " ('슬프다', 10, 20, 30),\n",
       " ('배고파', 10, 20, 30),\n",
       " ('졸려', 10, 20, 30),\n",
       " ('화이팅', 10, 20, 30)]"
      ]
     },
     "execution_count": 153,
     "metadata": {},
     "output_type": "execute_result"
    }
   ],
   "source": [
    "# 데이터 선택\n",
    "rst = cs.execute(\"SELECT*FROM Test\")\n",
    "rst\n",
    "cs.fetchall() # 리스트 타입 "
   ]
  },
  {
   "cell_type": "code",
   "execution_count": 132,
   "id": "a9782b12",
   "metadata": {},
   "outputs": [],
   "source": [
    "# DB 닫기 \n",
    "dbconn.close()\n"
   ]
  },
  {
   "cell_type": "code",
   "execution_count": 180,
   "id": "cd5a912c",
   "metadata": {},
   "outputs": [
    {
     "name": "stdout",
     "output_type": "stream",
     "text": [
      "[['지역구', '사고지역서울 서울강남1', '서울특별시 강남구 논현동(신논현역 부근)'], ['서울 서울강남2', '서울특별시 강남구 역삼동(현대해상강남타워 부근)'], ['서울 서울강남3', '서울특별시 강남구 논현동(사진박물관 부근)'], ['서울 서울수서1', '서울특별시 강남구 대치동(은마아파트입구교차로 부근)'], ['서울 서울수서2', '서울특별시 강남구 대치동(한나라한의원 부근)']]\n"
     ]
    }
   ],
   "source": [
    "# csv 파일에 있는 데이터를 db에 저장하기 \n",
    "\n",
    "import csv\n",
    "\n",
    "file = \"C:\\\\Users\\\\Playdata\\\\OneDrive\\\\바탕 화면\\\\Apidata.csv\"\n",
    "file = open(file,\"r\")\n",
    "reader = csv.reader(file)\n",
    "arr = []\n",
    "for r in reader:\n",
    "    arr.append(r)\n"
   ]
  },
  {
   "cell_type": "code",
   "execution_count": 185,
   "id": "935da022",
   "metadata": {},
   "outputs": [
    {
     "name": "stdout",
     "output_type": "stream",
     "text": [
      "지역구 사고지역서울 서울강남1\n",
      "서울 서울강남2 서울특별시 강남구 역삼동(현대해상강남타워 부근)\n",
      "서울 서울강남3 서울특별시 강남구 논현동(사진박물관 부근)\n",
      "서울 서울수서1 서울특별시 강남구 대치동(은마아파트입구교차로 부근)\n",
      "서울 서울수서2 서울특별시 강남구 대치동(한나라한의원 부근)\n"
     ]
    }
   ],
   "source": [
    "for r in arr:\n",
    "    print(r[0],r[1]) \n",
    "    strSQL = \"INSERT INTO Test(Column1, Column2) VALUES(?,?)\"\n",
    "    cs.execute(strSQL,(r[0],r[1]))\n",
    "    \n"
   ]
  },
  {
   "cell_type": "code",
   "execution_count": 187,
   "id": "f6d533cc",
   "metadata": {},
   "outputs": [],
   "source": [
    "dbconn.commit()\n",
    "cs.close\n",
    "dbconn.close()"
   ]
  },
  {
   "cell_type": "code",
   "execution_count": 198,
   "id": "210b8ecf",
   "metadata": {},
   "outputs": [
    {
     "name": "stdout",
     "output_type": "stream",
     "text": [
      "('힘들다', 10, 20, 30)\n",
      "('힘들다', 10, 20, 30)\n",
      "('기쁘다', 10, 20, 30)\n",
      "('슬프다', 10, 20, 30)\n",
      "('배고파', 10, 20, 30)\n",
      "('졸려', 10, 20, 30)\n",
      "('화이팅', 10, 20, 30)\n",
      "('지역구', '사고지역서울 서울강남1', None, None)\n",
      "('서울 서울강남2', '서울특별시 강남구 역삼동(현대해상강남타워 부근)', None, None)\n",
      "('서울 서울강남3', '서울특별시 강남구 논현동(사진박물관 부근)', None, None)\n",
      "('서울 서울수서1', '서울특별시 강남구 대치동(은마아파트입구교차로 부근)', None, None)\n",
      "('서울 서울수서2', '서울특별시 강남구 대치동(한나라한의원 부근)', None, None)\n",
      "('지역구', '사고지역서울 서울강남1', None, None)\n",
      "('서울 서울강남2', '서울특별시 강남구 역삼동(현대해상강남타워 부근)', None, None)\n",
      "('서울 서울강남3', '서울특별시 강남구 논현동(사진박물관 부근)', None, None)\n",
      "('서울 서울수서1', '서울특별시 강남구 대치동(은마아파트입구교차로 부근)', None, None)\n",
      "('서울 서울수서2', '서울특별시 강남구 대치동(한나라한의원 부근)', None, None)\n"
     ]
    }
   ],
   "source": [
    "import sqlite3\n",
    "dbconn = sqlite3.connect(\"c:\\sqlite3\\publicapi.db\")\n",
    "cs = dbconn.cursor()\n",
    "cs.execute(\"SELECT*FROM Test\")\n",
    "rst = cs.fetchall()\n",
    "for r in rst:\n",
    "    print(r)\n",
    "\n"
   ]
  },
  {
   "cell_type": "code",
   "execution_count": null,
   "id": "210892f2",
   "metadata": {},
   "outputs": [],
   "source": []
  }
 ],
 "metadata": {
  "kernelspec": {
   "display_name": "Python 3",
   "language": "python",
   "name": "python3"
  },
  "language_info": {
   "codemirror_mode": {
    "name": "ipython",
    "version": 3
   },
   "file_extension": ".py",
   "mimetype": "text/x-python",
   "name": "python",
   "nbconvert_exporter": "python",
   "pygments_lexer": "ipython3",
   "version": "3.8.8"
  }
 },
 "nbformat": 4,
 "nbformat_minor": 5
}
