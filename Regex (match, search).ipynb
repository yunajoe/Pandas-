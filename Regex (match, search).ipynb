{
 "cells": [
  {
   "cell_type": "code",
   "execution_count": null,
   "id": "42197be9",
   "metadata": {},
   "outputs": [],
   "source": [
    "출처:\n",
    "https://www.tutorialspoint.com/python/python_reg_expressions.htm#\n",
    "https://greeksharifa.github.io/%EC%A0%95%EA%B7%9C%ED%91%9C%ED%98%84%EC%8B%9D(re)/2018/07/20/regex-usage-01-basic/#rematchpattern-string-flags"
   ]
  },
  {
   "cell_type": "code",
   "execution_count": null,
   "id": "563f61aa",
   "metadata": {},
   "outputs": [],
   "source": [
    "# match() \n",
    "- re.match(pattern, string, flags=0)\n",
    "- 문자열의 처음부터 정규식과 매치되는지 조사한다.\n",
    "- 객체를 반환하기 때문에 group(s)를 사용해야 한다.\n",
    "\n",
    "# search()\n",
    "- re.search(pattern, string, flags=0)\n",
    "- 문자열 전체를 검색하여 정규식과 매치되는지 조사\n",
    "- 객체를 반환하기 때문에 group(s)를 사용해야 한다.\n",
    "'''\n",
    "정규식과 매치될 때는 match 객체를 돌려주고,\n",
    "매치되지 않을 때는 None을 돌려준다\n",
    "\n",
    "'''\n"
   ]
  },
  {
   "cell_type": "code",
   "execution_count": null,
   "id": "e0b061e5",
   "metadata": {},
   "outputs": [],
   "source": [
    "# match 사용하기 "
   ]
  },
  {
   "cell_type": "code",
   "execution_count": 7,
   "id": "55f87601",
   "metadata": {},
   "outputs": [
    {
     "name": "stdout",
     "output_type": "stream",
     "text": [
      "Cats are smarter than dogs\n",
      "Cats\n",
      "smarter\n"
     ]
    }
   ],
   "source": [
    "import re \n",
    "line=\"Cats are smarter than dogs\"\n",
    "matchObj=re.match( r'(.*) are (.*?) .*', line) \n",
    "\n",
    "if matchObj:\n",
    "    print(matchObj.group())  # matching 된 문자열을 한꺼번에 반환, group(0)\n",
    "    print(matchObj.group(1))\n",
    "    print(matchObj.group(2))\n",
    "else:\n",
    "    print(\"no match\")"
   ]
  },
  {
   "cell_type": "code",
   "execution_count": 15,
   "id": "f2f81674",
   "metadata": {},
   "outputs": [
    {
     "data": {
      "text/plain": [
       "'string'"
      ]
     },
     "execution_count": 15,
     "metadata": {},
     "output_type": "execute_result"
    }
   ],
   "source": [
    "import re \n",
    "line='string goes here'\n",
    "matchObj = re.match(\"[a-z]+\", line)\n",
    "matchObj.group()"
   ]
  },
  {
   "cell_type": "code",
   "execution_count": 21,
   "id": "018d0c33",
   "metadata": {},
   "outputs": [
    {
     "data": {
      "text/plain": [
       "'string'"
      ]
     },
     "execution_count": 21,
     "metadata": {},
     "output_type": "execute_result"
    }
   ],
   "source": [
    "import re\n",
    "p = re.compile('[a-z]+')\n",
    "m = p.match(\"string goes here\")\n",
    "m.group()\n"
   ]
  },
  {
   "cell_type": "code",
   "execution_count": null,
   "id": "6c74d075",
   "metadata": {},
   "outputs": [],
   "source": [
    "# search 사용하기 "
   ]
  },
  {
   "cell_type": "code",
   "execution_count": 23,
   "id": "ec3bc285",
   "metadata": {},
   "outputs": [
    {
     "data": {
      "text/plain": [
       "'dogs'"
      ]
     },
     "execution_count": 23,
     "metadata": {},
     "output_type": "execute_result"
    }
   ],
   "source": [
    "import re \n",
    "line = \"Cats are smarter than dogs\"\n",
    "searchObj = re.search(r\"dogs\",line)\n",
    "searchObj.group()"
   ]
  },
  {
   "cell_type": "code",
   "execution_count": null,
   "id": "7d235ede",
   "metadata": {},
   "outputs": [],
   "source": []
  }
 ],
 "metadata": {
  "kernelspec": {
   "display_name": "Python 3 (ipykernel)",
   "language": "python",
   "name": "python3"
  },
  "language_info": {
   "codemirror_mode": {
    "name": "ipython",
    "version": 3
   },
   "file_extension": ".py",
   "mimetype": "text/x-python",
   "name": "python",
   "nbconvert_exporter": "python",
   "pygments_lexer": "ipython3",
   "version": "3.8.13"
  }
 },
 "nbformat": 4,
 "nbformat_minor": 5
}
