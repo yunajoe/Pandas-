{
 "cells": [
  {
   "cell_type": "code",
   "execution_count": 1,
   "id": "a502ebe5",
   "metadata": {},
   "outputs": [
    {
     "name": "stdout",
     "output_type": "stream",
     "text": [
      "[1, 4, 9, 16, 25, 36, 49, 64, 81, 100, 121, 144, 169, 196, 225, 256, 289, 324, 361, 400]\n"
     ]
    }
   ],
   "source": [
    "# for 문 \n",
    "\n",
    "list = [ ]\n",
    "for i in range(1,21):   #  i는 1 ~ 20 \n",
    "    list.append(i * i)\n",
    "print(list)"
   ]
  },
  {
   "cell_type": "code",
   "execution_count": 3,
   "id": "f26dd074",
   "metadata": {},
   "outputs": [
    {
     "name": "stdout",
     "output_type": "stream",
     "text": [
      "[1, 4, 9, 16, 25, 36, 49, 64, 81, 100, 121, 144, 169, 196, 225, 256, 289, 324, 361, 400]\n",
      "\n",
      "\n",
      "[1, 4, 9, 16, 25, 36, 49]\n"
     ]
    }
   ],
   "source": [
    "# list comprehension \n",
    "# [ A for B in C] \"A\"는 얻고 싶은 함수,B의 C의 요소 하나하나 ,C는 정보를 구현해 낼 리스트\n",
    "\n",
    "list2 = [ i * i for i in range(1,21)]  \n",
    "print(list2)\n",
    "print(\"\\n\")\n",
    "list3 = [i * i for i in [1,2,3,4,5,6,7]]\n",
    "print(list3)"
   ]
  },
  {
   "cell_type": "code",
   "execution_count": 10,
   "id": "2893fa4d",
   "metadata": {},
   "outputs": [
    {
     "name": "stdout",
     "output_type": "stream",
     "text": [
      "[(0, 0), (0, 1), (0, 2), (0, 3), (1, 0), (1, 1), (1, 2), (1, 3), (2, 0), (2, 1), (2, 2), (2, 3)]\n",
      "\n",
      "\n",
      "[(0, 0), (0, 1), (0, 2), (0, 3), (1, 0), (1, 1), (1, 2), (1, 3), (2, 0), (2, 1), (2, 2), (2, 3)]\n",
      "\n",
      "\n",
      "[[0, 1, 2], [0, 1, 2], [0, 1, 2], [0, 1, 2]]\n"
     ]
    }
   ],
   "source": [
    "# for문 \n",
    "listA = [ ]\n",
    "for i in range(3):  # i가 0~ 2까지 나옴 \n",
    "    for j in range(4): # j가 0~3까지 나옴 \n",
    "        listA.append((i,j))   # append 는 오직 한개의 인수만 받음\n",
    "                    \n",
    "print(listA)\n",
    "print(\"\\n\")\n",
    "\n",
    "listA2 =[(i,j) for i in range(3) for j in range(4) ]\n",
    "print(listA2)\n",
    "print(\"\\n\")\n",
    "listA3=[[i for i in range(3)] for j in range(4)]\n",
    "print(listA3)\n"
   ]
  },
  {
   "cell_type": "code",
   "execution_count": 13,
   "id": "485644d2",
   "metadata": {},
   "outputs": [
    {
     "name": "stdout",
     "output_type": "stream",
     "text": [
      "[0, 2, 4, 6, 8]\n",
      "\n",
      "\n",
      "[0, 2, 4, 6, 8]\n"
     ]
    }
   ],
   "source": [
    "## for 문 \n",
    "new_list = [ ]\n",
    "for i in range(10):# i는 0 ~9까지 \n",
    "    if i % 2 == 0 :\n",
    "        new_list.append(i)\n",
    "        \n",
    "print(new_list)\n",
    "print(\"\\n\")\n",
    "\n",
    "## comprehension 으로 만들어보자\n",
    "new_list2 = [ i for i in range(10) if i % 2==0]\n",
    "print(new_list2)"
   ]
  },
  {
   "cell_type": "code",
   "execution_count": 7,
   "id": "74fbb985",
   "metadata": {},
   "outputs": [
    {
     "name": "stdout",
     "output_type": "stream",
     "text": [
      "짝\n",
      "홀\n",
      "짝\n",
      "홀\n",
      "짝\n",
      "홀\n",
      "짝\n",
      "홀\n",
      "짝\n",
      "홀\n",
      "\n",
      "\n",
      "['짝', '짝', '짝', '짝', '짝']\n",
      "['짝', '을', '짝', '을', '짝', '을', '짝', '을', '짝', '을']\n"
     ]
    }
   ],
   "source": [
    "## for 문 \n",
    "Even=[]\n",
    "\n",
    "for i in range(10):   # 0~ 9 까지 \n",
    "    if i% 2 == 0 :\n",
    "        print(\"짝\")\n",
    "    else:\n",
    "        print(\"홀\")\n",
    "        Even.append(i)\n",
    "print(\"\\n\")\n",
    "\n",
    "## comprehension 문 \n",
    "\n",
    "Even2= [\"짝\" for i in range(10) if i % 2 == 0]\n",
    "print(Even2)\n",
    "\n",
    "Even3=[\"짝\" if i % 2 == 0 else \"홀\" for i in range(10)]\n",
    "print(Even3)\n"
   ]
  },
  {
   "cell_type": "code",
   "execution_count": 8,
   "id": "140122c9",
   "metadata": {},
   "outputs": [
    {
     "name": "stdout",
     "output_type": "stream",
     "text": [
      "0 2\n",
      "1 3\n",
      "2 5\n",
      "3 7\n",
      "4 11\n",
      "5 13\n",
      "6 17\n",
      "7 19\n",
      "8 23\n",
      "9 29\n",
      "10 31\n"
     ]
    }
   ],
   "source": [
    "# for & range \n",
    "# 인덱스와 원소 출력하기\n",
    "\n",
    "numbers = [2, 3, 5, 7, 11, 13, 17, 19, 23, 29, 31]\n",
    "\n",
    "for i in range(len(numbers)):\n",
    "               print(i, numbers[i])\n"
   ]
  },
  {
   "cell_type": "code",
   "execution_count": 16,
   "id": "abe183cc",
   "metadata": {},
   "outputs": [
    {
     "name": "stdout",
     "output_type": "stream",
     "text": [
      "2^1= 2\n",
      "2^2= 4\n",
      "2^3= 8\n",
      "2^4= 16\n",
      "2^5= 32\n",
      "2^6= 64\n",
      "2^7= 128\n",
      "2^8= 256\n",
      "2^9= 512\n",
      "2^10= 1024\n"
     ]
    }
   ],
   "source": [
    "# 2^0 = 1부터 2^10 = 1024까지 출력\n",
    "number = 2\n",
    "for i in range(11):\n",
    "    print(\"{}^{}= {}\".format(number,i,number**i))\n"
   ]
  },
  {
   "cell_type": "code",
   "execution_count": 19,
   "id": "fd09258d",
   "metadata": {},
   "outputs": [
    {
     "name": "stdout",
     "output_type": "stream",
     "text": [
      "1*1=1\n",
      "1*2=2\n",
      "1*3=3\n",
      "1*4=4\n",
      "1*5=5\n",
      "1*6=6\n",
      "1*7=7\n",
      "1*8=8\n",
      "1*9=9\n",
      "2*1=2\n",
      "2*2=4\n",
      "2*3=6\n",
      "2*4=8\n",
      "2*5=10\n",
      "2*6=12\n",
      "2*7=14\n",
      "2*8=16\n",
      "2*9=18\n",
      "3*1=3\n",
      "3*2=6\n",
      "3*3=9\n",
      "3*4=12\n",
      "3*5=15\n",
      "3*6=18\n",
      "3*7=21\n",
      "3*8=24\n",
      "3*9=27\n",
      "4*1=4\n",
      "4*2=8\n",
      "4*3=12\n",
      "4*4=16\n",
      "4*5=20\n",
      "4*6=24\n",
      "4*7=28\n",
      "4*8=32\n",
      "4*9=36\n",
      "5*1=5\n",
      "5*2=10\n",
      "5*3=15\n",
      "5*4=20\n",
      "5*5=25\n",
      "5*6=30\n",
      "5*7=35\n",
      "5*8=40\n",
      "5*9=45\n",
      "6*1=6\n",
      "6*2=12\n",
      "6*3=18\n",
      "6*4=24\n",
      "6*5=30\n",
      "6*6=36\n",
      "6*7=42\n",
      "6*8=48\n",
      "6*9=54\n",
      "7*1=7\n",
      "7*2=14\n",
      "7*3=21\n",
      "7*4=28\n",
      "7*5=35\n",
      "7*6=42\n",
      "7*7=49\n",
      "7*8=56\n",
      "7*9=63\n",
      "8*1=8\n",
      "8*2=16\n",
      "8*3=24\n",
      "8*4=32\n",
      "8*5=40\n",
      "8*6=48\n",
      "8*7=56\n",
      "8*8=64\n",
      "8*9=72\n",
      "9*1=9\n",
      "9*2=18\n",
      "9*3=27\n",
      "9*4=36\n",
      "9*5=45\n",
      "9*6=54\n",
      "9*7=63\n",
      "9*8=72\n",
      "9*9=81\n"
     ]
    }
   ],
   "source": [
    "# 1 ~9 까지 구구단 출력 \n",
    "for i in range(1,10):\n",
    "    for j in range(1,10):\n",
    "        print(\"{}*{}={}\".format(i, j, i*j))"
   ]
  },
  {
   "cell_type": "code",
   "execution_count": 37,
   "id": "86e65d23",
   "metadata": {},
   "outputs": [
    {
     "name": "stdout",
     "output_type": "stream",
     "text": [
      "19\n",
      "17\n",
      "13\n",
      "11\n",
      "7\n",
      "5\n",
      "3\n",
      "2\n"
     ]
    }
   ],
   "source": [
    "# numbers라는 리스트가 주어졌을 때, for문을 사용하여 리스트를 거꾸로 뒤집어 보기\n",
    "\n",
    "numbers = [2, 3, 5, 7, 11, 13, 17, 19]\n",
    "for left in range(len(numbers)):    \n",
    "    # 인덱스 left와 대칭인 인덱스 right 계산\n",
    "    right = len(numbers) - left - 1\n",
    "    print(numbers[right])\n",
    "  \n"
   ]
  },
  {
   "cell_type": "code",
   "execution_count": 42,
   "id": "a0f923a8",
   "metadata": {},
   "outputs": [
    {
     "name": "stdout",
     "output_type": "stream",
     "text": [
      "200 375 425\n",
      "31875000\n"
     ]
    }
   ],
   "source": [
    "for a in range(1,1000):\n",
    "    for b in range(1,1000):\n",
    "        c = 1000 - a - b\n",
    "        if a * a + b* b == c *c and a < b < c:\n",
    "            print(a,b,c)\n",
    "            print(a * b * c)"
   ]
  },
  {
   "cell_type": "code",
   "execution_count": 78,
   "id": "96f1cfb3",
   "metadata": {},
   "outputs": [
    {
     "name": "stdout",
     "output_type": "stream",
     "text": [
      "13502\n"
     ]
    }
   ],
   "source": [
    "# 1~ 1000 까지 자릿수합 구하기 \n",
    "# 각자릿수를 더하는 함수 구하기 \n",
    "\n",
    "def sum_digit(num):\n",
    "    StrNum = str(num)  # 숫자를 문자로 바꿔주기 \n",
    "    \n",
    "    total = 0\n",
    "    for digit in StrNum:\n",
    "        total += int(digit)\n",
    "    return total\n",
    "        \n",
    "# sum_digit(1) 부터 sum_digit(1000) 까지 합 구하기\n",
    "dtotal_digit = 0\n",
    "for i in range(1,1001):\n",
    "    total_digit += sum_digit(i)\n",
    "    \n",
    "print(total_digit)\n",
    "    \n",
    "    "
   ]
  },
  {
   "cell_type": "code",
   "execution_count": 119,
   "id": "87da57a3",
   "metadata": {},
   "outputs": [
    {
     "name": "stdout",
     "output_type": "stream",
     "text": [
      "880720-123****\n",
      "880720123****\n",
      "930124-765****\n",
      "930124765****\n",
      "761214-235****\n",
      "761214235****\n"
     ]
    }
   ],
   "source": [
    "# 주민등록번호 마지막 4개의 글자를 \"*\" 로 대체하기 \n",
    "\n",
    "# 방법 1\n",
    "def mask_security_number(security_number):\n",
    "    return security_number[:-4] + \"****\" # 처음부터 -5 까지뽑아냄\n",
    "\n",
    "\n",
    "# 방법 2\n",
    "# 문자열은 수정이 불가능하기 때문에 list로 변환시키자\n",
    "def mask_security_number(security_number):\n",
    "    \n",
    "    # security_number를 리스트로 변환\n",
    "    \n",
    "    NewList = []\n",
    "    for i in range(len(security_number)):\n",
    "        NewList.append(security_number[i])   \n",
    "    \n",
    "    \n",
    "    # 마지막 4자리 수 값을 * 로 대체 \n",
    "    for i in range(len(NewList)-4,len(NewList)):\n",
    "        NewList[i] = \"*\"\n",
    "    \n",
    "        \n",
    "    # 리스트를 문자열로 다시 복구하기 \"Join\" 메소드를 쓰자 \n",
    "    return \"\".join(NewList)  # join앞에 구분자, 여기서는 연결하여 문자쓰기\n",
    "    \n",
    "\n",
    "        \n",
    "        \n",
    "\n",
    "\n",
    "print(mask_security_number(\"880720-1234567\"))\n",
    "print(mask_security_number(\"8807201234567\"))\n",
    "print(mask_security_number(\"930124-7654321\"))\n",
    "print(mask_security_number(\"9301247654321\"))\n",
    "print(mask_security_number(\"761214-2357111\"))\n",
    "print(mask_security_number(\"7612142357111\"))"
   ]
  }
 ],
 "metadata": {
  "kernelspec": {
   "display_name": "Python 3",
   "language": "python",
   "name": "python3"
  },
  "language_info": {
   "codemirror_mode": {
    "name": "ipython",
    "version": 3
   },
   "file_extension": ".py",
   "mimetype": "text/x-python",
   "name": "python",
   "nbconvert_exporter": "python",
   "pygments_lexer": "ipython3",
   "version": "3.8.8"
  }
 },
 "nbformat": 4,
 "nbformat_minor": 5
}
