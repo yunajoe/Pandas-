{
 "cells": [
  {
   "cell_type": "markdown",
   "id": "a41d657e",
   "metadata": {},
   "source": [
    "# Exerciese 1 \n",
    "- Print First 10 natural numbers using while loop"
   ]
  },
  {
   "cell_type": "code",
   "execution_count": 1,
   "id": "2b0e1059",
   "metadata": {},
   "outputs": [
    {
     "name": "stdout",
     "output_type": "stream",
     "text": [
      "1\n",
      "2\n",
      "3\n",
      "4\n",
      "5\n",
      "6\n",
      "7\n",
      "8\n",
      "9\n",
      "10\n"
     ]
    }
   ],
   "source": [
    "i = 1\n",
    "\n",
    "while i <= 10:\n",
    "    print(i)\n",
    "    i = i + 1"
   ]
  },
  {
   "cell_type": "markdown",
   "id": "c6638b80",
   "metadata": {},
   "source": [
    "# Exerciese 2\n",
    "- Print the following pattern"
   ]
  },
  {
   "cell_type": "code",
   "execution_count": 15,
   "id": "c725d053",
   "metadata": {},
   "outputs": [
    {
     "name": "stdout",
     "output_type": "stream",
     "text": [
      "1 \n",
      "1 2 \n",
      "1 2 3 \n",
      "1 2 3 4 \n",
      "1 2 3 4 5 \n"
     ]
    }
   ],
   "source": [
    "i = 1\n",
    "j = 0\n",
    "while i <= 5:\n",
    "    for j in range(1,i+1):\n",
    "        print(j, end = \" \")\n",
    "    i = i + 1\n",
    "    print(\"\")\n",
    "        "
   ]
  },
  {
   "cell_type": "code",
   "execution_count": 19,
   "id": "db75f827",
   "metadata": {},
   "outputs": [
    {
     "name": "stdout",
     "output_type": "stream",
     "text": [
      "1\n",
      "12\n",
      "123\n",
      "1234\n",
      "12345\n"
     ]
    }
   ],
   "source": [
    "num = 5\n",
    "for i in range(1,num+1):\n",
    "    for j in range(1,i+1):\n",
    "        print(j, end=\"\")\n",
    "    print(\"\")\n",
    "    "
   ]
  },
  {
   "cell_type": "code",
   "execution_count": null,
   "id": "cbbb4174",
   "metadata": {},
   "outputs": [],
   "source": [
    "# Exerciese 3\n",
    "- Calculate the sum of all numbers from 1 to a given number"
   ]
  },
  {
   "cell_type": "code",
   "execution_count": 21,
   "id": "1e98f8a1",
   "metadata": {},
   "outputs": [
    {
     "name": "stdout",
     "output_type": "stream",
     "text": [
      "10\n",
      "55\n"
     ]
    }
   ],
   "source": [
    "num = int(input())\n",
    "\n",
    "total = 0\n",
    "for i in range(num+1):\n",
    "    total = total + i\n",
    "print(total)"
   ]
  },
  {
   "cell_type": "code",
   "execution_count": 25,
   "id": "4b0a7993",
   "metadata": {},
   "outputs": [
    {
     "name": "stdout",
     "output_type": "stream",
     "text": [
      "10\n"
     ]
    },
    {
     "data": {
      "text/plain": [
       "55"
      ]
     },
     "execution_count": 25,
     "metadata": {},
     "output_type": "execute_result"
    }
   ],
   "source": [
    "num = int(input())\n",
    "answer = sum(range(num+1))\n",
    "answer"
   ]
  },
  {
   "cell_type": "code",
   "execution_count": null,
   "id": "2dd04b99",
   "metadata": {},
   "outputs": [],
   "source": [
    "# Exerciese 4\n",
    "- Write a program to print multiplication table of a given number\n",
    "\n"
   ]
  },
  {
   "cell_type": "code",
   "execution_count": 28,
   "id": "b8af4355",
   "metadata": {},
   "outputs": [
    {
     "name": "stdout",
     "output_type": "stream",
     "text": [
      "2\n",
      "2\n",
      "4\n",
      "6\n",
      "8\n",
      "10\n",
      "12\n",
      "14\n",
      "16\n",
      "18\n",
      "20\n"
     ]
    }
   ],
   "source": [
    "num = int(input())\n",
    "\n",
    "for i in range(1,11):\n",
    "    answer = num * i\n",
    "    print(answer)"
   ]
  },
  {
   "cell_type": "code",
   "execution_count": null,
   "id": "6b20965b",
   "metadata": {},
   "outputs": [],
   "source": [
    "# Exerciese 5\n",
    "- Display numbers from a list using loop\n",
    "- condition:\n",
    "1.The number must be divisible by five\n",
    "2.If the number is greater than 150, then skip it and move to the next number\n",
    "    If the number is greater than 500, then stop the loop\n"
   ]
  },
  {
   "cell_type": "code",
   "execution_count": null,
   "id": "40d0645f",
   "metadata": {},
   "outputs": [],
   "source": [
    "numbers = [12, 75, 150, 180, 145, 525, 50]"
   ]
  },
  {
   "cell_type": "code",
   "execution_count": null,
   "id": "3fea65bb",
   "metadata": {},
   "outputs": [],
   "source": [
    "# Exerciese 6\n",
    "-  Count the total number of digits in a number\n",
    "- For example, the number is 75869, so the output should be 5."
   ]
  },
  {
   "cell_type": "code",
   "execution_count": 47,
   "id": "ec3e977d",
   "metadata": {},
   "outputs": [
    {
     "name": "stdout",
     "output_type": "stream",
     "text": [
      "75869\n",
      "5\n"
     ]
    }
   ],
   "source": [
    "num = int(input()) \n",
    "i = 0 \n",
    "cnt = 0\n",
    "while i < len(str(num)):\n",
    "   # print(i)\n",
    "    cnt = cnt + 1\n",
    "    i = i + 1\n",
    "print(cnt)"
   ]
  },
  {
   "cell_type": "code",
   "execution_count": 49,
   "id": "522c68aa",
   "metadata": {},
   "outputs": [
    {
     "name": "stdout",
     "output_type": "stream",
     "text": [
      "12345\n",
      "5\n"
     ]
    }
   ],
   "source": [
    "num = int(input()) \n",
    "cnt = 0 \n",
    "\n",
    "while num != 0 :\n",
    "    num = num // 10 \n",
    "    cnt = cnt + 1\n",
    "print(cnt)"
   ]
  },
  {
   "cell_type": "code",
   "execution_count": null,
   "id": "40cb75c6",
   "metadata": {},
   "outputs": [],
   "source": [
    "# Exerciese 7 Print the following pattern\n",
    "- write a program to use for loop to print the following reverse number pattern"
   ]
  },
  {
   "cell_type": "code",
   "execution_count": 57,
   "id": "46aeeefd",
   "metadata": {},
   "outputs": [
    {
     "name": "stdout",
     "output_type": "stream",
     "text": [
      "5\n",
      "5 4 3 2 1 \n",
      "4 3 2 1 \n",
      "3 2 1 \n",
      "2 1 \n",
      "1 \n"
     ]
    }
   ],
   "source": [
    "num = int(input()) \n",
    "\n",
    "for i in range(num, 0, -1):    \n",
    "    for j in range(i,0,-1):\n",
    "        print(j,end=\" \")\n",
    "    print(\"\")"
   ]
  },
  {
   "cell_type": "code",
   "execution_count": 61,
   "id": "ba4268d9",
   "metadata": {},
   "outputs": [
    {
     "name": "stdout",
     "output_type": "stream",
     "text": [
      "5\n",
      "54321\n",
      "4321\n",
      "321\n",
      "21\n",
      "1\n",
      "\n"
     ]
    }
   ],
   "source": [
    "num = int(input()) \n",
    "\n",
    "for i in range(0,num+1):  # i 는 0~ 5까지.\n",
    "    for j in range(num-i,0, -1):  # j는 5-0, 5-1, 5-2, 5-3, 5-4, 5-5... \n",
    "        print(j,end=\"\")\n",
    "    print()"
   ]
  },
  {
   "cell_type": "code",
   "execution_count": null,
   "id": "8d18bfda",
   "metadata": {},
   "outputs": [],
   "source": [
    "# Exercise 8: Print list in reverse order using a loop"
   ]
  },
  {
   "cell_type": "code",
   "execution_count": 69,
   "id": "baf7e87a",
   "metadata": {},
   "outputs": [
    {
     "name": "stdout",
     "output_type": "stream",
     "text": [
      "50\n",
      "40\n",
      "30\n",
      "20\n",
      "10\n"
     ]
    }
   ],
   "source": [
    "list1 = [10, 20, 30, 40, 50]\n",
    "i = len(list1) - 1  # 4\n",
    "while len(list1) > 0:\n",
    "    print(list1[i])   \n",
    "    i = i - 1   =\n",
    "    if i == -1:\n",
    "        break"
   ]
  },
  {
   "cell_type": "code",
   "execution_count": 65,
   "id": "3d5dbdc3",
   "metadata": {},
   "outputs": [
    {
     "name": "stdout",
     "output_type": "stream",
     "text": [
      "50\n",
      "40\n",
      "30\n",
      "20\n",
      "10\n"
     ]
    }
   ],
   "source": [
    "list1 = [10, 20, 30, 40, 50]\n",
    "\n",
    "for i in range(len(list1)-1,-1,-1):\n",
    "    print(list1[i])"
   ]
  },
  {
   "cell_type": "code",
   "execution_count": 73,
   "id": "b7d2a27a",
   "metadata": {},
   "outputs": [
    {
     "name": "stdout",
     "output_type": "stream",
     "text": [
      "50\n",
      "40\n",
      "30\n",
      "20\n",
      "10\n"
     ]
    }
   ],
   "source": [
    "list1 = [10, 20, 30, 40, 50]\n",
    "new = reversed(list1)\n",
    "\n",
    "for x in new:\n",
    "    print(x)"
   ]
  },
  {
   "cell_type": "code",
   "execution_count": 76,
   "id": "6077df40",
   "metadata": {},
   "outputs": [
    {
     "name": "stdout",
     "output_type": "stream",
     "text": [
      "50\n",
      "40\n",
      "30\n",
      "20\n",
      "10\n"
     ]
    }
   ],
   "source": [
    "list1 = [10, 20, 30, 40, 50]\n",
    "size = len(list1)-1  # b/c index starts with 0 \n",
    "for i in range(size, -1, -1):\n",
    "    print(list1[i])"
   ]
  },
  {
   "cell_type": "code",
   "execution_count": 77,
   "id": "57e8c670",
   "metadata": {},
   "outputs": [
    {
     "name": "stdout",
     "output_type": "stream",
     "text": [
      "-10\n",
      "-9\n",
      "-8\n",
      "-7\n",
      "-6\n",
      "-5\n",
      "-4\n",
      "-3\n",
      "-2\n",
      "-1\n"
     ]
    }
   ],
   "source": [
    "# Exercise 9: Display numbers from -10 to -1 using for loop\n",
    "\n",
    "for i in range(-10,0):\n",
    "    print(i)"
   ]
  },
  {
   "cell_type": "code",
   "execution_count": null,
   "id": "43fff4dc",
   "metadata": {},
   "outputs": [],
   "source": [
    "Exercise 10: Use else block to display a message “Done”"
   ]
  },
  {
   "cell_type": "code",
   "execution_count": 78,
   "id": "03f2a481",
   "metadata": {},
   "outputs": [
    {
     "name": "stdout",
     "output_type": "stream",
     "text": [
      "0\n",
      "1\n",
      "2\n",
      "3\n",
      "4\n",
      "for loop exeuted w/o any error\n"
     ]
    }
   ],
   "source": [
    "for i in range(5):\n",
    "    print(i)\n",
    "else:\n",
    "    print(\"for loop exeuted w/o any error\")"
   ]
  },
  {
   "cell_type": "code",
   "execution_count": null,
   "id": "c213d9bf",
   "metadata": {},
   "outputs": [],
   "source": [
    "# Exercise 11: Write a program to display all prime numbers\n",
    "https://pynative.com/python-if-else-and-for-loop-exercise-with-solutions/#h-exercise-8-print-list-in-reverse-order-using-a-loop"
   ]
  },
  {
   "cell_type": "code",
   "execution_count": 128,
   "id": "56a059ad",
   "metadata": {},
   "outputs": [
    {
     "name": "stdout",
     "output_type": "stream",
     "text": [
      "2\n",
      "3\n",
      "5\n",
      "7\n"
     ]
    }
   ],
   "source": [
    "for i in range(1,11):\n",
    "    result = []\n",
    "    for j in range(1,i+1):         \n",
    "        if i % j == 0 :\n",
    "            result.append(j)\n",
    "    if len(result) == 2:\n",
    "        print(result[1])\n",
    "    continue\n",
    "    print()"
   ]
  },
  {
   "cell_type": "code",
   "execution_count": 131,
   "id": "751073fd",
   "metadata": {},
   "outputs": [
    {
     "name": "stdout",
     "output_type": "stream",
     "text": [
      "29\n",
      "31\n",
      "37\n",
      "41\n",
      "43\n",
      "47\n"
     ]
    }
   ],
   "source": [
    "start = 25\n",
    "end = 50\n",
    "for i in range(1,end):\n",
    "    result = []\n",
    "    for j in range(1,i+1):         \n",
    "        if i % j == 0 :\n",
    "            result.append(j)\n",
    "    if len(result) == 2:\n",
    "        if result[1] >=25:\n",
    "            print(result[1])\n",
    "    continue\n",
    "    print()\n",
    "\n"
   ]
  },
  {
   "cell_type": "code",
   "execution_count": 147,
   "id": "acdd87e0",
   "metadata": {},
   "outputs": [
    {
     "name": "stdout",
     "output_type": "stream",
     "text": [
      "29\n",
      "31\n",
      "37\n",
      "41\n",
      "43\n",
      "47\n"
     ]
    }
   ],
   "source": [
    "start = 25\n",
    "end = 50\n",
    "\n",
    "for num in range(start, end+1):  # num은 3부터 10까지..\n",
    "    if num > 1:   \n",
    "        for i in range(2,num):  # i는 2부터 num 까지.. (num 3 ~ 1)\n",
    "            if (num % i) == 0:\n",
    "                break            \n",
    "        else:\n",
    "            print(num)\n"
   ]
  },
  {
   "cell_type": "code",
   "execution_count": 156,
   "id": "3f8d0250",
   "metadata": {},
   "outputs": [
    {
     "name": "stdout",
     "output_type": "stream",
     "text": [
      "0\n",
      "1\n",
      "1\n",
      "2\n",
      "3\n",
      "5\n",
      "8\n",
      "13\n",
      "21\n",
      "34\n"
     ]
    }
   ],
   "source": [
    "# Exercise 13: Find the factorial of a given number\n",
    "\n",
    "num1 = 0 \n",
    "num2 = 1  \n",
    "\n",
    "for i in range(10):\n",
    "    if i == 0 or i == 1:\n",
    "        print(i)\n",
    "    else:\n",
    "        res = num1 + num2 \n",
    "        num1 = num2\n",
    "        num2 = res\n",
    "        print(res)\n",
    "        "
   ]
  },
  {
   "cell_type": "code",
   "execution_count": 158,
   "id": "fa689cd5",
   "metadata": {},
   "outputs": [
    {
     "name": "stdout",
     "output_type": "stream",
     "text": [
      "0\n",
      "1\n",
      "1\n",
      "2\n",
      "3\n",
      "5\n",
      "8\n",
      "13\n",
      "21\n",
      "34\n"
     ]
    }
   ],
   "source": [
    "# first two numbers\n",
    "num1, num2 = 0, 1\n",
    "\n",
    "for i in range(10):\n",
    "    print(num1)\n",
    "    res = num1 + num2 # 1\n",
    "    num1 = num2 # 1,\n",
    "    num2 = res  # 1\n",
    "    \n",
    "    "
   ]
  },
  {
   "cell_type": "markdown",
   "id": "cdc1921d",
   "metadata": {},
   "source": [
    "#  Exercise 13:  Find the factorial of a given number"
   ]
  },
  {
   "cell_type": "code",
   "execution_count": 163,
   "id": "b8bc1c0b",
   "metadata": {},
   "outputs": [
    {
     "name": "stdout",
     "output_type": "stream",
     "text": [
      "5\n",
      "120\n"
     ]
    }
   ],
   "source": [
    "# For example: calculate the factorial of 5\n",
    "\n",
    "num = int(input())\n",
    "answer = 1\n",
    "for i in range(num,0,-1):\n",
    "    answer = answer * i \n",
    "print(answer)"
   ]
  },
  {
   "cell_type": "code",
   "execution_count": 164,
   "id": "57424ed4",
   "metadata": {},
   "outputs": [
    {
     "name": "stdout",
     "output_type": "stream",
     "text": [
      "5\n",
      "120\n"
     ]
    }
   ],
   "source": [
    "num = int(input())\n",
    "answer = 1\n",
    "\n",
    "if num < 0:\n",
    "    print(\"Factorial does not exist for negative numbers\") \n",
    "elif num == 0:\n",
    "    print(\"The factorial of 0 is 1\")\n",
    "else:\n",
    "    for i in range(1, num+1):\n",
    "        answer = answer * i\n",
    "    print(answer)"
   ]
  },
  {
   "cell_type": "markdown",
   "id": "2e6b2803",
   "metadata": {},
   "source": [
    "#  Exercise 14:  Reverse a given integer number"
   ]
  },
  {
   "cell_type": "code",
   "execution_count": 180,
   "id": "ac309ebe",
   "metadata": {},
   "outputs": [
    {
     "data": {
      "text/plain": [
       "76542"
      ]
     },
     "execution_count": 180,
     "metadata": {},
     "output_type": "execute_result"
    }
   ],
   "source": [
    "num = 76542\n",
    "\n",
    "num"
   ]
  },
  {
   "cell_type": "code",
   "execution_count": 181,
   "id": "a8e342dc",
   "metadata": {},
   "outputs": [
    {
     "name": "stdout",
     "output_type": "stream",
     "text": [
      "24567"
     ]
    }
   ],
   "source": [
    "\n",
    "for i in range(len(str(num))):\n",
    "    answer = num % 10\n",
    "    num = num // 10\n",
    "    print(answer,end=\"\")"
   ]
  },
  {
   "cell_type": "code",
   "execution_count": null,
   "id": "a35320d4",
   "metadata": {},
   "outputs": [],
   "source": [
    "num = 76542\n",
    "rever = 0\n",
    "while num>0:\n",
    "    reminder = num % 10 # 2 \n",
    "    rever = reminder + rever * 10 \n",
    "    num = num // 10 "
   ]
  },
  {
   "cell_type": "markdown",
   "id": "e31302fa",
   "metadata": {},
   "source": [
    "# Exercise 15: Use a loop to display elements from a given list present at odd index positions"
   ]
  },
  {
   "cell_type": "code",
   "execution_count": 183,
   "id": "1678f1b3",
   "metadata": {},
   "outputs": [
    {
     "name": "stdout",
     "output_type": "stream",
     "text": [
      "20\n",
      "40\n",
      "60\n",
      "80\n",
      "100\n"
     ]
    }
   ],
   "source": [
    "my_list = [10, 20, 30, 40, 50, 60, 70, 80, 90, 100]\n",
    "\n",
    "for i in range(1,len(my_list),2):\n",
    "    print(my_list[i])"
   ]
  },
  {
   "cell_type": "code",
   "execution_count": 184,
   "id": "c070b218",
   "metadata": {},
   "outputs": [
    {
     "name": "stdout",
     "output_type": "stream",
     "text": [
      "20\n",
      "40\n",
      "60\n",
      "80\n",
      "100\n"
     ]
    }
   ],
   "source": [
    "my_list = [10, 20, 30, 40, 50, 60, 70, 80, 90, 100]\n",
    "\n",
    "for i in my_list[1::2]:\n",
    "    print(i)"
   ]
  },
  {
   "cell_type": "markdown",
   "id": "ddfe1640",
   "metadata": {},
   "source": [
    "# Exercise 16: Calculate the cube of all numbers from 1 to a given number"
   ]
  },
  {
   "cell_type": "code",
   "execution_count": 193,
   "id": "d92d3f33",
   "metadata": {},
   "outputs": [
    {
     "name": "stdout",
     "output_type": "stream",
     "text": [
      "6\n",
      "1\n",
      "8\n",
      "27\n",
      "64\n",
      "125\n",
      "216\n"
     ]
    }
   ],
   "source": [
    "num = int(input())\n",
    "\n",
    "for i in range(1,num+1):\n",
    "    i = i * i * i \n",
    "    print(i)\n",
    "    "
   ]
  },
  {
   "cell_type": "code",
   "execution_count": 199,
   "id": "71775aa4",
   "metadata": {},
   "outputs": [
    {
     "name": "stdout",
     "output_type": "stream",
     "text": [
      "5\n",
      "1\n",
      "2\n",
      "3\n",
      "4\n"
     ]
    }
   ],
   "source": [
    "# Exercise 17: Find the sum of the series upto n terms\n",
    "num = int(input())\n",
    "for i in range(1,num):\n",
    "    print(i)\n",
    "    "
   ]
  },
  {
   "cell_type": "code",
   "execution_count": 204,
   "id": "3894dabb",
   "metadata": {},
   "outputs": [
    {
     "data": {
      "text/plain": [
       "120"
      ]
     },
     "execution_count": 204,
     "metadata": {},
     "output_type": "execute_result"
    }
   ],
   "source": [
    "def fact(n):\n",
    "    if n == 1:\n",
    "        return 1\n",
    "    return n * fact(n-1)\n",
    "\n",
    "fact(5)"
   ]
  },
  {
   "cell_type": "code",
   "execution_count": 17,
   "id": "d6a60c6c",
   "metadata": {},
   "outputs": [],
   "source": [
    "def cal(num):    \n",
    "    if num == 1:\n",
    "        return 2\n",
    "    answer = 10 ** (num-1) * 2 + cal(num-1)         \n",
    "    return answer + cal(num-1)\n",
    "\n"
   ]
  },
  {
   "cell_type": "code",
   "execution_count": 24,
   "id": "c2b6b388",
   "metadata": {},
   "outputs": [
    {
     "data": {
      "text/plain": [
       "24"
      ]
     },
     "execution_count": 24,
     "metadata": {},
     "output_type": "execute_result"
    }
   ],
   "source": [
    "cal(2)"
   ]
  },
  {
   "cell_type": "code",
   "execution_count": 48,
   "id": "b716ac60",
   "metadata": {},
   "outputs": [
    {
     "name": "stdout",
     "output_type": "stream",
     "text": [
      "*\n",
      "**\n",
      "***\n",
      "****\n",
      "*****\n",
      "****\n",
      "***\n",
      "**\n",
      "*\n"
     ]
    }
   ],
   "source": [
    "# Exercise 18: Print the following pattern\n",
    "\n",
    "\n",
    "for i in range(1,6):  # i는 1~ 5\n",
    "    for j in range(i,i+1): # i가 1일때 j는 1,2 /// 2일때는 \n",
    "        print(\"*\"*j)\n",
    "for p in range(4,0,-1):\n",
    "    print(p * \"*\")\n",
    "    "
   ]
  },
  {
   "cell_type": "code",
   "execution_count": 59,
   "id": "9eb61aac",
   "metadata": {},
   "outputs": [
    {
     "name": "stdout",
     "output_type": "stream",
     "text": [
      "*\n",
      "**\n",
      "***\n",
      "****\n",
      "*****\n",
      "****\n",
      "***\n",
      "**\n",
      "*\n",
      "\n"
     ]
    }
   ],
   "source": [
    "rows = 5\n",
    "\n",
    "for i in range(0,rows):  \n",
    "    for j in range(0, i+1):  # i가 0일때는, j는, 0~ 1/ 1일때는 0.2/// \n",
    "        print(\"*\",end=\"\")\n",
    "    print(\"\")\n",
    "    \n",
    "for i in range(rows,0,-1): # 5,4,3,2,1\n",
    "    for j in range(0,i-1): # 4, 3, 2, 1, ...\n",
    "        print(\"*\",end=\"\")\n",
    "    print(\"\")\n",
    "    "
   ]
  },
  {
   "cell_type": "code",
   "execution_count": null,
   "id": "1397f7ab",
   "metadata": {},
   "outputs": [],
   "source": []
  }
 ],
 "metadata": {
  "kernelspec": {
   "display_name": "Python 3",
   "language": "python",
   "name": "python3"
  },
  "language_info": {
   "codemirror_mode": {
    "name": "ipython",
    "version": 3
   },
   "file_extension": ".py",
   "mimetype": "text/x-python",
   "name": "python",
   "nbconvert_exporter": "python",
   "pygments_lexer": "ipython3",
   "version": "3.6.13"
  }
 },
 "nbformat": 4,
 "nbformat_minor": 5
}
