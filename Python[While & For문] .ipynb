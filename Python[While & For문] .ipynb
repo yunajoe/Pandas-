{
 "cells": [
  {
   "cell_type": "code",
   "execution_count": 1,
   "id": "30b8dde3",
   "metadata": {},
   "outputs": [
    {
     "name": "stdout",
     "output_type": "stream",
     "text": [
      "나는 이쁘다\n",
      "나는 이쁘다\n",
      "나는 이쁘다\n"
     ]
    }
   ],
   "source": [
    "# while문\n",
    "# 나는 이쁘다 3번 출력하기 \n",
    "\n",
    "i = 1\n",
    "while i<4: # 조건부문\n",
    "    print(\"나는 이쁘다\")\n",
    "    i = i + 1"
   ]
  },
  {
   "cell_type": "code",
   "execution_count": 28,
   "id": "c2142ddf",
   "metadata": {},
   "outputs": [
    {
     "name": "stdout",
     "output_type": "stream",
     "text": [
      "2\n",
      "4\n",
      "6\n",
      "8\n",
      "10\n",
      "12\n",
      "14\n",
      "16\n",
      "18\n",
      "20\n",
      "22\n",
      "24\n",
      "26\n",
      "28\n",
      "30\n",
      "32\n",
      "34\n",
      "36\n",
      "38\n",
      "40\n",
      "42\n",
      "44\n",
      "46\n",
      "48\n",
      "50\n",
      "52\n",
      "54\n",
      "56\n",
      "58\n",
      "60\n",
      "62\n",
      "64\n",
      "66\n",
      "68\n",
      "70\n",
      "72\n",
      "74\n",
      "76\n",
      "78\n",
      "80\n",
      "82\n",
      "84\n",
      "86\n",
      "88\n",
      "90\n",
      "92\n",
      "94\n",
      "96\n",
      "98\n",
      "100\n"
     ]
    }
   ],
   "source": [
    "# 실습1 -- 1부터 100까지의 짝수 출력  ( 나의 풀이)\n",
    "\n",
    "i = 1\n",
    "while i <= 100:\n",
    "    if i % 2 == 0 :\n",
    "        print(i)\n",
    "    else:\n",
    "        pass\n",
    "    i = i + 1\n",
    "    \n",
    "        "
   ]
  },
  {
   "cell_type": "code",
   "execution_count": 3,
   "id": "d8e93b2f",
   "metadata": {},
   "outputs": [
    {
     "name": "stdout",
     "output_type": "stream",
     "text": [
      "2\n",
      "4\n",
      "6\n",
      "8\n",
      "10\n",
      "12\n",
      "14\n",
      "16\n",
      "18\n",
      "20\n",
      "22\n",
      "24\n",
      "26\n",
      "28\n",
      "30\n",
      "32\n",
      "34\n",
      "36\n",
      "38\n",
      "40\n",
      "42\n",
      "44\n",
      "46\n",
      "48\n",
      "50\n",
      "52\n",
      "54\n",
      "56\n",
      "58\n",
      "60\n",
      "62\n",
      "64\n",
      "66\n",
      "68\n",
      "70\n",
      "72\n",
      "74\n",
      "76\n",
      "78\n",
      "80\n",
      "82\n",
      "84\n",
      "86\n",
      "88\n",
      "90\n",
      "92\n",
      "94\n",
      "96\n",
      "98\n",
      "100\n"
     ]
    }
   ],
   "source": [
    "# 실습1 -- 1부터 100까지의 짝수 출력  ( 해설 풀이)\n",
    "\n",
    "i = 1\n",
    "while i <=50:\n",
    "    print(i*2)\n",
    "    i = i + 1"
   ]
  },
  {
   "cell_type": "code",
   "execution_count": 13,
   "id": "f800716a",
   "metadata": {},
   "outputs": [
    {
     "name": "stdout",
     "output_type": "stream",
     "text": [
      "115\n"
     ]
    }
   ],
   "source": [
    "# 실습2 -- 100이상의 자연수 중 가장 작은 23의 배수 ( 나의 풀이)\n",
    "\n",
    "i = 100 \n",
    "while True:\n",
    "    if i % 23 ==0:\n",
    "        print(i)\n",
    "        break\n",
    "    i = i + 1"
   ]
  },
  {
   "cell_type": "code",
   "execution_count": 14,
   "id": "b22b3fd9",
   "metadata": {},
   "outputs": [
    {
     "name": "stdout",
     "output_type": "stream",
     "text": [
      "115\n"
     ]
    }
   ],
   "source": [
    "# 실습2 -- 100이상의 자연수 중 가장 작은 23의 배수 (해설 풀이)\n",
    "\n",
    "i = 100 \n",
    "while i% 23 !=0:\n",
    "    i = i + 1   # 23으로 나누어서 0이 안되면.. 계속 loop \n",
    "print(i) # 23 나누기 0일 때 STOP "
   ]
  },
  {
   "cell_type": "code",
   "execution_count": 48,
   "id": "5857bb9d",
   "metadata": {},
   "outputs": [
    {
     "name": "stdout",
     "output_type": "stream",
     "text": [
      "3 2\n",
      "5\n"
     ]
    }
   ],
   "source": [
    "# 실습3 -- 두 정수 A와 B를 입력받은 다음, A+B를 출력하는 프로그램\n",
    " \n",
    "A, B = map(int,input().split())\n",
    "\n",
    "answer = 0 \n",
    "while (A and B) !=0:\n",
    "    answer = A + B \n",
    "    print(answer)\n",
    "    break\n",
    "\n",
    "\n",
    "\n",
    "\n",
    "\n"
   ]
  },
  {
   "cell_type": "code",
   "execution_count": 49,
   "id": "f59dab28",
   "metadata": {},
   "outputs": [
    {
     "name": "stdout",
     "output_type": "stream",
     "text": [
      "3 2\n",
      "5\n"
     ]
    }
   ],
   "source": [
    "# 실습 4 -- 더하기 사이클\n",
    "\n",
    "\n",
    "\n",
    "26 의 더하기 사이클은?\n",
    "2 + 6 = 8   >>> 68 (1)\n",
    "6 + 8 = 14  >>> 84(2)\n",
    "8 + 4 = 12 >>> 42(3)\n",
    "4 + 2 = 6 >>> 26(4)\n",
    "\n",
    "따라서 4!!! "
   ]
  },
  {
   "cell_type": "code",
   "execution_count": null,
   "id": "7864bd69",
   "metadata": {},
   "outputs": [],
   "source": [
    "26 나누기 10.. q: 2 r: 6... q+r = 8... (r * 10) + (q+r) // 10= 68 \n",
    "68 나누기 10 ..q = 6 r = 8 q + r = 14... ( r * 10) + (q+r)//10 = 84\n",
    "84 나누기 10 q =8 , r = 4.. q + r = 12... (r+10) + (q+r)//10 = 42 \n",
    "42나누기 10 q = 4, r = 2 .. q + r = 6.. (r+10) + (q+r)//10 = 26\n",
    "\n"
   ]
  },
  {
   "cell_type": "code",
   "execution_count": 75,
   "id": "ce124d3d",
   "metadata": {},
   "outputs": [
    {
     "name": "stdout",
     "output_type": "stream",
     "text": [
      "0\n",
      "1\n",
      "0\n"
     ]
    }
   ],
   "source": [
    "n = int(input())\n",
    "num = n\n",
    "count = 0 \n",
    "while True:\n",
    "    q = num // 10  # 2\n",
    "    r = num % 10 # 6\n",
    "    if q+r<10:\n",
    "        num = (r *10) + (q+r)\n",
    "    else:\n",
    "        num = (r *10) + (q+r)%10\n",
    "    count = count + 1\n",
    "    if num == n:\n",
    "        print(count)\n",
    "        print(num)\n",
    "        break\n",
    "\n",
    "    \n",
    "    \n",
    "    \n",
    "    "
   ]
  },
  {
   "cell_type": "code",
   "execution_count": 79,
   "id": "019444c5",
   "metadata": {},
   "outputs": [
    {
     "name": "stdout",
     "output_type": "stream",
     "text": [
      "B\n",
      "A\n",
      "E\n",
      "C\n"
     ]
    }
   ],
   "source": [
    "# for \n",
    "# 실습1 -- 학점 계산기 \n",
    "\n",
    "def grade(midterm, final):\n",
    "    total = midterm + final \n",
    "    if total >= 90:\n",
    "        print(\"A\")\n",
    "    elif total >=80:\n",
    "        print(\"B\")\n",
    "    elif total >=70:\n",
    "        print(\"C\")\n",
    "    elif total >=80:\n",
    "        print(\"D\")\n",
    "    else:\n",
    "        print(\"E\")\n",
    "grade(40, 45)\n",
    "grade(60, 45)\n",
    "grade(0, 45)\n",
    "grade(40, 35)"
   ]
  },
  {
   "cell_type": "code",
   "execution_count": 84,
   "id": "41fa9c3e",
   "metadata": {},
   "outputs": [
    {
     "name": "stdout",
     "output_type": "stream",
     "text": [
      "8\n",
      "16\n",
      "32\n",
      "40\n",
      "56\n",
      "64\n",
      "80\n",
      "88\n"
     ]
    }
   ],
   "source": [
    "# 실습2 -- 100 이하의 자연수 중 8의 배수이지만 12의 배수는 아닌 것\n",
    "\n",
    "i = 1\n",
    "while i <= 100:\n",
    "    if (i % 8 == 0) and (i %12 != 0):\n",
    "        print(i)          \n",
    "    i = i + 1"
   ]
  },
  {
   "cell_type": "code",
   "execution_count": 107,
   "id": "304f80f3",
   "metadata": {},
   "outputs": [
    {
     "name": "stdout",
     "output_type": "stream",
     "text": [
      "1\n",
      "2\n",
      "4\n",
      "5\n",
      "10\n",
      "20\n",
      "25\n",
      "50\n",
      "100\n",
      "100의 약수는 총 9개입니다.\n"
     ]
    }
   ],
   "source": [
    "# 실습3 -- n의 약수 \n",
    "\n",
    "num = 100 \n",
    "i = 1\n",
    "count = 0\n",
    "# 1,2, 5, 10 \n",
    "\n",
    "while i <= num:\n",
    "    if num % i == 0:\n",
    "        print(i)\n",
    "        count = count + 1\n",
    "    pass \n",
    "    i = i + 1\n",
    "print(f\"{num}의 약수는 총 {count}개입니다.\")"
   ]
  },
  {
   "cell_type": "code",
   "execution_count": null,
   "id": "ecac9209",
   "metadata": {},
   "outputs": [],
   "source": []
  }
 ],
 "metadata": {
  "kernelspec": {
   "display_name": "Python 3",
   "language": "python",
   "name": "python3"
  },
  "language_info": {
   "codemirror_mode": {
    "name": "ipython",
    "version": 3
   },
   "file_extension": ".py",
   "mimetype": "text/x-python",
   "name": "python",
   "nbconvert_exporter": "python",
   "pygments_lexer": "ipython3",
   "version": "3.8.8"
  }
 },
 "nbformat": 4,
 "nbformat_minor": 5
}
