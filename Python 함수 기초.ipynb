{
 "cells": [
  {
   "cell_type": "code",
   "execution_count": 19,
   "id": "ba495a9e",
   "metadata": {},
   "outputs": [
    {
     "data": {
      "text/plain": [
       "'비트코인'"
      ]
     },
     "execution_count": 19,
     "metadata": {},
     "output_type": "execute_result"
    }
   ],
   "source": [
    "# \"비트코인\" 문자열을 화면에 출력하는 print_coin() 함수를 정의\n",
    "\n",
    "def print_coin():\n",
    "    return \"비트코인\"\n",
    "\n",
    "print_coin()\n"
   ]
  },
  {
   "cell_type": "code",
   "execution_count": 17,
   "id": "23eb7720",
   "metadata": {},
   "outputs": [],
   "source": [
    "# \"비트코인\" 문자열을 100번 화면에 출력하는 print_coins() 함수를 정의\n",
    "\n",
    "def print_coins():\n",
    "    for i in range(100):\n",
    "        print(\"비트코인\")\n",
    "\n",
    "        "
   ]
  },
  {
   "cell_type": "code",
   "execution_count": 18,
   "id": "4e61659b",
   "metadata": {},
   "outputs": [
    {
     "name": "stdout",
     "output_type": "stream",
     "text": [
      "비트코인\n",
      "비트코인\n",
      "비트코인\n",
      "비트코인\n",
      "비트코인\n",
      "비트코인\n",
      "비트코인\n",
      "비트코인\n",
      "비트코인\n",
      "비트코인\n",
      "비트코인\n",
      "비트코인\n",
      "비트코인\n",
      "비트코인\n",
      "비트코인\n",
      "비트코인\n",
      "비트코인\n",
      "비트코인\n",
      "비트코인\n",
      "비트코인\n",
      "비트코인\n",
      "비트코인\n",
      "비트코인\n",
      "비트코인\n",
      "비트코인\n",
      "비트코인\n",
      "비트코인\n",
      "비트코인\n",
      "비트코인\n",
      "비트코인\n",
      "비트코인\n",
      "비트코인\n",
      "비트코인\n",
      "비트코인\n",
      "비트코인\n",
      "비트코인\n",
      "비트코인\n",
      "비트코인\n",
      "비트코인\n",
      "비트코인\n",
      "비트코인\n",
      "비트코인\n",
      "비트코인\n",
      "비트코인\n",
      "비트코인\n",
      "비트코인\n",
      "비트코인\n",
      "비트코인\n",
      "비트코인\n",
      "비트코인\n",
      "비트코인\n",
      "비트코인\n",
      "비트코인\n",
      "비트코인\n",
      "비트코인\n",
      "비트코인\n",
      "비트코인\n",
      "비트코인\n",
      "비트코인\n",
      "비트코인\n",
      "비트코인\n",
      "비트코인\n",
      "비트코인\n",
      "비트코인\n",
      "비트코인\n",
      "비트코인\n",
      "비트코인\n",
      "비트코인\n",
      "비트코인\n",
      "비트코인\n",
      "비트코인\n",
      "비트코인\n",
      "비트코인\n",
      "비트코인\n",
      "비트코인\n",
      "비트코인\n",
      "비트코인\n",
      "비트코인\n",
      "비트코인\n",
      "비트코인\n",
      "비트코인\n",
      "비트코인\n",
      "비트코인\n",
      "비트코인\n",
      "비트코인\n",
      "비트코인\n",
      "비트코인\n",
      "비트코인\n",
      "비트코인\n",
      "비트코인\n",
      "비트코인\n",
      "비트코인\n",
      "비트코인\n",
      "비트코인\n",
      "비트코인\n",
      "비트코인\n",
      "비트코인\n",
      "비트코인\n",
      "비트코인\n",
      "비트코인\n"
     ]
    }
   ],
   "source": [
    "print_coins()"
   ]
  },
  {
   "cell_type": "code",
   "execution_count": 21,
   "id": "f00141d4",
   "metadata": {},
   "outputs": [
    {
     "name": "stdout",
     "output_type": "stream",
     "text": [
      "안뇽!:D\n"
     ]
    }
   ],
   "source": [
    "# 하나의 문자를 입력받아 문자열 끝에 \":D\" 스마일 문자열을 이어 붙여 출력하는 print_with_smile 함수를 정의\n",
    "\n",
    "def print_with_smile(text):\n",
    "    print(text + \":D\")\n",
    "\n",
    "print_with_smile(\"안뇽!\")"
   ]
  },
  {
   "cell_type": "code",
   "execution_count": 22,
   "id": "9f90cf04",
   "metadata": {},
   "outputs": [
    {
     "name": "stdout",
     "output_type": "stream",
     "text": [
      "안녕하세요!:D\n"
     ]
    }
   ],
   "source": [
    "# 215에서 정의한 함수를 호출하라. 파라미터는 \"안녕하세요\"로 입력하시오\n",
    "\n",
    "print_with_smile(\"안녕하세요!\")"
   ]
  },
  {
   "cell_type": "code",
   "execution_count": 26,
   "id": "d1f94168",
   "metadata": {},
   "outputs": [
    {
     "name": "stdout",
     "output_type": "stream",
     "text": [
      "현재가격30000\n"
     ]
    },
    {
     "data": {
      "text/plain": [
       "39000.0"
      ]
     },
     "execution_count": 26,
     "metadata": {},
     "output_type": "execute_result"
    }
   ],
   "source": [
    "# 현재 가격을 입력 받아 상한가 (30%)를 출력하는 print_upper_price 함수를 정의\n",
    "\n",
    "def print_upper_price(price):\n",
    "    now_price = int(input(\"현재가격\"))\n",
    "    ceiling_price = now_price * 1.3\n",
    "    return ceiling_price\n",
    "\n",
    "print_upper_price(30000)\n",
    "\n",
    "\n",
    "    "
   ]
  },
  {
   "cell_type": "code",
   "execution_count": 27,
   "id": "da75192e",
   "metadata": {},
   "outputs": [
    {
     "name": "stdout",
     "output_type": "stream",
     "text": [
      "5\n"
     ]
    }
   ],
   "source": [
    "# 두 개의 숫자를 입력받아 두 수의 합을 출력하는 print_sum 함수를 정의\n",
    "\n",
    "def print_sum(a,b):\n",
    "    print(a+b)\n",
    "\n",
    "print_sum(3,2)"
   ]
  },
  {
   "cell_type": "code",
   "execution_count": 29,
   "id": "2cd6c6d2",
   "metadata": {},
   "outputs": [
    {
     "name": "stdout",
     "output_type": "stream",
     "text": [
      "3 + 4 = 7\n",
      "3 - 4 = -1\n",
      "3 * 4 = 12\n",
      "3 / 4 = 0.75\n"
     ]
    }
   ],
   "source": [
    "# 두 개의 숫자를 입력받아 합/차/곱/나눗셈을 출력하는 print_arithmetic_operation 함수를 작성\n",
    "\n",
    "def print_arithmetic_operation(a,b):\n",
    "    print(a, \"+\",b, \"=\",a+b)\n",
    "    print(a,\"-\",b,\"=\",a-b)\n",
    "    print(a,\"*\",b,\"=\",a*b)\n",
    "    print(a,\"/\",b,\"=\",a/b)\n",
    "\n",
    "print_arithmetic_operation(3, 4)"
   ]
  },
  {
   "cell_type": "code",
   "execution_count": 31,
   "id": "27ba779f",
   "metadata": {},
   "outputs": [
    {
     "name": "stdout",
     "output_type": "stream",
     "text": [
      "95\n"
     ]
    }
   ],
   "source": [
    "# 세 개의 숫자를 입력받아 가장 큰수를 출력하는 print_max 함수를 정의하라. 단 if 문을 사용해서 수를 비교\n",
    "def print_max(a,b,c):\n",
    "    if a>b and a>c:\n",
    "        print(a)\n",
    "    elif b>a and b>c:\n",
    "        print(b)\n",
    "    else:\n",
    "        print(c)\n",
    "        \n",
    "print_max(10,95,34)"
   ]
  },
  {
   "cell_type": "code",
   "execution_count": 34,
   "id": "f901146e",
   "metadata": {},
   "outputs": [
    {
     "name": "stdout",
     "output_type": "stream",
     "text": [
      "녕안녕안\n"
     ]
    }
   ],
   "source": [
    "# 입력된 문자열을 역순으로 출력하는 print_reverse 함수를 정의\n",
    "\n",
    "def print_reverse(string):\n",
    "    print(string[::-1])\n",
    "    \n",
    "print_reverse(\"안녕안녕\")"
   ]
  },
  {
   "cell_type": "code",
   "execution_count": 42,
   "id": "7dd45d55",
   "metadata": {},
   "outputs": [
    {
     "name": "stdout",
     "output_type": "stream",
     "text": [
      "2.0\n"
     ]
    }
   ],
   "source": [
    "# 성적 리스트를 입력 받아 평균을 출력하는 print_score 함수를 정의\n",
    "\n",
    "def print_score(report):\n",
    "    print(sum(report)/len(report))\n",
    "\n",
    "print_score ([1, 2, 3])"
   ]
  },
  {
   "cell_type": "code",
   "execution_count": 43,
   "id": "b98a36c8",
   "metadata": {},
   "outputs": [
    {
     "name": "stdout",
     "output_type": "stream",
     "text": [
      "2\n",
      "10\n",
      "12\n"
     ]
    }
   ],
   "source": [
    "# 하나의 리스트를 입력받아 짝수만 화면에 출력하는 print_even 함수를 정의\n",
    "\n",
    "def print_even(LIST):\n",
    "    for i in LIST:\n",
    "        if i % 2 == 0 :\n",
    "            print(i)\n",
    "            \n",
    "print_even ([1, 3, 2, 10, 12, 11, 15])"
   ]
  },
  {
   "cell_type": "code",
   "execution_count": 52,
   "id": "96666f59",
   "metadata": {},
   "outputs": [
    {
     "name": "stdout",
     "output_type": "stream",
     "text": [
      "이름\n",
      "나이\n",
      "성별\n"
     ]
    }
   ],
   "source": [
    "# 하나의 딕셔너리를 입력받아 딕셔너리의 key 값을 화면에 출력하는 print_keys 함수를 정의\n",
    "\n",
    "def print_keys(dic):\n",
    "    for keys in dic.keys():\n",
    "        print(keys)\n",
    "        \n",
    "print_keys ({\"이름\":\"김말똥\", \"나이\":30, \"성별\":0})\n"
   ]
  },
  {
   "cell_type": "code",
   "execution_count": 72,
   "id": "e2fcb659",
   "metadata": {},
   "outputs": [
    {
     "name": "stdout",
     "output_type": "stream",
     "text": [
      "아이엠어보\n",
      "이유알어걸\n"
     ]
    }
   ],
   "source": [
    "# 입력 문자열을 한 줄에 다섯글자씩 출력하는 print_5xn(string) 함수를 작성\n",
    "\n",
    "def print_5xn(string):\n",
    "    for i in range(0,len(string),5):\n",
    "        print(string[i:i+5])\n",
    "        \n",
    "print_5xn(\"아이엠어보이유알어걸\")"
   ]
  },
  {
   "cell_type": "code",
   "execution_count": null,
   "id": "22a60761",
   "metadata": {},
   "outputs": [],
   "source": [
    "# 문자열과 한줄에 출력될 글자 수를 입력을 받아 한 줄에 입력된 글자 수만큼 출력하는 print_mxn(string) 함수를 작성\n",
    "n = int(input())\n",
    "\n",
    "def print_mxn(string):\n",
    "    for i in range(0, len(string),n):\n",
    "        print(string[i:i+n])\n",
    "        \n",
    "printmxn(\"아이엠어보이유알어걸\")"
   ]
  },
  {
   "cell_type": "code",
   "execution_count": null,
   "id": "abc32a1d",
   "metadata": {},
   "outputs": [],
   "source": [
    "# 왼쪽: 200  오른쪽 : 100 와 같이 출력하시오 \n",
    "\n",
    "def my_print(a,b):\n",
    "    print(\"왼쪽:\", a)\n",
    "    print(\"오른쪽:\", b)\n",
    "\n",
    "my_print(200,100)"
   ]
  },
  {
   "cell_type": "code",
   "execution_count": 7,
   "id": "e70e832a",
   "metadata": {},
   "outputs": [
    {
     "name": "stdout",
     "output_type": "stream",
     "text": [
      "www.naver.com\n"
     ]
    },
    {
     "data": {
      "text/plain": [
       "'www.google.com'"
      ]
     },
     "execution_count": 7,
     "metadata": {},
     "output_type": "execute_result"
    }
   ],
   "source": [
    "# 문자열 하나를 입력받아 인터넷 주소를 반환하는 make_url 함수를 정의 \n",
    "\n",
    "def make_url(url):\n",
    "    print(\"www.\" + str(url) +\".com\")\n",
    "    \n",
    "make_url(\"naver\")\n",
    "\n",
    "def make_url2(url):\n",
    "    return \"www.\" + url + \".com\"\n",
    "\n",
    "make_url2(\"google\")\n",
    "\n",
    "\n"
   ]
  },
  {
   "cell_type": "code",
   "execution_count": 13,
   "id": "a41c82d9",
   "metadata": {},
   "outputs": [
    {
     "data": {
      "text/plain": [
       "['a', 'b', 'c', 'd']"
      ]
     },
     "execution_count": 13,
     "metadata": {},
     "output_type": "execute_result"
    }
   ],
   "source": [
    "# 문자열을 입력받아 각 문자들로 구성된 리스트로 반환하는 make_list 함수를 정의\n",
    "\n",
    "list = []\n",
    "\n",
    "def make_list(alpha):   \n",
    "    for i in alpha:\n",
    "        list.append(i)\n",
    "    return list\n",
    "\n",
    "make_list(\"abcd\")\n",
    "    \n",
    "    "
   ]
  },
  {
   "cell_type": "code",
   "execution_count": 19,
   "id": "9e2dc912",
   "metadata": {},
   "outputs": [
    {
     "data": {
      "text/plain": [
       "[4, 6, 8]"
      ]
     },
     "execution_count": 19,
     "metadata": {},
     "output_type": "execute_result"
    }
   ],
   "source": [
    "# 짝수들을 추출하여 리스트로 반환하는 pickup_even 함수를 구현\n",
    "\n",
    "list2 = []\n",
    "\n",
    "def pickup_even(items):\n",
    "    for item in items:\n",
    "        if item % 2 == 0:\n",
    "            list2.append(item)\n",
    "    return list2\n",
    "        \n",
    "pickup_even([3, 4, 5, 6, 7, 8])     "
   ]
  },
  {
   "cell_type": "code",
   "execution_count": 28,
   "id": "846d931a",
   "metadata": {},
   "outputs": [
    {
     "data": {
      "text/plain": [
       "'1234567'"
      ]
     },
     "execution_count": 28,
     "metadata": {},
     "output_type": "execute_result"
    }
   ],
   "source": [
    "# 콤마가 포함된 문자열 숫자를 입력받아 정수로 변환하는 convert_int 함수를 정의\n",
    "\n",
    "def convert_int(numbers):\n",
    "    fixed_numbers = numbers.replace(\",\",\"\")  # 여전히 문자열\n",
    "    return fixed_numbers\n",
    "\n",
    "convert_int(\"1,234,567\")\n",
    "\n",
    "\n"
   ]
  },
  {
   "cell_type": "code",
   "execution_count": 29,
   "id": "dd2ca30e",
   "metadata": {},
   "outputs": [
    {
     "name": "stdout",
     "output_type": "stream",
     "text": [
      "1234567\n"
     ]
    }
   ],
   "source": [
    "def convert_int2(numbers2):\n",
    "    fixed_numbers2 = int(numbers2.replace(\",\",\"\"))  # int로 해서 숫자로 바꿈\n",
    "    return fixed_numbers2\n",
    "\n",
    "\n",
    "print(convert_int2(\"1,234,567\"))"
   ]
  },
  {
   "cell_type": "code",
   "execution_count": null,
   "id": "dda9b7c0",
   "metadata": {},
   "outputs": [],
   "source": []
  }
 ],
 "metadata": {
  "kernelspec": {
   "display_name": "Python 3",
   "language": "python",
   "name": "python3"
  },
  "language_info": {
   "codemirror_mode": {
    "name": "ipython",
    "version": 3
   },
   "file_extension": ".py",
   "mimetype": "text/x-python",
   "name": "python",
   "nbconvert_exporter": "python",
   "pygments_lexer": "ipython3",
   "version": "3.8.8"
  }
 },
 "nbformat": 4,
 "nbformat_minor": 5
}
