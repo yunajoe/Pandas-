{
 "cells": [
  {
   "cell_type": "code",
   "execution_count": null,
   "id": "a338b4e2",
   "metadata": {},
   "outputs": [],
   "source": [
    "# class  똑같은 무엇인가를 계속 만들어낼 수 있는 것 \n",
    "# 객체(object)"
   ]
  },
  {
   "cell_type": "code",
   "execution_count": null,
   "id": "72e0d278",
   "metadata": {},
   "outputs": [],
   "source": [
    "# class 클래스이름: \n",
    "# def 메서드(변수1,변수2,,,)\n",
    "# 인스턴스명 = 클래스()   \n",
    "# 객체.메서드()"
   ]
  },
  {
   "cell_type": "code",
   "execution_count": null,
   "id": "22129619",
   "metadata": {},
   "outputs": [],
   "source": [
    "# 클래스 정의\n",
    "# 비어있는 사람 (Human) 클래스를 \"정의\"\n",
    "\n",
    "class Human():\n",
    "    pass\n"
   ]
  },
  {
   "cell_type": "code",
   "execution_count": null,
   "id": "420117b0",
   "metadata": {},
   "outputs": [],
   "source": [
    "# 인스턴스 생성\n",
    "# 사람 (Human) 클래스의 인스턴스를 \"생성\" 하고 이를 areum 변수로 바인딩\n",
    "\n",
    "class Human():\n",
    "    pass \n",
    "\n",
    "areum= Human()"
   ]
  },
  {
   "cell_type": "code",
   "execution_count": 19,
   "id": "6c17eaa6",
   "metadata": {},
   "outputs": [
    {
     "name": "stdout",
     "output_type": "stream",
     "text": [
      "응애응애\n"
     ]
    },
    {
     "data": {
      "text/plain": [
       "<__main__.Human at 0x1817c60b940>"
      ]
     },
     "execution_count": 19,
     "metadata": {},
     "output_type": "execute_result"
    }
   ],
   "source": [
    "# 사람 (Human) 클래스에 \"응애응애\"를 출력하는 생성자를 추가\n",
    "\n",
    "class Human():\n",
    "    def __init__(self):   # __init__ 객체가 생성될 때 자동으로 호출되는 메서드\n",
    "        print(\"응애응애\")\n",
    "\n",
    "areum = Human()\n",
    "areum"
   ]
  },
  {
   "cell_type": "code",
   "execution_count": 21,
   "id": "0f2249bd",
   "metadata": {},
   "outputs": [
    {
     "data": {
      "text/plain": [
       "'연아'"
      ]
     },
     "execution_count": 21,
     "metadata": {},
     "output_type": "execute_result"
    }
   ],
   "source": [
    "# 사람 (Human) 클래스에 (이름, 나이, 성별)을 받는 생성자를 추가\n",
    "\n",
    "class Human():\n",
    "    def __init__(self,name,age,gender):\n",
    "        self.name = name\n",
    "        self.age = age\n",
    "        self.gender = gender\n",
    "\n",
    "areum = Human(\"연아\",100,\"여자\")\n",
    "areum.name"
   ]
  },
  {
   "cell_type": "code",
   "execution_count": 23,
   "id": "f13e963e",
   "metadata": {},
   "outputs": [
    {
     "name": "stdout",
     "output_type": "stream",
     "text": [
      "연아\n",
      "100\n",
      "여자\n"
     ]
    }
   ],
   "source": [
    "# 생성한 인스턴스의 이름, 나이, 성별을 출력하세요. 인스턴스 변수에 접근하여 값\n",
    "\n",
    "print(areum.name)\n",
    "print(areum.age)\n",
    "print(areum.gender)"
   ]
  },
  {
   "cell_type": "code",
   "execution_count": 25,
   "id": "633d05f3",
   "metadata": {},
   "outputs": [
    {
     "name": "stdout",
     "output_type": "stream",
     "text": [
      "이름:연아, 나이:30, 성별:여자\n"
     ]
    }
   ],
   "source": [
    "# 사람 (Human) 클래스에서 이름, 나이, 성별을 출력하는 who() 메소드를 추가\n",
    "\n",
    "class Human():\n",
    "    def __init__(self,name,age,gender):\n",
    "        self.name = name\n",
    "        self.age = age\n",
    "        self.gender = gender\n",
    "        \n",
    "    def who(self):\n",
    "        print(\"이름:{}, 나이:{}, 성별:{}\"\n",
    "             .format(self.name,self.age,self.gender))\n",
    "\n",
    "areum = Human(\"연아\",30,\"여자\")\n",
    "Human.who(areum)\n"
   ]
  },
  {
   "cell_type": "code",
   "execution_count": 30,
   "id": "bdb02c88",
   "metadata": {},
   "outputs": [
    {
     "name": "stdout",
     "output_type": "stream",
     "text": [
      "이름:연아 나이:30 성별:여자\n",
      "이름:아연 나이:30 성별:남자\n"
     ]
    }
   ],
   "source": [
    "# 사람 (Human) 클래스에 (이름, 나이, 성별)을 받는 setInfo 메소드를 추가\n",
    "\n",
    "class Human():\n",
    "    def __init__(self, name, age, sex):\n",
    "        self.name = name\n",
    "        self.age = age\n",
    "        self.sex = sex\n",
    "    \n",
    "    def who(self):\n",
    "        print(\"이름:{} 나이:{} 성별:{}\".format(self.name, self.age, self.sex))\n",
    "        \n",
    "    def setInfo(self,name,age,sex):\n",
    "        self.name = name \n",
    "        self.age = age\n",
    "        self.sex = sex\n",
    "        \n",
    "areum = Human(\"연아\",30,\"여자\")\n",
    "Human.who(areum) # areum.who()\n",
    "\n",
    "areum.setInfo(\"아연\",30,\"남자\")\n",
    "areum.who()\n",
    "\n",
    "    "
   ]
  },
  {
   "cell_type": "code",
   "execution_count": 32,
   "id": "951e50b8",
   "metadata": {},
   "outputs": [
    {
     "name": "stdout",
     "output_type": "stream",
     "text": [
      "나의 죽음을 알리지 마라\n"
     ]
    }
   ],
   "source": [
    "# 사람 (human) 클래스에 \"나의 죽음을 알리지 말라\"를 출력하는 소멸자를 추가\n",
    "\n",
    "class Human():\n",
    "    def __init__(self, name, age, sex):\n",
    "        self.name = name\n",
    "        self.age = age\n",
    "        self.sex = sex\n",
    "    \n",
    "    def who(self):\n",
    "        print(\"이름:{} 나이:{} 성별:{}\".format(self.name, self.age, self.sex))\n",
    "        \n",
    "    def setInfo(self,name,age,sex):\n",
    "        self.name = name \n",
    "        self.age = age\n",
    "        self.sex = sex\n",
    "        \n",
    "    def __del__(self):\n",
    "        print(\"나의 죽음을 알리지 마라\")\n",
    "        \n",
    "areum= Human(\"연아\",33,\"여자\")\n",
    "del(areum)"
   ]
  },
  {
   "cell_type": "code",
   "execution_count": null,
   "id": "8e7d2b9b",
   "metadata": {},
   "outputs": [],
   "source": [
    "# Stock 클래스를 정의하기\n",
    "# 클래스는 속성과 메서드를 갖고 있지 않습니다.\n",
    "\n",
    "class Stock():\n",
    "    pass\n",
    "        "
   ]
  },
  {
   "cell_type": "code",
   "execution_count": 38,
   "id": "2f924beb",
   "metadata": {},
   "outputs": [
    {
     "name": "stdout",
     "output_type": "stream",
     "text": [
      "삼성전자\n",
      "005930\n"
     ]
    }
   ],
   "source": [
    "# Stock 클래스의 객체가 생성될 때 종목명과 종목코드를 입력 받을 수 있도록 생성자를 정의해보세요.\n",
    "\n",
    "class Stock():\n",
    "    def __init__(self,stock_name,stock_code):\n",
    "        self.stock_name = stock_name\n",
    "        self.stock_code = stock_code\n",
    "        \n",
    "삼성 = Stock(\"삼성전자\", \"005930\")\n",
    "\n",
    "print(삼성.stock_name)\n",
    "print(삼성.stock_code)"
   ]
  },
  {
   "cell_type": "code",
   "execution_count": 44,
   "id": "7dff17e8",
   "metadata": {},
   "outputs": [
    {
     "name": "stdout",
     "output_type": "stream",
     "text": [
      "xx증권\n"
     ]
    }
   ],
   "source": [
    "# 객체에 종목명을 입력할 수 있는 set_name 메서드를 추가\n",
    "\n",
    "class Stock():\n",
    "    def __init__(self,stock_name,stock_code):\n",
    "        self.stock_name = stock_name\n",
    "        self.stock_code = stock_code\n",
    "        \n",
    "    def set_name(self,stock_name):\n",
    "        self.stock_name = stock_name\n",
    "\n",
    "new_stock = Stock(None,None)\n",
    "Stock.set_name(new_stock,\"xx증권\")   # new_stock.set_name(\"xx증권\")\n",
    "\n",
    "print(new_stock.stock_name)\n"
   ]
  },
  {
   "cell_type": "code",
   "execution_count": 3,
   "id": "9050ff3f",
   "metadata": {},
   "outputs": [
    {
     "name": "stdout",
     "output_type": "stream",
     "text": [
      "005930\n"
     ]
    }
   ],
   "source": [
    "# 객체에 종목코드를 입력할 수 있는 set_code 메서드를 추가\n",
    "\n",
    "class Stock():\n",
    "    def __init__(self, stock_name,stock_code):\n",
    "        self.stock_name = stock_name\n",
    "        self.stock_code = stock_code \n",
    "        \n",
    "    def set_name(self,stock_name):\n",
    "        self.stock_name= stock_name\n",
    "        \n",
    "    def set_code(self, stock_code):\n",
    "        self.stock_code = stock_code \n",
    "        \n",
    "new_stock= Stock(None,None)\n",
    "new_stock.set_code(\"005930\")  # Stock.set_code(new_stock,\"005930\")\n",
    "print(new_stock.stock_code)"
   ]
  },
  {
   "cell_type": "code",
   "execution_count": 15,
   "id": "3ff6cb55",
   "metadata": {},
   "outputs": [
    {
     "name": "stdout",
     "output_type": "stream",
     "text": [
      "삼성전자\n",
      "2121212\n",
      "<bound method Stock.set_name of <__main__.Stock object at 0x0000027530BD7A60>>\n",
      "<bound method Stock.set_code of <__main__.Stock object at 0x0000027530BD7A60>>\n"
     ]
    }
   ],
   "source": [
    "# 종목명과 종목코드를 리턴하는 get_name, get_code 메서드를 추가\n",
    "\n",
    "class Stock():\n",
    "    def __init__(self,stock_name, stock_code):\n",
    "        self.stock_name = stock_name\n",
    "        self.stock_code = stock_code \n",
    "        \n",
    "    def set_name(self, set_name):\n",
    "        self.stock_name\n",
    "        \n",
    "    def set_code(self, set_code):\n",
    "        self.stock_code\n",
    "        \n",
    "    def get_name(self):\n",
    "        return self.set_name\n",
    "    \n",
    "    def get_code(self):\n",
    "        return self.set_code\n",
    "\n",
    "삼성 = Stock(\"삼성전자\",\"2121212\")\n",
    "\n",
    "print(삼성.stock_name)\n",
    "print(삼성.stock_code)\n",
    "print(삼성.get_name())\n",
    "print(삼성.get_code())"
   ]
  },
  {
   "cell_type": "code",
   "execution_count": 16,
   "id": "3d0bc55e",
   "metadata": {},
   "outputs": [],
   "source": [
    "# 생성자에서 종목명, 종목코드, PER, PBR, 배당수익률을 입력 받을 수 있도록 생성자를 수정하세요. PER, PBR, 배당수익률은 float 타입\n",
    "\n",
    "class Stock:\n",
    "    def __init__(self, name, code, per,pbr,배당수익률):\n",
    "        self.name = name\n",
    "        self.code = code\n",
    "        self.per = per \n",
    "        self.pbr = pbr \n",
    "        self.배당수익률 = 배당수익률\n",
    "        \n",
    "    def set_name(self,name):\n",
    "        self.name = name\n",
    "    \n",
    "    def set_code(self,code):\n",
    "        self.code = code \n",
    "    \n",
    "    def get_name(self):\n",
    "        return self.name\n",
    "    \n",
    "    def get_code(self):\n",
    "        return self.code \n",
    "    \n"
   ]
  },
  {
   "cell_type": "code",
   "execution_count": 23,
   "id": "d3bb2f82",
   "metadata": {},
   "outputs": [
    {
     "name": "stdout",
     "output_type": "stream",
     "text": [
      "삼성전자\n",
      "005930\n",
      "15.79\n",
      "1.33\n",
      "2.83\n"
     ]
    }
   ],
   "source": [
    "# 위에서 정의한 생성자를 통해 다음 정보를 갖는 객체 생성하기 \n",
    "# 종목명 = 삼성전자, 종목코드 = 005930, per = 15.79, pbr = 1.33, 배당수익률 = 2.83\n",
    "\n",
    "new_stock = Stock(\"삼성전자\",\"005930\",15.79,1.33,2.83)\n",
    "print(new_stock.name)\n",
    "print(new_stock.code)\n",
    "print(new_stock.per)\n",
    "print(new_stock.pbr)\n",
    "print(new_stock.배당수익률)"
   ]
  },
  {
   "cell_type": "code",
   "execution_count": 2,
   "id": "9f9a228b",
   "metadata": {},
   "outputs": [],
   "source": [
    "# PER, PBR, 배당수익률은 변경될 수 있는 값입니다. 이 값을 변경할 때 사용하는 set_per, set_pbr, set_dividend 메서드를 추가\n",
    "\n",
    "class Stock:\n",
    "    def __init__(self, name, code, per,pbr,dividend):\n",
    "        self.name = name\n",
    "        self.code = code\n",
    "        self.per = per \n",
    "        self.pbr = pbr \n",
    "        self.dividend = dividend\n",
    "        \n",
    "    def set_name(self,name):\n",
    "        self.name = name\n",
    "    \n",
    "    def set_code(self,code):\n",
    "        self.code = code \n",
    "    \n",
    "    def get_name(self):\n",
    "        return self.name\n",
    "    \n",
    "    def get_code(self):\n",
    "        return self.code \n",
    "    \n",
    "    def set_per(self,per):\n",
    "        self.per = per\n",
    "        \n",
    "    def set_pbr(self,pbr):\n",
    "        self.pbr = pbr\n",
    "        \n",
    "    def set_dividend(self, dividend):\n",
    "        self.dividend = dividend\n",
    "        \n",
    "        \n",
    "        \n"
   ]
  },
  {
   "cell_type": "code",
   "execution_count": 3,
   "id": "e40dbfc1",
   "metadata": {},
   "outputs": [
    {
     "data": {
      "text/plain": [
       "12.75"
      ]
     },
     "execution_count": 3,
     "metadata": {},
     "output_type": "execute_result"
    }
   ],
   "source": [
    "# set_per 메서드를 호출하여 per 값을 12.75로 수정\n",
    "\n",
    "new_stock = Stock(\"삼성전자\",\"005930\",15.79,1.33,2.83)\n",
    "new_stock.set_per(12.75)\n",
    "new_stock.per\n"
   ]
  },
  {
   "cell_type": "code",
   "execution_count": 11,
   "id": "d01f3864",
   "metadata": {},
   "outputs": [
    {
     "name": "stdout",
     "output_type": "stream",
     "text": [
      "주식이름: 삼성전자, 종목코드 : 005930, PBR: 1.33\n",
      "주식이름: 현대차, 종목코드 : 005380, PBR: 0.35\n",
      "주식이름: LG전자, 종목코드 : 066570, PBR: 0.69\n"
     ]
    }
   ],
   "source": [
    "# 여러 종목의 객체 생성\n",
    "# for 루프틑 통해이름, 종목코드,per출력\n",
    "Stock_list = []\n",
    "\n",
    "new_stock1 = Stock(\"삼성전자\",\"005930\",15.79,1.33,2.83)\n",
    "new_stock2 = Stock(\"현대차\",\"005380\",8.70,0.35,4.27)\n",
    "new_stock3 = Stock(\"LG전자\",\"066570\",317.34,0.69,1.37)\n",
    "\n",
    "Stock_list.append(new_stock1)\n",
    "Stock_list.append(new_stock2)\n",
    "Stock_list.append(new_stock3)\n",
    "\n",
    "for i in Stock_list:\n",
    "    print(\"주식이름: {}, 종목코드 : {}, PBR: {}\".format(i.name,i.code, i.pbr))"
   ]
  },
  {
   "cell_type": "code",
   "execution_count": null,
   "id": "480f8fc9",
   "metadata": {},
   "outputs": [],
   "source": []
  }
 ],
 "metadata": {
  "kernelspec": {
   "display_name": "Python 3",
   "language": "python",
   "name": "python3"
  },
  "language_info": {
   "codemirror_mode": {
    "name": "ipython",
    "version": 3
   },
   "file_extension": ".py",
   "mimetype": "text/x-python",
   "name": "python",
   "nbconvert_exporter": "python",
   "pygments_lexer": "ipython3",
   "version": "3.8.8"
  }
 },
 "nbformat": 4,
 "nbformat_minor": 5
}
