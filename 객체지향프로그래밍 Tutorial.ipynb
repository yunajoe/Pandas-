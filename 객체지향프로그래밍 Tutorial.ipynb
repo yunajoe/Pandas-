{
 "cells": [
  {
   "cell_type": "code",
   "execution_count": null,
   "id": "32dd66c3",
   "metadata": {},
   "outputs": [],
   "source": [
    "## 출처: \n",
    "- https://www.codeit.kr/dashboard\n",
    "- https://www.programiz.com/python-programming/decorator"
   ]
  },
  {
   "cell_type": "code",
   "execution_count": null,
   "id": "69bccb4f",
   "metadata": {},
   "outputs": [],
   "source": [
    "## 용어 정리 \n",
    "- 객체는 속성(변수)과 행동(메소드, 함수)으로 이루어져 있다.\n",
    "- 메소드는 인스턴스, 클래스, 정적 method으로 이루어져 있다."
   ]
  },
  {
   "cell_type": "code",
   "execution_count": null,
   "id": "354d2f1f",
   "metadata": {},
   "outputs": [],
   "source": [
    "## 인스턴스 변수 정의하기 \n",
    "- 인스턴스이름.속성이름(instance 변수) = \"속성에 넣을 값\"\n",
    "- 인스턴스 변수를 사용하려면 미리 정의해야한다.\n",
    "- 인스턴스 변수는 각긱 인스턴스, 자신만의 속성이다."
   ]
  },
  {
   "cell_type": "code",
   "execution_count": null,
   "id": "31e74acf",
   "metadata": {},
   "outputs": [],
   "source": [
    "## __init__ 메소드 \n",
    "- underbar가 앞뒤로 두개씩 있는 메소드는, magic method(특수메소드)라 한다.\n",
    "- 특수 메소드는 특정 상황에 자동으로 호출되는 메소드\n",
    "- __init__은 인스턴스가 생성될 때 자동으로 호출\n"
   ]
  },
  {
   "cell_type": "code",
   "execution_count": 4,
   "id": "3e00f9a8",
   "metadata": {},
   "outputs": [
    {
     "name": "stdout",
     "output_type": "stream",
     "text": [
      "yuna1\n",
      "econ\n"
     ]
    }
   ],
   "source": [
    "class Person:\n",
    "    def __init__(self, name, major, email):\n",
    "        self.name = name\n",
    "        self.major = major\n",
    "        self.email = email\n",
    "        \n",
    "p1 = Person(\"yuna1\", \"econ\", \"yunajoe@gmail.com\")\n",
    "p2 = Person(\"yuna2\", \"CS\", \"yunajoe@gmail.com\")\n",
    "\n",
    "print(p1.name)\n",
    "print(p1.major)"
   ]
  },
  {
   "cell_type": "code",
   "execution_count": 28,
   "id": "a0c97c48",
   "metadata": {},
   "outputs": [],
   "source": [
    "# 실습 -  맞팔해요\n",
    "\n",
    "class User:\n",
    "    def __init__(self,name, email, password):\n",
    "        self.name= name\n",
    "        self.email = email\n",
    "        self.password = password        \n",
    "        self.following_list = []    # 이 유저가 팔로우하는 유저 리스트\n",
    "        self.followers_list = []\n",
    "    \n",
    "    def follow(self,another_user):\n",
    "        self.following_list.append(another_user)\n",
    "        another_user.followers_list.append(self)\n",
    "        \n",
    "    def num_following(self):\n",
    "        return len(self.following_list)\n",
    "    \n",
    "    def num_followers(self):\n",
    "        return len(self.followers_list)\n",
    "        \n",
    "        \n",
    "user1 = User(\"Young\", \"young@codeit.kr\", \"123456\")\n",
    "user2 = User(\"Yoonsoo\", \"yoonsoo@codeit.kr\", \"abcdef\") \n",
    "\n",
    "user1.follow(user2)\n",
    "user2.follow(user1)\n",
    "\n"
   ]
  },
  {
   "cell_type": "code",
   "execution_count": null,
   "id": "6d20e31e",
   "metadata": {},
   "outputs": [],
   "source": [
    "## __str__ 메소드 \n",
    "- 특수 메소드는 특정 상황에 자동으로 호출되는 메소드\n",
    "- __str__은 print()할때 자동으로 호출된다"
   ]
  },
  {
   "cell_type": "code",
   "execution_count": 36,
   "id": "ea10471c",
   "metadata": {},
   "outputs": [
    {
     "name": "stdout",
     "output_type": "stream",
     "text": [
      "이름: yuna1, 전공: economics\n",
      "이름: yuna2, 전공: economics\n"
     ]
    }
   ],
   "source": [
    "class Person:\n",
    "    def __init__(self, name, major, email):\n",
    "        self.name = name\n",
    "        self.major = major\n",
    "        self.email = email \n",
    "        \n",
    "    def hello(self):\n",
    "        print(f\"안녕하세여 저는 {self.name}입니다\")\n",
    "        \n",
    "    def __str__(self):\n",
    "        return f\"이름: {self.name}, 전공: {self.major}\"\n",
    "        \n",
    "p1 = Person(\"yuna1\",\"economics\", \"yunajoe@gmail.com\" )        \n",
    "p2 = Person(\"yuna2\",\"economics\", \"yunajoe@gmail.com\" )\n",
    "\n",
    "print(p1)\n",
    "print(p2)"
   ]
  },
  {
   "cell_type": "code",
   "execution_count": 3,
   "id": "5a22e095",
   "metadata": {},
   "outputs": [
    {
     "name": "stdout",
     "output_type": "stream",
     "text": [
      "yuna1\n",
      "yuna2\n",
      "economics\n",
      "CS\n"
     ]
    }
   ],
   "source": [
    "class Person:\n",
    "    pass \n",
    "\n",
    "# 인스턴스 생성\n",
    "p1 = Person()\n",
    "p2 = Person()\n",
    "\n",
    "# 인스턴수 변수 생성\n",
    "p1.name=\"yuna1\"\n",
    "p1.major=\"economics\"\n",
    "\n",
    "p2.name=\"yuna2\"\n",
    "p2.major=\"CS\"\n",
    "\n",
    "print(p1.name)\n",
    "print(p2.name)\n",
    "\n",
    "print(p1.major)\n",
    "print(p2.major)"
   ]
  },
  {
   "cell_type": "markdown",
   "id": "e0759715",
   "metadata": {},
   "source": [
    "## instance method \n",
    "- 인스턴스 변수를 사용 또는, 인스턴스 변수에 값을 설정하는 메소드\n",
    "- self로 첫 parameter를 받는다\n",
    "- 인스턴스 변수, 클래스 변수 모두 사용 가능하다."
   ]
  },
  {
   "cell_type": "code",
   "execution_count": 7,
   "id": "9536c293",
   "metadata": {},
   "outputs": [
    {
     "name": "stdout",
     "output_type": "stream",
     "text": [
      "안녕하세요! 제 이름은 yuna1 입니다.전공은 economics입니다\n",
      "None\n",
      "안녕하세요! 제 이름은 yuna1 입니다.전공은 economics입니다\n",
      "None\n"
     ]
    }
   ],
   "source": [
    "class Person:\n",
    "    def intro(person):\n",
    "        print(\"안녕하세요! 제 이름은 {} 입니다.전공은 {}입니다\".format(person.name, person.major))\n",
    "        \n",
    "        \n",
    "        \n",
    "p1 = Person()\n",
    "p2 = Person()        \n",
    "        \n",
    "p1.name=\"yuna1\"\n",
    "p1.major=\"economics\"\n",
    "\n",
    "p2.name=\"yuna2\"\n",
    "p2.major=\"CS\"\n",
    "\n",
    "print(Person.intro(p1))\n",
    "print(p1.intro())"
   ]
  },
  {
   "cell_type": "code",
   "execution_count": null,
   "id": "d54a89e0",
   "metadata": {},
   "outputs": [],
   "source": [
    "## 클래스 변수 \n",
    "- 여러 인스턴스들이 공유하는 속성 \n",
    "- 같은이름의 클랙스 변수와 인스턴스 변수가 있으면 인스턴스 변수의 값이 읽어진다.\n",
    "(따라서! 클래스 변수에 값을 설정할때는 인스턴스 변수와 겹치치 않게 해야한다.)\n"
   ]
  },
  {
   "cell_type": "code",
   "execution_count": 10,
   "id": "d0714fd3",
   "metadata": {},
   "outputs": [
    {
     "name": "stdout",
     "output_type": "stream",
     "text": [
      "3\n"
     ]
    }
   ],
   "source": [
    "class Person:\n",
    "    count=0 # 클래스 변수 \n",
    "    def __init__(self, name, major, email):\n",
    "        self.name = name\n",
    "        self.major = major\n",
    "        self.email = email\n",
    "        \n",
    "        Person.count = Person.count + 1\n",
    "\n",
    "p1 = Person(\"yuna1\",\"Econ\",\"yunajoe@gmail.com\")\n",
    "p2 = Person(\"yuna2\",\"CS\",\"yunajoe@gmail.com\")\n",
    "p3 = Person(\"yuna3\",\"MATH\",\"yunajoe@gmail.com\")\n",
    "\n",
    "print(Person.count)"
   ]
  },
  {
   "cell_type": "code",
   "execution_count": 14,
   "id": "4c864a43",
   "metadata": {},
   "outputs": [
    {
     "name": "stdout",
     "output_type": "stream",
     "text": [
      "3\n",
      "100\n",
      "3\n",
      "3\n"
     ]
    }
   ],
   "source": [
    "class Person:\n",
    "    count=0 # 클래스 변수 \n",
    "    def __init__(self, name, major, email):\n",
    "        self.name = name\n",
    "        self.major = major\n",
    "        self.email = email\n",
    "        \n",
    "        Person.count = Person.count + 1\n",
    "        \n",
    "\n",
    "p1 = Person(\"yuna1\",\"Econ\",\"yunajoe@gmail.com\")\n",
    "p2 = Person(\"yuna2\",\"CS\",\"yunajoe@gmail.com\")\n",
    "p3 = Person(\"yuna3\",\"MATH\",\"yunajoe@gmail.com\")\n",
    "\n",
    "p1.count=100 # 인스턴스 변수 \n",
    "\n",
    "print(Person.count) # 클래스 변수 \n",
    "print(p1.count) # 인스턴스 변수\n",
    "print(p2.count)# 클래스 변수 \n",
    "print(p3.count)# 클래스 변수 "
   ]
  },
  {
   "cell_type": "markdown",
   "id": "c0b102d7",
   "metadata": {},
   "source": [
    "## 클래스 메소드 \n",
    "- 클래스 변수의 값을 읽거나 설정하는 메소드\n",
    "- cls로 첫 parameter를 받는다.\n",
    "- 인스턴스 변수 사용 불가"
   ]
  },
  {
   "cell_type": "code",
   "execution_count": 37,
   "id": "57ac925d",
   "metadata": {},
   "outputs": [
    {
     "name": "stdout",
     "output_type": "stream",
     "text": [
      "총 인원은 3입니다\n",
      "총 인원은 3입니다\n"
     ]
    }
   ],
   "source": [
    "class Person:\n",
    "    count=0 # 클래스 변수 \n",
    "    def __init__(self, name, major, email):\n",
    "        self.name = name\n",
    "        self.major = major\n",
    "        self.email = email\n",
    "        \n",
    "        Person.count = Person.count + 1\n",
    "        \n",
    "    def hello(self):\n",
    "        print(\"안녕하세요! 저는 {}입니다\".format(self.name))\n",
    "    \n",
    "    @classmethod\n",
    "    def number_of_person(cls):\n",
    "        print(\"총 인원은 {}입니다\".format(cls.count))  \n",
    "        # cls.count 는 Person.count랑 같다.\n",
    "        \n",
    "p1 = Person(\"yuna1\",\"Econ\",\"yunajoe@gmail.com\")\n",
    "p2 = Person(\"yuna2\",\"CS\",\"yunajoe@gmail.com\")\n",
    "p3 = Person(\"yuna3\",\"MATH\",\"yunajoe@gmail.com\")\n",
    "\n",
    "# 클래스 메서드로 호출 \n",
    "\n",
    "Person.number_of_person()\n",
    "# 인스턴스 메서드로 호출\n",
    "p1.number_of_person()"
   ]
  },
  {
   "cell_type": "code",
   "execution_count": null,
   "id": "0c0cf9ec",
   "metadata": {},
   "outputs": [],
   "source": [
    "# 실습 - 클래스 메소드 활용\n"
   ]
  },
  {
   "cell_type": "code",
   "execution_count": 131,
   "id": "0986ca0b",
   "metadata": {},
   "outputs": [
    {
     "data": {
      "text/plain": [
       "'조연아'"
      ]
     },
     "execution_count": 131,
     "metadata": {},
     "output_type": "execute_result"
    }
   ],
   "source": [
    "# 일단 instance 메소드로 사용을 해 보았음 ㅎ\n",
    "\n",
    "class Person:\n",
    "    def __init__(self, name, major, email):\n",
    "        self.name = name \n",
    "        self.major = major\n",
    "        self.email = email \n",
    "        \n",
    "    def from_string(self,string_params):\n",
    "        parameter_list = string_params.split(\",\")\n",
    "        name =  parameter_list[0]\n",
    "        major = parameter_list[1]\n",
    "        email =  parameter_list[2]    \n",
    "        return name, major, email     \n",
    "        \n",
    "        \n",
    "    def from_list(self,list_params):\n",
    "        name = list_params[0]\n",
    "        major = list_params[1]\n",
    "        email = list_params[2]        \n",
    "        return name, major, email\n",
    "        \n",
    "        \n",
    "p1 = Person(\"yuna\",\"econ\",\"yunajoe@gmai.com\")          \n",
    "p1.from_string(\"yuna,econ,yunajoe@gmai.com\")\n",
    "p2 = Person(\"조연아\",\"CS\",\"yunajoe@gmai.com\")    \n"
   ]
  },
  {
   "cell_type": "code",
   "execution_count": 111,
   "id": "88d8fbe0",
   "metadata": {},
   "outputs": [
    {
     "name": "stdout",
     "output_type": "stream",
     "text": [
      "yuna  econ  yunajoe@gmail.com\n",
      "조연아 computerscience yunajoe@gmail.com\n"
     ]
    }
   ],
   "source": [
    "# 클래스로..ㅎ\n",
    "\n",
    "class Person:\n",
    "    def __init__(self, name, major, email):\n",
    "        self.name = name\n",
    "        self.major = major\n",
    "        self.email = email \n",
    "        \n",
    "    @classmethod   \n",
    "    def from_string(cls, string_params):\n",
    "        new = string_params.split(\",\")\n",
    "        name, major, email = new[0], new[1], new[2]\n",
    "        return cls(name, major, email)\n",
    "    @classmethod\n",
    "    def from_list(cls, list_params):\n",
    "        name, major, email = list_params[0], list_params[1], list_params[2]\n",
    "        return cls(name, major, email)\n",
    "        \n",
    "        \n",
    "        \n",
    "        \n",
    "p1 = Person.from_string(\"yuna, econ, yunajoe@gmail.com\")    \n",
    "p2 = Person.from_list([\"조연아\", \"computerscience\", \"yunajoe@gmail.com\"])\n",
    "\n",
    "print(p1.name, p1.major, p1.email)\n",
    "print(p2.name, p2.major, p2.email)"
   ]
  },
  {
   "cell_type": "code",
   "execution_count": null,
   "id": "f94594c2",
   "metadata": {},
   "outputs": [],
   "source": [
    "##  인스턴스 메소드 vs 클래스 메소드 사용 \n",
    "1) 인스턴스 메소드\n",
    "# 두번째 방법에서는! 인스턴스 자신이 첫번째 파라미터로 자동 전달 \n",
    "- Person.hello(p1) # 클래스.메소드(인스턴스)\n",
    "- p1.hello() # 인스턴스.메소드()\n",
    "\n",
    "2) 클래스 메소드 \n",
    "# 무조건 첫번째 parameter로 클래스 자동 전달\n",
    "- Person.number_of_person() \n",
    "- p1.number_of_person()"
   ]
  },
  {
   "cell_type": "code",
   "execution_count": null,
   "id": "128fa5e5",
   "metadata": {},
   "outputs": [],
   "source": [
    "# 정적 메소드 \n",
    "- 인스턴스 변수, 클래스 변수를 전혀 다루지 않는 메소드\n",
    "- 정적 메소드는 메소드 정의 위에  @staticmethod 데코레이터를 표시해야한다.\n",
    "- 인스턴스 메소드의 self, 클래스 메소드의 cls와 같이 자동 전달되는 parameter가 없다.\n",
    "- 어떤 속성을 다루지 않고, 단지 기능(행동)적인 역할만 하는 메소드를 정의할 때 정적 메소드를 사용하면 된다.\n",
    "-  정적 메소드는 아래 코드처럼 인스턴스, 클래스 두 가지 모두를 통해 사용 가능"
   ]
  },
  {
   "cell_type": "code",
   "execution_count": 145,
   "id": "426bcd1f",
   "metadata": {},
   "outputs": [
    {
     "name": "stdout",
     "output_type": "stream",
     "text": [
      "True\n",
      "False\n"
     ]
    }
   ],
   "source": [
    "class Person:\n",
    "    cnt = 0\n",
    "    def __init__(self, name, major, email):\n",
    "        self.name = name \n",
    "        self.major = major\n",
    "        self.email = email \n",
    "        Person.cnt += 1\n",
    "        \n",
    "    def __str__(self):\n",
    "        return f\"이름: {self.name}, 전공: {self.major}, 이메일: {self.email}\"\n",
    "        \n",
    "        \n",
    "    def hello(self):\n",
    "        print(\"안녕하세요! 저는 {}입니다\".format(self.name))\n",
    "        \n",
    "    @classmethod\n",
    "    def number_of_persons(cls):\n",
    "         print(\"총 사람 수는: {}입니다\".format(cls.count))\n",
    "            \n",
    "    @staticmethod \n",
    "    def is_valid_email(email_address):\n",
    "        return \"@\" in email_address\n",
    "        \n",
    "        \n",
    "print(Person.is_valid_email(\"yunajoe@gmail.com\"))\n",
    "p1 = Person(\"yuna\",\"econ\",\"yuaa\")\n",
    "print(p1.is_valid_email(\"yuna\"))\n"
   ]
  },
  {
   "cell_type": "code",
   "execution_count": null,
   "id": "0f5294d7",
   "metadata": {},
   "outputs": [],
   "source": [
    "# 데코레이터 함수 \n",
    "- parameter로 함수를 받는다\n",
    "- 각기다른 함수에, 공통적인, 같은 내용의 함수를 만들고 싶을때 decorator를 쓰자."
   ]
  },
  {
   "cell_type": "code",
   "execution_count": 21,
   "id": "bd827b91",
   "metadata": {},
   "outputs": [
    {
     "name": "stdout",
     "output_type": "stream",
     "text": [
      "decorator함수시작\n",
      "안녕하세요\n",
      "decorator함수끄읕\n",
      "\n",
      "decorator함수시작\n",
      "안녕하세요\n",
      "decorator함수끄읕\n"
     ]
    }
   ],
   "source": [
    "def hello():\n",
    "    print(\"안녕하세요\")\n",
    "    \n",
    "def decorator_func(func):\n",
    "    def say():\n",
    "        print(\"decorator함수시작\")\n",
    "        func()\n",
    "        print(\"decorator함수끄읕\")\n",
    "    return say\n",
    "\n",
    "decorator_func(hello)()\n",
    "print()\n",
    "f1 = decorator_func(hello)\n",
    "f1()"
   ]
  },
  {
   "cell_type": "code",
   "execution_count": 22,
   "id": "eb3c57cc",
   "metadata": {},
   "outputs": [
    {
     "name": "stdout",
     "output_type": "stream",
     "text": [
      "decorator함수시작\n",
      "안녕하세요\n",
      "decorator함수끄읕\n"
     ]
    }
   ],
   "source": [
    "def decorator_func(func):\n",
    "    def say():\n",
    "        print(\"decorator함수시작\")\n",
    "        func()\n",
    "        print(\"decorator함수끄읕\")\n",
    "    return say\n",
    "\n",
    "@decorator_func  # hello 함수를 decorator_func으로 꾸며라\n",
    "def hello():\n",
    "    print(\"안녕하세요\")\n",
    "    \n",
    "hello()"
   ]
  },
  {
   "cell_type": "code",
   "execution_count": 26,
   "id": "6f6ded51",
   "metadata": {},
   "outputs": [
    {
     "name": "stdout",
     "output_type": "stream",
     "text": [
      "decorator함수시작\n",
      "안녕하세요\n",
      "decorator함수끄읕\n",
      "\n",
      "decorator함수시작\n",
      "좋은아침입니다\n",
      "decorator함수끄읕\n",
      "\n",
      "decorator함수시작\n",
      "좋은주말보내세요\n",
      "decorator함수끄읕\n"
     ]
    }
   ],
   "source": [
    "def decorator_func(func):\n",
    "    def say():\n",
    "        print(\"decorator함수시작\")\n",
    "        func()\n",
    "        print(\"decorator함수끄읕\")\n",
    "    return say\n",
    "\n",
    "@decorator_func  # hello 함수를 decorator_func으로 꾸며라\n",
    "def hello1():\n",
    "    print(\"안녕하세요\")\n",
    "  \n",
    "@decorator_func \n",
    "def hello2():\n",
    "    print(\"좋은아침입니다\")\n",
    "    \n",
    "@decorator_func    \n",
    "def hello3():\n",
    "    print(\"좋은주말보내세요\")\n",
    "    \n",
    "hello1()\n",
    "print(\"\")\n",
    "hello2()\n",
    "print(\"\")\n",
    "hello3()"
   ]
  },
  {
   "cell_type": "markdown",
   "id": "43f2c316",
   "metadata": {},
   "source": [
    "# 객체 정리하기 "
   ]
  },
  {
   "cell_type": "code",
   "execution_count": null,
   "id": "cdc1ad41",
   "metadata": {},
   "outputs": [],
   "source": [
    "- 인스턴스 변수는 __init__ 메소드에서 설정해 주는 것이 좋다\n",
    "- 모든 인스턴스들이 값을 공유해야 한다면, class 변수에 저장한다.\n",
    "- 모든 인스턴스 변수의 값이 같아도 다른 인스터일 수 있다. \n",
    "- 클래스 변수는 클래스나, 인스턴스 2가지 방법을 통해서 접근가능\n",
    "- 클래스 변수의 값을 바꾸려고 하면은 클래스를 통해서 바꾸자. "
   ]
  },
  {
   "cell_type": "markdown",
   "id": "494b84b2",
   "metadata": {},
   "source": [
    "# 실습"
   ]
  },
  {
   "cell_type": "code",
   "execution_count": null,
   "id": "fef9063b",
   "metadata": {},
   "outputs": [],
   "source": [
    "## 1. 커피 메뉴 만들기"
   ]
  },
  {
   "cell_type": "code",
   "execution_count": 157,
   "id": "b52a9822",
   "metadata": {},
   "outputs": [
    {
     "name": "stdout",
     "output_type": "stream",
     "text": [
      "아메리카노 가격 : 2000\n",
      "라떼 가격 : 3500\n",
      "캬라멜 마끼아또 가격 : 4000\n"
     ]
    }
   ],
   "source": [
    "class Coffee:\n",
    "    def __init__(self, name, price):  # 인스턴스를 만들면 자동으로 만들어진다.\n",
    "        self.name = name \n",
    "        self.price = price \n",
    "        \n",
    "    def __str__(self):\n",
    "        return f\"{self.name} 가격 : {self.price}\" \n",
    "    # return은 객체를 반환해줌. 따라서 밑에 출력할때 print를 반드시 사용해야한다.\n",
    "    \n",
    "d1 = Coffee(\"아메리카노\",2000)\n",
    "d2 = Coffee(\"라떼\",3500)\n",
    "d3 = Coffee(\"캬라멜 마끼아또\",4000)\n",
    "print(d1)\n",
    "print(d2)\n",
    "print(d3)"
   ]
  },
  {
   "cell_type": "code",
   "execution_count": null,
   "id": "4574b494",
   "metadata": {},
   "outputs": [],
   "source": [
    "## 2. 계산기 만들기\n",
    "- 정적 메소드로 만들기(속성 X 메서드만 있는!)"
   ]
  },
  {
   "cell_type": "code",
   "execution_count": 166,
   "id": "45fb91c0",
   "metadata": {},
   "outputs": [
    {
     "name": "stdout",
     "output_type": "stream",
     "text": [
      "(9, -1, 20, 0.8)\n"
     ]
    }
   ],
   "source": [
    "class calculator:\n",
    "    @staticmethod   \n",
    "    def func(num1, num2):\n",
    "        add = num1 + num2\n",
    "        sub = num1-num2\n",
    "        mul= num1 * num2\n",
    "        div = num1 / num2\n",
    "        return add, sub, mul, div\n",
    "        \n",
    "# instance 생성 \n",
    "\n",
    "obj = calculator()\n",
    "\n",
    "# 연산 호출\n",
    "print(obj.func(4,5))\n",
    "print(obj.func(1,5))\n",
    "print(obj.func(4,5))"
   ]
  },
  {
   "cell_type": "code",
   "execution_count": 171,
   "id": "8a333153",
   "metadata": {},
   "outputs": [
    {
     "name": "stdout",
     "output_type": "stream",
     "text": [
      "15\n",
      "5\n",
      "50\n",
      "2.0\n"
     ]
    }
   ],
   "source": [
    "class calculator:\n",
    "    @staticmethod\n",
    "    def add(n1, n2):\n",
    "        return n1 + n2\n",
    "    \n",
    "    @staticmethod\n",
    "    def sub(n1,n2):\n",
    "        return n1 - n2\n",
    "    @staticmethod\n",
    "    def mul(n1,n2):\n",
    "        return n1 * n2 \n",
    "    @staticmethod\n",
    "    def div(n1,n2):\n",
    "        return n1 / n2 \n",
    "    \n",
    "obj = calculator()\n",
    "print(obj.add(10,5))\n",
    "print(obj.sub(10,5))\n",
    "print(obj.mul(10,5))\n",
    "print(obj.div(10,5))"
   ]
  },
  {
   "cell_type": "code",
   "execution_count": null,
   "id": "6132939b",
   "metadata": {},
   "outputs": [],
   "source": [
    "# 게임 캐릭터 만들기"
   ]
  },
  {
   "cell_type": "code",
   "execution_count": null,
   "id": "5166fa53",
   "metadata": {},
   "outputs": [],
   "source": [
    "# 블로그 유저 만들기\n",
    "    "
   ]
  },
  {
   "cell_type": "code",
   "execution_count": 57,
   "id": "a566c9cc",
   "metadata": {},
   "outputs": [
    {
     "name": "stdout",
     "output_type": "stream",
     "text": [
      "게시일 2022년 6월 6일\n",
      " 내용:\n",
      "                요즘 코딩이 너무 재미있다..ㅎ \n",
      "                신기하다! \n",
      "                더 잘하고 싶다 ><  \n",
      "             \n",
      "             \n",
      "             \n",
      "게시일 2022년 6월 7일\n",
      " 내용:\n",
      "                저녁뭐먹지.. 순대곱창볶음이 먹고싶네\n",
      "                회사에서 커피좀 사줬으면 좋겠다 ㅎㅎㅎ\n",
      "             \n",
      "             \n"
     ]
    }
   ],
   "source": [
    "class Post:\n",
    "    def __init__(self, date, content):\n",
    "        self.date = date\n",
    "        self.content = content\n",
    "        \n",
    "    def __str__(self):\n",
    "        return f\"게시일 {self.date}\\n 내용:{self.content}\"\n",
    "    \n",
    "\n",
    "class User:\n",
    "    def __init__(self,name):\n",
    "        self.name = name\n",
    "        self.posts = []\n",
    "        \n",
    "    def add_post(self, date, content):\n",
    "        new_post = Post(date, content)\n",
    "        self.posts.append(new_post)         \n",
    "        \n",
    "    def show_all_posts(self): \n",
    "        for post in self.posts:\n",
    "            print(post)         \n",
    "        \n",
    "    def __str__(self):\n",
    "        return f\"안녕하세요 {self.name} \\n입니다\"\n",
    "        \n",
    "        \n",
    "\n",
    "user1 = User(\"yunaa\")\n",
    "user1.add_post(\"2022년 6월 6일\",\n",
    "             '''\n",
    "                요즘 코딩이 너무 재미있다..ㅎ \n",
    "                신기하다! \n",
    "                더 잘하고 싶다 ><  \n",
    "             \n",
    "             \n",
    "             ''')\n",
    "        \n",
    "        \n",
    "user1.add_post(\"2022년 6월 7일\", \n",
    "             '''\n",
    "                저녁뭐먹지.. 순대곱창볶음이 먹고싶네\n",
    "                회사에서 커피좀 사줬으면 좋겠다 ㅎㅎㅎ\n",
    "             \n",
    "             ''')    \n",
    "\n",
    "user1.show_all_posts()"
   ]
  },
  {
   "cell_type": "code",
   "execution_count": 54,
   "id": "7de1259e",
   "metadata": {},
   "outputs": [],
   "source": [
    "# 실습하기 \n",
    "## 01. 메뉴 만들기\n",
    "\n"
   ]
  },
  {
   "cell_type": "code",
   "execution_count": 7,
   "id": "b70b4e64",
   "metadata": {},
   "outputs": [
    {
     "name": "stdout",
     "output_type": "stream",
     "text": [
      "햄버거 가격은: 3000\n",
      "샌드위치 가격은: 4000\n"
     ]
    }
   ],
   "source": [
    "class MenuItem:\n",
    "    def __init__(self, name, price):\n",
    "        self.name = name \n",
    "        self.price = price \n",
    "        \n",
    "    def __str__(self):\n",
    "        return f\"{self.name} 가격은: {self.price}\"\n",
    "        \n",
    "    \n",
    "f1 = MenuItem(\"햄버거\",3000)\n",
    "f2 = MenuItem(\"샌드위치\",4000)\n",
    "print(f1)\n",
    "print(f2)"
   ]
  },
  {
   "cell_type": "code",
   "execution_count": 12,
   "id": "5787db43",
   "metadata": {},
   "outputs": [
    {
     "data": {
      "text/plain": [
       "5"
      ]
     },
     "execution_count": 12,
     "metadata": {},
     "output_type": "execute_result"
    }
   ],
   "source": [
    "# 02. 속성이 없는 계산기\n",
    "#  속성이 없고, 변수만 있는 경우에는 static method를 사용한다. \n",
    "\n",
    "class SimpleCalculator:\n",
    "    @staticmethod\n",
    "    def add(first, second):\n",
    "        return first+second\n",
    "    \n",
    "    def subtract(first, second):\n",
    "        return first-second\n",
    "    \n",
    "    def multiply(first, second):\n",
    "        return first * second \n",
    "    \n",
    "    def divide(first, second):\n",
    "        return first / second\n",
    "    \n",
    "obj = SimpleCalculator()  \n",
    "obj.add(3,2)\n"
   ]
  },
  {
   "cell_type": "code",
   "execution_count": 26,
   "id": "82edccbe",
   "metadata": {},
   "outputs": [
    {
     "name": "stdout",
     "output_type": "stream",
     "text": [
      "안녕하세요yunaa 입니다\n",
      "게세일:2019년 8월 30일, 내용: \n",
      "오늘은 내 생일이였다.\n",
      "많은 사람들이 축하해줬다.\n",
      "행복했다.\n",
      "\n",
      "None\n"
     ]
    }
   ],
   "source": [
    "# 04 블로그 유저 만들기 \n",
    "\n",
    "class Post:\n",
    "    def __init__(self, date, content):\n",
    "        self.date = date\n",
    "        self.content = content       \n",
    "        \n",
    "    def __str__(self):\n",
    "        return \"게세일:{}, 내용: {}\".format(self.date, self.content)\n",
    "    \n",
    "\n",
    "class BlogUser:\n",
    "    def __init__(self, name):\n",
    "        self.name = name\n",
    "        self.posts = []\n",
    "        \n",
    "    # 다른 클래스의 속성을  사용할때는 일단은! 그 클래스를 불러와야한다\n",
    "    def add_post(self, date, content):\n",
    "        # 새로운 date와 content를 불러온다\n",
    "        new_post = Post(date, content)\n",
    "        # 리스트에 새로운 post 붙임 \n",
    "        self.posts.append(new_post)\n",
    "        \n",
    "    def show_all_posts(self):\n",
    "        for post in self.posts:\n",
    "            print(post)\n",
    "        \n",
    "    def __str__(self):\n",
    "        return f\"안녕하세요{self.name} 입니다\"\n",
    "        \n",
    "user1 = BlogUser(\"yunaa\")\n",
    "user1.add_post(\"2019년 8월 30일\", \"\"\"\n",
    "오늘은 내 생일이였다.\n",
    "많은 사람들이 축하해줬다.\n",
    "행복했다.\n",
    "\"\"\")\n",
    "print(user1)\n",
    "print(user1.show_all_posts())"
   ]
  },
  {
   "cell_type": "code",
   "execution_count": null,
   "id": "b3f5fb2b",
   "metadata": {},
   "outputs": [],
   "source": []
  }
 ],
 "metadata": {
  "kernelspec": {
   "display_name": "Python 3 (ipykernel)",
   "language": "python",
   "name": "python3"
  },
  "language_info": {
   "codemirror_mode": {
    "name": "ipython",
    "version": 3
   },
   "file_extension": ".py",
   "mimetype": "text/x-python",
   "name": "python",
   "nbconvert_exporter": "python",
   "pygments_lexer": "ipython3",
   "version": "3.8.13"
  }
 },
 "nbformat": 4,
 "nbformat_minor": 5
}
