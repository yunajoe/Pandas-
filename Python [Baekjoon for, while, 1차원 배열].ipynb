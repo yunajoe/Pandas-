{
 "cells": [
  {
   "cell_type": "code",
   "execution_count": 1,
   "id": "b5da4c72",
   "metadata": {},
   "outputs": [
    {
     "name": "stdout",
     "output_type": "stream",
     "text": [
      "정수 1~9 아무거나 입력3\n",
      "3 * 1 = 3\n",
      "3 * 2 = 6\n",
      "3 * 3 = 9\n",
      "3 * 4 = 12\n",
      "3 * 5 = 15\n",
      "3 * 6 = 18\n",
      "3 * 7 = 21\n",
      "3 * 8 = 24\n",
      "3 * 9 = 27\n"
     ]
    }
   ],
   "source": [
    "# N을 입력받은 뒤, 구구단 N단을 출력하는 프로그램을 작성\n",
    "\n",
    "number = int(input(\"정수 1~9 아무거나 입력\"))\n",
    "\n",
    "for i in range(1,10):\n",
    "    print(number, \"*\", i, \"=\", number * i)"
   ]
  },
  {
   "cell_type": "code",
   "execution_count": 3,
   "id": "c9029f38",
   "metadata": {},
   "outputs": [
    {
     "name": "stdout",
     "output_type": "stream",
     "text": [
      "2\n",
      "10 11\n",
      "21\n",
      "1 2\n",
      "3\n"
     ]
    }
   ],
   "source": [
    "# 두 정수 A와 B를 입력받은 다음, A+B를 출력하는 프로그램을 작성\n",
    "# 첫째 줄에 테스트 케이스의 개수 T\n",
    "\n",
    "N = int(input()) \n",
    "\n",
    "for i in range(N):\n",
    "    a, b = map(int, input().split())\n",
    "    print(a+b)"
   ]
  },
  {
   "cell_type": "code",
   "execution_count": 4,
   "id": "4258f003",
   "metadata": {},
   "outputs": [
    {
     "name": "stdout",
     "output_type": "stream",
     "text": [
      "3\n",
      "6\n"
     ]
    }
   ],
   "source": [
    "# n이 주어졌을 때, 1부터 n까지 합을 구하는 프로그램을 작성\n",
    "\n",
    "N = int(input())\n",
    "sum = 0 \n",
    "for i in range(1,N+1):\n",
    "    sum = sum + i \n",
    "print(sum)\n",
    "    "
   ]
  },
  {
   "cell_type": "code",
   "execution_count": 5,
   "id": "86e70b68",
   "metadata": {},
   "outputs": [
    {
     "name": "stdout",
     "output_type": "stream",
     "text": [
      "5\n",
      "1\n",
      "2\n",
      "3\n",
      "4\n",
      "5\n"
     ]
    }
   ],
   "source": [
    "# 자연수 N이 주어졌을 때, 1부터 N까지 한 줄에 하나씩 출력하는 프로그램을 작성\n",
    "\n",
    "N = int(input())\n",
    "\n",
    "for i in range(1,N+1):\n",
    "    print(i)"
   ]
  },
  {
   "cell_type": "code",
   "execution_count": 6,
   "id": "21aa2645",
   "metadata": {},
   "outputs": [
    {
     "name": "stdout",
     "output_type": "stream",
     "text": [
      "5\n",
      "5\n",
      "4\n",
      "3\n",
      "2\n",
      "1\n"
     ]
    }
   ],
   "source": [
    "# 자연수 N이 주어졌을 때, N부터 1까지 한 줄에 하나씩 출력하는 프로그램 \n",
    "\n",
    "N = int(input())\n",
    "\n",
    "for i in range(N, 0, -1):\n",
    "    print(i)"
   ]
  },
  {
   "cell_type": "code",
   "execution_count": 9,
   "id": "941c90a9",
   "metadata": {},
   "outputs": [
    {
     "name": "stdout",
     "output_type": "stream",
     "text": [
      "5\n",
      "1 1\n",
      "Case # 1 : 2\n",
      "2 3\n",
      "Case # 2 : 5\n",
      "3 4\n",
      "Case # 3 : 7\n",
      "9 8 \n",
      "Case # 4 : 17\n",
      "5 2\n",
      "Case # 5 : 7\n"
     ]
    }
   ],
   "source": [
    "N = int(input())\n",
    "\n",
    "for i in range(1, N+1):\n",
    "    a, b = map(int ,input().split())\n",
    "    print(\"Case #\", i, \":\", a+b)"
   ]
  },
  {
   "cell_type": "code",
   "execution_count": 12,
   "id": "7fd9df8d",
   "metadata": {},
   "outputs": [
    {
     "name": "stdout",
     "output_type": "stream",
     "text": [
      "2\n",
      "1 1\n",
      "Case # 1 : 1 + 1 = 2\n",
      "2 2\n",
      "Case # 2 : 2 + 2 = 4\n"
     ]
    }
   ],
   "source": [
    "# \"Case #x: A + B = C\" 형식으로 출력\n",
    "\n",
    "N = int(input())\n",
    "\n",
    "for i in range(1, N+1):\n",
    "    a, b = map(int ,input().split())\n",
    "    print(\"Case #\",i,\":\", a, \"+\", b, \"=\", a+b)"
   ]
  },
  {
   "cell_type": "code",
   "execution_count": 14,
   "id": "ee059500",
   "metadata": {},
   "outputs": [
    {
     "name": "stdout",
     "output_type": "stream",
     "text": [
      "5\n",
      "    *\n",
      "   **\n",
      "  ***\n",
      " ****\n",
      "*****\n"
     ]
    }
   ],
   "source": [
    "# 1째 줄에는 별 1개, 둘째 줄에는 별 2개, N번째 줄에는 별 N개를 찍는 문제\n",
    "\n",
    "N = int(input())\n",
    "\n",
    "for i in range(1,N+1):\n",
    "    print(\" \" *(N-i) + (i * \"*\"))"
   ]
  },
  {
   "cell_type": "code",
   "execution_count": null,
   "id": "7a8e31e0",
   "metadata": {},
   "outputs": [],
   "source": [
    "# 정수 N개로 이루어진 수열 A와 정수 X가 주어진다. 이때, A에서 X보다 작은 수를 모두 출력하는 프로그램\n",
    "\n",
    "# X보다 작은 수를 입력받은 순서대로 공백으로 구분해 출력한다. X보다 작은 수는 적어도 하나 존재\n",
    "\n"
   ]
  },
  {
   "cell_type": "code",
   "execution_count": 42,
   "id": "55720d4a",
   "metadata": {},
   "outputs": [
    {
     "name": "stdout",
     "output_type": "stream",
     "text": [
      "2 3 \n",
      "5\n",
      "3 9 \n",
      "12\n",
      "0 0 \n"
     ]
    }
   ],
   "source": [
    "# while 문 \n",
    "# 두 정수 A와 B를 입력받은 다음, A+B를 출력하는 프로그램을 작성 \n",
    "# 입력의 마지막에는 0 두 개 들어옴 \n",
    "\n",
    "while True:\n",
    "    a, b = map(int, input().split())\n",
    "    if a == 0 and b == 0:\n",
    "        break \n",
    "    else:\n",
    "        print(a + b)\n",
    "    "
   ]
  },
  {
   "cell_type": "code",
   "execution_count": null,
   "id": "8d06d607",
   "metadata": {},
   "outputs": [],
   "source": [
    "******** >>> 다시 하기 !! \n",
    "\n",
    "input_num = int(input()) #  \n",
    "number = input_num # \n",
    "cnt = 0 \n",
    "while True: \n",
    "    each_num = (input_num // 10) + (input_num % 10)\n",
    "    new_num = (input_num % 10) * 10  + (each_num % 10) \n",
    "    cnt = cnt + 1\n",
    "    if input_num == new_num:\n",
    "        break \n",
    "    else:\n",
    "        number = new_num\n",
    "        \n",
    "print(cnt)\n",
    "\n"
   ]
  },
  {
   "cell_type": "code",
   "execution_count": 5,
   "id": "059baa59",
   "metadata": {},
   "outputs": [
    {
     "name": "stdout",
     "output_type": "stream",
     "text": [
      "5\n",
      "20 10 35 30 7\n",
      "최대값은?: 35 최소값은? 7\n"
     ]
    }
   ],
   "source": [
    "# 1차원  배열 \n",
    "\n",
    "N = input()\n",
    "\n",
    "numbers = list(map(int,input().split()))\n",
    "\n",
    "print(\"최대값은?\", max(numbers), \"최소값은?\", min(numbers))\n"
   ]
  },
  {
   "cell_type": "code",
   "execution_count": 18,
   "id": "6ac1a29c",
   "metadata": {},
   "outputs": [
    {
     "name": "stdout",
     "output_type": "stream",
     "text": [
      "100\n",
      "1\n",
      "2\n",
      "3\n",
      "4\n",
      "5\n",
      "6\n",
      "7\n",
      "8\n",
      "최대값은 100\n",
      "몇번쨰? 1\n"
     ]
    }
   ],
   "source": [
    "# 첫째 줄에 최댓값을 출력하고, 둘째 줄에 최댓값이 몇 번째 수인지를 출력\n",
    "\n",
    "list = []\n",
    "for i in range(9):\n",
    "    numbers = int(input())\n",
    "    list.append(numbers)\n",
    "print(\"최대값은\", max(list))\n",
    "print(\"몇번쨰?\", list.index(max(list))+1)"
   ]
  },
  {
   "cell_type": "code",
   "execution_count": 39,
   "id": "869f73d5",
   "metadata": {},
   "outputs": [
    {
     "name": "stdout",
     "output_type": "stream",
     "text": [
      "10\n",
      "10\n",
      "10\n",
      "0 는 3 개\n",
      "1 는 1 개\n",
      "2 는 0 개\n",
      "3 는 0 개\n",
      "4 는 0 개\n",
      "5 는 0 개\n",
      "6 는 0 개\n",
      "7 는 0 개\n",
      "8 는 0 개\n",
      "9 는 0 개\n"
     ]
    }
   ],
   "source": [
    "# 첫째 줄에는 A × B × C의 결과에 0 이 몇 번 쓰였는지 출력한다. 마찬가지로 둘째 줄부터 열 번째 줄까지 A × B × C의 결과에 1부터 9까지의 숫자가 각각 몇 번 쓰였는지 차례로 한 줄에 하나씩 출력\n",
    "# 첫째 줄에 A, 둘째 줄에 B, 셋째 줄에 C가 주어진다\n",
    "\n",
    "a = int(input())\n",
    "b = int(input())\n",
    "c = int(input())\n",
    "\n",
    "number = a * b * c\n",
    "\n",
    "Number = str(number)\n",
    "\n",
    "for i in range(10):\n",
    "    Count_Number = Number.count(str(i))\n",
    "    print(i,\"는\", Count_Number,\"개\")\n",
    "   \n"
   ]
  },
  {
   "cell_type": "code",
   "execution_count": 58,
   "id": "73e2c995",
   "metadata": {},
   "outputs": [
    {
     "name": "stdout",
     "output_type": "stream",
     "text": [
      "42\n",
      "84\n",
      "1\n",
      "2\n",
      "3\n",
      "4\n",
      "5\n",
      "6\n",
      "7\n",
      "8\n",
      "{0, 1, 2, 3, 4, 5, 6, 7, 8}\n",
      "9\n"
     ]
    }
   ],
   "source": [
    "nums = set() # 빈함수 만들기 \n",
    "for i in range(10):\n",
    "    numbers = int(input())\n",
    "    nums.add(numbers % 42)\n",
    "    \n",
    "print(nums)\n",
    "print(len(nums))"
   ]
  },
  {
   "cell_type": "code",
   "execution_count": 13,
   "id": "baf226a5",
   "metadata": {},
   "outputs": [
    {
     "name": "stdout",
     "output_type": "stream",
     "text": [
      "5\n",
      "OOXXOXXOOO\n",
      "10\n",
      "OOXXOOXXOO\n",
      "9\n",
      "OXOXOXOXOXOXOX\n",
      "7\n",
      "OOOOOOOOOO\n",
      "55\n",
      "OOOOXOOOOXOOOOX\n",
      "30\n"
     ]
    }
   ],
   "source": [
    "# OX퀴즈의 결과가 주어졌을 때, 점수를 구하는 프로그램을 작성\n",
    "\n",
    "N = int(input())\n",
    "\n",
    "for i in range(N):  # N번 입력할 수 있다\n",
    "    score_sum = 0 \n",
    "    cnt = 0\n",
    "    numbers= input()  # 0, X count하기 위해서 \n",
    "    for x in range(len(numbers)):\n",
    "        if numbers[x] == \"O\":\n",
    "            cnt = cnt + 1\n",
    "            score_sum = score_sum + cnt\n",
    "        else:\n",
    "            cnt = 0\n",
    "            score_sum =score_sum + 0\n",
    "    print(score_sum)\n",
    "        \n",
    "    \n"
   ]
  },
  {
   "cell_type": "code",
   "execution_count": null,
   "id": "53be872f",
   "metadata": {},
   "outputs": [],
   "source": []
  }
 ],
 "metadata": {
  "kernelspec": {
   "display_name": "Python 3",
   "language": "python",
   "name": "python3"
  },
  "language_info": {
   "codemirror_mode": {
    "name": "ipython",
    "version": 3
   },
   "file_extension": ".py",
   "mimetype": "text/x-python",
   "name": "python",
   "nbconvert_exporter": "python",
   "pygments_lexer": "ipython3",
   "version": "3.8.8"
  }
 },
 "nbformat": 4,
 "nbformat_minor": 5
}
