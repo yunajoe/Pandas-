{
 "cells": [
  {
   "cell_type": "code",
   "execution_count": null,
   "id": "8cfeeb37",
   "metadata": {},
   "outputs": [],
   "source": [
    "# 문자열에서 공백을 제거해보자 "
   ]
  },
  {
   "cell_type": "code",
   "execution_count": null,
   "id": "1716e5aa",
   "metadata": {},
   "outputs": [],
   "source": [
    "# str.lstrip() 메소드  \n",
    "# 문자열의 시작 부분에서 문자 제거 "
   ]
  },
  {
   "cell_type": "code",
   "execution_count": 1,
   "id": "84ced91f",
   "metadata": {},
   "outputs": [
    {
     "data": {
      "text/plain": [
       "'Demo  Example  '"
      ]
     },
     "execution_count": 1,
     "metadata": {},
     "output_type": "execute_result"
    }
   ],
   "source": [
    "demo = \" Demo  Example  \"\n",
    "demo.lstrip()"
   ]
  },
  {
   "cell_type": "code",
   "execution_count": 2,
   "id": "90b03427",
   "metadata": {},
   "outputs": [
    {
     "data": {
      "text/plain": [
       "'Demo  Example  '"
      ]
     },
     "execution_count": 2,
     "metadata": {},
     "output_type": "execute_result"
    }
   ],
   "source": [
    "import re \n",
    "demo = \" Demo  Example  \"\n",
    "re.sub(r\"^\\s+\",\"\",demo)  # re.sub(pattern, replace, string, count = 0, flag = 0)\n",
    "# ^ 는 문자의 앞부분을 의미 \n",
    "# demo 라는 문장에서 공백,탬,리턴으로 시작하는 부분만 제거하기"
   ]
  },
  {
   "cell_type": "code",
   "execution_count": null,
   "id": "4c9600a2",
   "metadata": {},
   "outputs": [],
   "source": [
    "#str.rstip() 메소드 \n",
    "#문자열 끝에서 공백 제거 "
   ]
  },
  {
   "cell_type": "code",
   "execution_count": 7,
   "id": "b2f69230",
   "metadata": {},
   "outputs": [
    {
     "data": {
      "text/plain": [
       "' Demo  Example'"
      ]
     },
     "execution_count": 7,
     "metadata": {},
     "output_type": "execute_result"
    }
   ],
   "source": [
    "import re \n",
    "demo = \" Demo  Example  \"\n",
    "re.sub(r\"\\s+$\",\"\",demo)\n",
    "# +$ 는 문자의 뒷부분을 의미 "
   ]
  },
  {
   "cell_type": "code",
   "execution_count": 14,
   "id": "dc56857f",
   "metadata": {},
   "outputs": [
    {
     "data": {
      "text/plain": [
       "'Demo  Example'"
      ]
     },
     "execution_count": 14,
     "metadata": {},
     "output_type": "execute_result"
    }
   ],
   "source": [
    "#  str.strip() 메소드 \n",
    "# 문자열의 시작과 끝에서 공백제거하기 \n",
    "demo = \" Demo  Example  \"\n",
    "demo.strip()"
   ]
  },
  {
   "cell_type": "code",
   "execution_count": 15,
   "id": "fff1f1f6",
   "metadata": {},
   "outputs": [
    {
     "data": {
      "text/plain": [
       "'Demo  Example'"
      ]
     },
     "execution_count": 15,
     "metadata": {},
     "output_type": "execute_result"
    }
   ],
   "source": [
    "import re \n",
    "demo = \" Demo  Example  \"\n",
    "re.sub(r\"^\\s+|\\s+$\",\"\", demo)\n"
   ]
  },
  {
   "cell_type": "code",
   "execution_count": 16,
   "id": "cd210378",
   "metadata": {},
   "outputs": [
    {
     "data": {
      "text/plain": [
       "'DemoExample'"
      ]
     },
     "execution_count": 16,
     "metadata": {},
     "output_type": "execute_result"
    }
   ],
   "source": [
    "# str.replace() 메소드 \n",
    "# str.replace(\"찾을 단어 또는 문자열\",\"대체할 단어 또는 문자열\")\n",
    "demo = \" Demo  Example  \"\n",
    "demo.replace(\" \",\"\")"
   ]
  },
  {
   "cell_type": "code",
   "execution_count": 17,
   "id": "6126b5da",
   "metadata": {},
   "outputs": [
    {
     "data": {
      "text/plain": [
       "['Demo', 'Example']"
      ]
     },
     "execution_count": 17,
     "metadata": {},
     "output_type": "execute_result"
    }
   ],
   "source": [
    "# str.split()\n",
    "# 문자열 분할 메소드\n",
    "demo = \" Demo  Example  \"\n",
    "demo.split()  # 공백으로 나뉜다"
   ]
  },
  {
   "cell_type": "code",
   "execution_count": 18,
   "id": "dd373d32",
   "metadata": {},
   "outputs": [
    {
     "data": {
      "text/plain": [
       "'Demo++Example'"
      ]
     },
     "execution_count": 18,
     "metadata": {},
     "output_type": "execute_result"
    }
   ],
   "source": [
    "# join 함수 \n",
    "# \"구분자\".join(리스트)\n",
    "\n",
    "\"++\".join(demo.split())"
   ]
  },
  {
   "cell_type": "code",
   "execution_count": 20,
   "id": "a364b4cb",
   "metadata": {},
   "outputs": [
    {
     "data": {
      "text/plain": [
       "'A####B####C####D####E'"
      ]
     },
     "execution_count": 20,
     "metadata": {},
     "output_type": "execute_result"
    }
   ],
   "source": [
    "data = ['A', 'B', 'C', 'D', 'E']\n",
    "\"####\".join(data)"
   ]
  },
  {
   "cell_type": "code",
   "execution_count": 21,
   "id": "f278c589",
   "metadata": {},
   "outputs": [
    {
     "data": {
      "text/plain": [
       "['A', 'B', 'C', 'D', 'E']"
      ]
     },
     "execution_count": 21,
     "metadata": {},
     "output_type": "execute_result"
    }
   ],
   "source": [
    "data = 'A,B,C,D,E'\n",
    "\n",
    "data_split = data.split(\",\")\n",
    "data_split"
   ]
  },
  {
   "cell_type": "code",
   "execution_count": 22,
   "id": "63561c69",
   "metadata": {},
   "outputs": [
    {
     "data": {
      "text/plain": [
       "'A?#?#B?#?#C?#?#D?#?#E'"
      ]
     },
     "execution_count": 22,
     "metadata": {},
     "output_type": "execute_result"
    }
   ],
   "source": [
    "\"?#?#\".join(data_split)"
   ]
  },
  {
   "cell_type": "code",
   "execution_count": 24,
   "id": "ea291eef",
   "metadata": {},
   "outputs": [
    {
     "data": {
      "text/plain": [
       "['', 'Demo', 'Example', '']"
      ]
     },
     "execution_count": 24,
     "metadata": {},
     "output_type": "execute_result"
    }
   ],
   "source": [
    "import re \n",
    "demo = \" Demo  Example  \"\n",
    "demo_split = re.split(r\"\\s+\", demo)\n",
    "demo_split"
   ]
  },
  {
   "cell_type": "code",
   "execution_count": 26,
   "id": "6959d1c5",
   "metadata": {},
   "outputs": [
    {
     "data": {
      "text/plain": [
       "'++Demo++Example++'"
      ]
     },
     "execution_count": 26,
     "metadata": {},
     "output_type": "execute_result"
    }
   ],
   "source": [
    "\"++\".join(demo_split)\n",
    "# VS str.split 는    Demo++Example  로 결과가 나온다 "
   ]
  },
  {
   "cell_type": "code",
   "execution_count": null,
   "id": "926330a3",
   "metadata": {},
   "outputs": [],
   "source": [
    "#문자열에서 숫자만 추출해보자 \n",
    "# split() 메서드 >> 문자열을 문자 목록으로 변환하는데 사용 \n",
    "# isdigit() 메서드 >> 문자열의 문자가 숫자일때 true를 반환하고 아니면 false \n"
   ]
  },
  {
   "cell_type": "code",
   "execution_count": 20,
   "id": "02b42266",
   "metadata": {},
   "outputs": [
    {
     "name": "stdout",
     "output_type": "stream",
     "text": [
      "True\n",
      "False\n"
     ]
    }
   ],
   "source": [
    "str = \"123456\"\n",
    "print(str.isdigit())\n",
    "\n",
    "str2 = \"a328347\"\n",
    "print(str2.isdigit())"
   ]
  },
  {
   "cell_type": "code",
   "execution_count": 25,
   "id": "d70ff160",
   "metadata": {},
   "outputs": [
    {
     "name": "stdout",
     "output_type": "stream",
     "text": [
      "32\n",
      "250\n"
     ]
    }
   ],
   "source": [
    "temp_string = \"Hi my age is 32 years and 250 days12\"\n",
    "\n",
    "for i in temp_string.split():\n",
    "    if i.isdigit() == True:\n",
    "        print(int(i))\n",
    "    else:\n",
    "        pass\n",
    "    \n"
   ]
  },
  {
   "cell_type": "code",
   "execution_count": 24,
   "id": "a59407ac",
   "metadata": {},
   "outputs": [
    {
     "data": {
      "text/plain": [
       "[32, 250]"
      ]
     },
     "execution_count": 24,
     "metadata": {},
     "output_type": "execute_result"
    }
   ],
   "source": [
    "# list comprehension 을 써보자 \n",
    "\n",
    "temp_string = \"Hi my age is 32 years and 250 days12\"\n",
    "\n",
    "numbers = [int(i) for i in temp_string.split() if i.isdigit()]\n",
    "\n",
    "numbers\n",
    "\n",
    "# 하지만 위에 두개는 문자와 결합된 숫자를 추출하지 X "
   ]
  },
  {
   "cell_type": "code",
   "execution_count": null,
   "id": "148202c5",
   "metadata": {},
   "outputs": [],
   "source": [
    "# 정규식을 이용해보자 \n",
    "# match() >> 문자열의 처음부터 매치가 되어야함 \n",
    "# search() >> 처음이 아니라도 중간에 매치가 되도 반환함\n",
    "# findall() >> 정규식과 매치되는 모든 문자열(substring)을 리스트로 돌려준다\n",
    "# finditer() >> 정규식과 매치되는 모든 문자열(substring)을 반복 가능한 객체로 돌려줌\n",
    "# **** match, search는 정규식과 매치될 때는 match 객체를 되돌려주고 매치되지 않을 때는 None을 돌려줌 "
   ]
  },
  {
   "cell_type": "code",
   "execution_count": 31,
   "id": "77370f44",
   "metadata": {},
   "outputs": [
    {
     "name": "stdout",
     "output_type": "stream",
     "text": [
      "<re.Match object; span=(0, 1), match='a'>\n",
      "None\n"
     ]
    }
   ],
   "source": [
    "# 1) re.match(pattern, string, flags)\n",
    "\n",
    "import re \n",
    "\n",
    "print(re.match(\"a\",\"abcdefg\"))\n",
    "\n",
    "print(re.match(\"b\",\"abcdefg\"))\n"
   ]
  },
  {
   "cell_type": "code",
   "execution_count": 33,
   "id": "c03a16b7",
   "metadata": {},
   "outputs": [
    {
     "name": "stdout",
     "output_type": "stream",
     "text": [
      "<re.Match object; span=(0, 1), match='a'>\n",
      "<re.Match object; span=(1, 2), match='b'>\n"
     ]
    }
   ],
   "source": [
    "# 2) re.search(pattern, string, flags)\n",
    "\n",
    "import re\n",
    "\n",
    "print(re.search(\"a\",\"abcdefg\"))\n",
    "\n",
    "\n",
    "print(re.search(\"b\",\"abcdefg\"))"
   ]
  },
  {
   "cell_type": "code",
   "execution_count": 37,
   "id": "cafa061f",
   "metadata": {},
   "outputs": [
    {
     "name": "stdout",
     "output_type": "stream",
     "text": [
      "['a', 'a']\n",
      "['a', 'a']\n",
      "['aaa']\n"
     ]
    }
   ],
   "source": [
    "# 3) re.findall(pattern, string, flags)\n",
    "\n",
    "print(re.findall(\"a\",\"aba\"))\n",
    "print(re.findall('a', 'baa'))\n",
    "print(re.findall('aaa', 'aaaa'))"
   ]
  },
  {
   "cell_type": "code",
   "execution_count": 39,
   "id": "50c97884",
   "metadata": {},
   "outputs": [
    {
     "name": "stdout",
     "output_type": "stream",
     "text": [
      "<callable_iterator object at 0x000002A9E9977A90>\n",
      "<re.Match object; span=(1, 2), match='a'>\n",
      "<re.Match object; span=(2, 3), match='a'>\n"
     ]
    }
   ],
   "source": [
    "# 4) re.finditer(pattern, string, flags)\n",
    "# >> re.findall과 비슷하지만 문자열의 리스트대신,  객체리스트를반환\n",
    "\n",
    "print(re.finditer('a', 'baa'))\n",
    "\n",
    "result = re.finditer('a', 'baa')\n",
    "for i in result:\n",
    "    print(i)"
   ]
  },
  {
   "cell_type": "code",
   "execution_count": 48,
   "id": "24e54597",
   "metadata": {},
   "outputs": [
    {
     "name": "stdout",
     "output_type": "stream",
     "text": [
      "Hi\n",
      "my\n",
      "age\n",
      "is\n",
      "32\n",
      "years\n",
      "and\n",
      "250.5\n",
      "days12\n"
     ]
    },
    {
     "data": {
      "text/plain": [
       "['32', '250.5', '12']"
      ]
     },
     "execution_count": 48,
     "metadata": {},
     "output_type": "execute_result"
    }
   ],
   "source": [
    "# 다시 문제로 돌아가보자 \n",
    "i\n",
    "\n",
    "import re \n",
    "\n",
    "temp_string = \"Hi my age is 32 years and 250.5 days12\"\n",
    "\n",
    "print(re.findall(r'-?\\d+\\.?\\d*', temp_string))"
   ]
  },
  {
   "cell_type": "code",
   "execution_count": null,
   "id": "48b5f038",
   "metadata": {},
   "outputs": [],
   "source": [
    "# 문자열에 하위 문자열이 포함되어 있는지 확인하기"
   ]
  },
  {
   "cell_type": "code",
   "execution_count": 50,
   "id": "b3709b44",
   "metadata": {},
   "outputs": [
    {
     "name": "stdout",
     "output_type": "stream",
     "text": [
      "True\n",
      "False\n"
     ]
    }
   ],
   "source": [
    "# in \n",
    "\n",
    "print(\"given\" in \"It is a given string\")\n",
    "\n",
    "print(\"gaven\" in \"It is a given string\")\n"
   ]
  },
  {
   "cell_type": "code",
   "execution_count": null,
   "id": "fcfe2c49",
   "metadata": {},
   "outputs": [],
   "source": [
    "# str.find() \n",
    "# 찾는 값이 있으면 가장 낮은 인덱스를 리턴, 없으면 -1 리턴 \n"
   ]
  },
  {
   "cell_type": "code",
   "execution_count": 52,
   "id": "b5737878",
   "metadata": {},
   "outputs": [
    {
     "name": "stdout",
     "output_type": "stream",
     "text": [
      "8\n",
      "-1\n"
     ]
    }
   ],
   "source": [
    "givenStr = 'It is a given string given'\n",
    "print(givenStr.find(\"given\"))\n",
    "print(givenStr.find(\"gaven\"))"
   ]
  },
  {
   "cell_type": "code",
   "execution_count": 53,
   "id": "954ff18e",
   "metadata": {},
   "outputs": [
    {
     "data": {
      "text/plain": [
       "8"
      ]
     },
     "execution_count": 53,
     "metadata": {},
     "output_type": "execute_result"
    }
   ],
   "source": [
    "# str.index()\n",
    "# 찾는 값이 있으면 가장 낮은 인덱스를 리턴, 없으면 ValueError 발생\n",
    "\n",
    "givenStr = 'It is a given string'\n",
    "givenStr.index(\"given\")"
   ]
  },
  {
   "cell_type": "code",
   "execution_count": null,
   "id": "82626832",
   "metadata": {},
   "outputs": [],
   "source": [
    "# 파이썬에서리스트를 문자열로 변환하는 방법\n",
    "# str 리스트를 문자열로 변환 \n",
    "# str 목록을 문자열로 변환 \n"
   ]
  },
  {
   "cell_type": "code",
   "execution_count": 55,
   "id": "d8646471",
   "metadata": {},
   "outputs": [
    {
     "name": "stdout",
     "output_type": "stream",
     "text": [
      "a++b++c\n",
      "a b c\n"
     ]
    }
   ],
   "source": [
    "# str.join()\n",
    "\n",
    "A = [\"a\", \"b\", \"c\"]\n",
    "two_plus = \"++\".join(A)   #   ++ 로 이어주기 \n",
    "print(two_plus)\n",
    "\n",
    "\n",
    "A = [\"a\", \"b\", \"c\"]\n",
    "blank = \" \".join(A)     # 공백으로 이어주기 \n",
    "print(blank)"
   ]
  },
  {
   "cell_type": "code",
   "execution_count": 56,
   "id": "171b9b14",
   "metadata": {},
   "outputs": [
    {
     "ename": "TypeError",
     "evalue": "sequence item 0: expected str instance, int found",
     "output_type": "error",
     "traceback": [
      "\u001b[1;31m---------------------------------------------------------------------------\u001b[0m",
      "\u001b[1;31mTypeError\u001b[0m                                 Traceback (most recent call last)",
      "\u001b[1;32m<ipython-input-56-f0a7f1b47cf1>\u001b[0m in \u001b[0;36m<module>\u001b[1;34m\u001b[0m\n\u001b[0;32m      1\u001b[0m \u001b[0mA\u001b[0m \u001b[1;33m=\u001b[0m \u001b[1;33m[\u001b[0m\u001b[1;36m1\u001b[0m\u001b[1;33m,\u001b[0m\u001b[1;36m2\u001b[0m\u001b[1;33m,\u001b[0m\u001b[1;36m3\u001b[0m\u001b[1;33m]\u001b[0m\u001b[1;33m\u001b[0m\u001b[1;33m\u001b[0m\u001b[0m\n\u001b[1;32m----> 2\u001b[1;33m \u001b[1;34m\"++\"\u001b[0m\u001b[1;33m.\u001b[0m\u001b[0mjoin\u001b[0m\u001b[1;33m(\u001b[0m\u001b[0mA\u001b[0m\u001b[1;33m)\u001b[0m\u001b[1;33m\u001b[0m\u001b[1;33m\u001b[0m\u001b[0m\n\u001b[0m",
      "\u001b[1;31mTypeError\u001b[0m: sequence item 0: expected str instance, int found"
     ]
    }
   ],
   "source": [
    "A = [1,2,3]\n",
    "\"++\".join(A)\n",
    "\n",
    "# join 은  str dtype이 필요하다. int가 쓰여지면 오류남 "
   ]
  },
  {
   "cell_type": "code",
   "execution_count": 73,
   "id": "a7f0b4ff",
   "metadata": {},
   "outputs": [
    {
     "name": "stdout",
     "output_type": "stream",
     "text": [
      "3\n",
      "str ing\n"
     ]
    }
   ],
   "source": [
    "# 파이썬에서 문자열을 반으로 나누기 \n",
    "\n",
    "s = \"string\"\n",
    "print(len(s)//2) # 문자의 길이를 반으로 나누면 총길이(6)에서 3, 3이란 것을 알 수 있다 \n",
    "\n",
    "s1 = s[:len(s)//2] # 인덱스 0 ~ 2까지 출력\n",
    "s2 = s[len(s)//2:] # 인덱스 3 ~ 5까지 출력 \n",
    "print(s1,s2)"
   ]
  },
  {
   "cell_type": "code",
   "execution_count": 74,
   "id": "eba494f5",
   "metadata": {},
   "outputs": [
    {
     "data": {
      "text/plain": [
       "3"
      ]
     },
     "execution_count": 74,
     "metadata": {},
     "output_type": "execute_result"
    }
   ],
   "source": [
    "s = \"example\"\n",
    "len(s)//2"
   ]
  },
  {
   "cell_type": "code",
   "execution_count": 75,
   "id": "be19c109",
   "metadata": {},
   "outputs": [
    {
     "name": "stdout",
     "output_type": "stream",
     "text": [
      "exa mple\n"
     ]
    }
   ],
   "source": [
    "s1 = s[:len(s)//2]\n",
    "s2 = s[len(s)//2:]\n",
    "print(s1,s2)"
   ]
  },
  {
   "cell_type": "code",
   "execution_count": 76,
   "id": "077eec0a",
   "metadata": {},
   "outputs": [
    {
     "data": {
      "text/plain": [
       "'ple'"
      ]
     },
     "execution_count": 76,
     "metadata": {},
     "output_type": "execute_result"
    }
   ],
   "source": [
    "s3 = s[len(s)//2 if len(s) % 2 == 0 else (len(s)//2) + 1:]\n",
    "s3"
   ]
  },
  {
   "cell_type": "code",
   "execution_count": 80,
   "id": "171c5bcd",
   "metadata": {},
   "outputs": [
    {
     "name": "stdout",
     "output_type": "stream",
     "text": [
      "acegikm\n",
      "slice(0, 3, None)\n",
      "slice(3, 6, None)\n",
      "str ing\n"
     ]
    }
   ],
   "source": [
    "#  with slicing \n",
    "#  A[start: end : step ]   >> A라는 연속적이 객체들의 자료구조(예: 리스트,튜플, 문자열)\n",
    "sample = \"abcdefghijklmn\"\n",
    "print(sample[::2])\n",
    "\n",
    "\n",
    "# with slice \n",
    "s = \"string\"\n",
    "a = len(s)\n",
    "s1 = slice(0,len(s)//2)\n",
    "print(s1)\n",
    "s2 = slice(len(s)//2, len(s))\n",
    "print(s2)\n",
    "print(s[s1], s[s2])"
   ]
  },
  {
   "cell_type": "code",
   "execution_count": 85,
   "id": "f8df2c6f",
   "metadata": {},
   "outputs": [
    {
     "name": "stdout",
     "output_type": "stream",
     "text": [
      "\tHello, how are you\n",
      "Hello, how are you\n",
      "\n"
     ]
    }
   ],
   "source": [
    "# 문자열 제거 (1)\n",
    "# str.strip() # 문자열의 시작, 끝에서만 해당 패턴 제거 \n",
    "\n",
    "string = \"\\tHello, how are you\\n\"\n",
    "stringA = string.strip(\"\\n\")\n",
    "print(stringA)\n",
    "stringB = string.strip(\"\\t\")\n",
    "print(stringB)"
   ]
  },
  {
   "cell_type": "code",
   "execution_count": 87,
   "id": "0c299f0d",
   "metadata": {},
   "outputs": [
    {
     "data": {
      "text/plain": [
       "'Hello, 오늘도화이팅how are you힘내자?오늘도화이팅'"
      ]
     },
     "execution_count": 87,
     "metadata": {},
     "output_type": "execute_result"
    }
   ],
   "source": [
    "# str.replace()  # 문자열 전체에서 주어진 문자열 대체\n",
    "\n",
    "string = \"Hello, \\nhow are you\\t?\\n\"\n",
    "stringA = string.replace(\"\\n\",\"오늘도화이팅\")\n",
    "stringA\n",
    "stringA = stringA.replace(\"\\t\",\"힘내자\")\n",
    "stringA"
   ]
  },
  {
   "cell_type": "code",
   "execution_count": 88,
   "id": "93885bfd",
   "metadata": {},
   "outputs": [
    {
     "data": {
      "text/plain": [
       "'Hello, 안녕how are you안녕?'"
      ]
     },
     "execution_count": 88,
     "metadata": {},
     "output_type": "execute_result"
    }
   ],
   "source": [
    "#정규식 사용 \n",
    "\n",
    "import re \n",
    "string = \"Hello, \\nhow are you\\n?\"\n",
    "\n",
    "new_string = re.sub(r\"\\n\",\"안녕\",string)\n",
    "new_string "
   ]
  },
  {
   "cell_type": "code",
   "execution_count": 89,
   "id": "f10ad645",
   "metadata": {},
   "outputs": [
    {
     "data": {
      "text/plain": [
       "5"
      ]
     },
     "execution_count": 89,
     "metadata": {},
     "output_type": "execute_result"
    }
   ],
   "source": [
    "# 문자 발생 횟수를 계산하기 \n",
    "# count() \n",
    "\n",
    "sentence = 'Cats, rats, bats, and hats.'\n",
    "sentence.count(\"a\")"
   ]
  },
  {
   "cell_type": "code",
   "execution_count": 91,
   "id": "b705bd84",
   "metadata": {},
   "outputs": [
    {
     "name": "stdout",
     "output_type": "stream",
     "text": [
      "갯수? 5\n"
     ]
    }
   ],
   "source": [
    "# 정규식을 이용해보기 \n",
    "import re \n",
    "sentence = 'Cats, rats, bats, and hats.'\n",
    "\n",
    "print(\"갯수?\",len(re.findall(\"a\",sentence)))"
   ]
  },
  {
   "cell_type": "code",
   "execution_count": null,
   "id": "c568a461",
   "metadata": {},
   "outputs": [],
   "source": []
  }
 ],
 "metadata": {
  "kernelspec": {
   "display_name": "Python 3",
   "language": "python",
   "name": "python3"
  },
  "language_info": {
   "codemirror_mode": {
    "name": "ipython",
    "version": 3
   },
   "file_extension": ".py",
   "mimetype": "text/x-python",
   "name": "python",
   "nbconvert_exporter": "python",
   "pygments_lexer": "ipython3",
   "version": "3.8.8"
  }
 },
 "nbformat": 4,
 "nbformat_minor": 5
}
