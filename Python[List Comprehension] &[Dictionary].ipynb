{
 "cells": [
  {
   "cell_type": "code",
   "execution_count": 11,
   "id": "8084b417",
   "metadata": {},
   "outputs": [
    {
     "name": "stdout",
     "output_type": "stream",
     "text": [
      "[1, 2, 3, 4, 5, 6, 7, 8, 9, 10] <class 'list'>\n",
      "12345678910[1, 2, 3, 4, 5, 6, 7, 8, 9, 10]\n"
     ]
    }
   ],
   "source": [
    "# 수동 리스트 \n",
    "a =[1,2,3,4,5,6,7,8,9,10]\n",
    "print(a, type(a))\n",
    "\n",
    "# for 반복문 \n",
    "for i in range(1,11):\n",
    "    print(i, end=\"\")\n",
    " \n",
    "    \n",
    "# for 반복문 + append \n",
    "b = []\n",
    "for i in range(1,11):\n",
    "    b.append(i)\n",
    "print(b)"
   ]
  },
  {
   "cell_type": "code",
   "execution_count": 15,
   "id": "36b6fed6",
   "metadata": {},
   "outputs": [
    {
     "data": {
      "text/plain": [
       "[1, 2, 3, 4, 5, 6, 7, 8, 9, 10]"
      ]
     },
     "execution_count": 15,
     "metadata": {},
     "output_type": "execute_result"
    }
   ],
   "source": [
    "# list comprehension \n",
    "c = [i for i in range(1,11)]\n",
    "c"
   ]
  },
  {
   "cell_type": "code",
   "execution_count": 16,
   "id": "04dae9c0",
   "metadata": {},
   "outputs": [
    {
     "data": {
      "text/plain": [
       "[1, 4, 9, 16, 25, 36, 49, 64, 81, 100]"
      ]
     },
     "execution_count": 16,
     "metadata": {},
     "output_type": "execute_result"
    }
   ],
   "source": [
    "# 각 숫자를 제곱한 값을 저장하는 리스트를 만들기\n",
    "c = [i*i for i in range(1,11)]\n",
    "c"
   ]
  },
  {
   "cell_type": "code",
   "execution_count": 24,
   "id": "7668c217",
   "metadata": {},
   "outputs": [
    {
     "data": {
      "text/plain": [
       "[1, 4, 9, 16, 36, 49, 64, 81, 100]"
      ]
     },
     "execution_count": 24,
     "metadata": {},
     "output_type": "execute_result"
    }
   ],
   "source": [
    "# 5를 제외한 1~ 10 까지의 제곱 수 구하기 \n",
    "\n",
    "c = [i*i for i in range(1,11) if i !=5]\n",
    "c"
   ]
  },
  {
   "cell_type": "code",
   "execution_count": 26,
   "id": "736c9b85",
   "metadata": {},
   "outputs": [
    {
     "data": {
      "text/plain": [
       "[2,\n",
       " 4,\n",
       " 6,\n",
       " 8,\n",
       " 10,\n",
       " 12,\n",
       " 14,\n",
       " 16,\n",
       " 18,\n",
       " 20,\n",
       " 22,\n",
       " 24,\n",
       " 26,\n",
       " 28,\n",
       " 30,\n",
       " 32,\n",
       " 34,\n",
       " 36,\n",
       " 38,\n",
       " 40,\n",
       " 42,\n",
       " 44,\n",
       " 46,\n",
       " 48,\n",
       " 50]"
      ]
     },
     "execution_count": 26,
     "metadata": {},
     "output_type": "execute_result"
    }
   ],
   "source": [
    "# 짝, 홀수만\n",
    "c = [i for i in range(1,51) if i % 2 ==0]\n",
    "d = [i for i in range(1,51) if i % 2 !=0]"
   ]
  },
  {
   "cell_type": "code",
   "execution_count": 28,
   "id": "9a55f3b4",
   "metadata": {},
   "outputs": [
    {
     "data": {
      "text/plain": [
       "[1, 2, 3, 4, 9, 10, 11, 12]"
      ]
     },
     "execution_count": 28,
     "metadata": {},
     "output_type": "execute_result"
    }
   ],
   "source": [
    "# 함수사용 \n",
    "e = [abs(i) for i in [1,2,-3,4,-9,10,11,-12]]\n",
    "e"
   ]
  },
  {
   "cell_type": "code",
   "execution_count": 29,
   "id": "b2a37267",
   "metadata": {},
   "outputs": [],
   "source": [
    "def my_func(i):\n",
    "    i = i * 2\n",
    "    return i \n"
   ]
  },
  {
   "cell_type": "code",
   "execution_count": 31,
   "id": "38992d67",
   "metadata": {},
   "outputs": [
    {
     "data": {
      "text/plain": [
       "4"
      ]
     },
     "execution_count": 31,
     "metadata": {},
     "output_type": "execute_result"
    }
   ],
   "source": [
    "my_func(2)"
   ]
  },
  {
   "cell_type": "code",
   "execution_count": 32,
   "id": "cc5e1c5b",
   "metadata": {},
   "outputs": [
    {
     "data": {
      "text/plain": [
       "[2, 4, 6, 8, 18, 20, 22, 24]"
      ]
     },
     "execution_count": 32,
     "metadata": {},
     "output_type": "execute_result"
    }
   ],
   "source": [
    "e = [my_func(abs(i)) for i in [1,2,-3,4,-9,10,11,-12]]\n",
    "e"
   ]
  },
  {
   "cell_type": "code",
   "execution_count": 41,
   "id": "8d6a9abe",
   "metadata": {},
   "outputs": [
    {
     "data": {
      "text/plain": [
       "[(0, 0), (0, 1), (0, 2), (1, 0), (1, 1), (1, 2), (2, 0), (2, 1), (2, 2)]"
      ]
     },
     "execution_count": 41,
     "metadata": {},
     "output_type": "execute_result"
    }
   ],
   "source": [
    "a = [(i,j) for i in range(3) for j in range(3)]\n",
    "a"
   ]
  },
  {
   "cell_type": "code",
   "execution_count": 42,
   "id": "42fab7a8",
   "metadata": {},
   "outputs": [
    {
     "data": {
      "text/plain": [
       "[(2, 1), (2, 2), (2, 3), (3, 1), (3, 2), (3, 3)]"
      ]
     },
     "execution_count": 42,
     "metadata": {},
     "output_type": "execute_result"
    }
   ],
   "source": [
    "b = [(i,j) for i in range(2,4) for j in range(1,4)]\n",
    "b\n",
    "# 예상 (2,1)(2,2)(2,3)/ (3,1)(3,2)(3,3)"
   ]
  },
  {
   "cell_type": "code",
   "execution_count": null,
   "id": "0d97b152",
   "metadata": {},
   "outputs": [],
   "source": [
    "# Dictionary \n",
    "# 예를 들어, {Key:Value}가 하나의 쌍을 이루어서 만들어지는 데이터값\n",
    "# value에 접근할 때는 Key를 참조하여 접근한다. \n",
    "# index 접근이 불가능하다 ex dic[0]\n",
    "# 순서가 없다. "
   ]
  },
  {
   "cell_type": "code",
   "execution_count": 45,
   "id": "e5723567",
   "metadata": {},
   "outputs": [
    {
     "name": "stdout",
     "output_type": "stream",
     "text": [
      "[1, 2, 3, 4, 5]\n"
     ]
    }
   ],
   "source": [
    "# 딕셔너리 만들기1\n",
    "dic={}\n",
    "dic[\"id\"]=\"hong\"\n",
    "dic[\"name\"]=[1,2,3,4,5]\n",
    "dic[\"age\"]=20\n",
    "dic[\"hp\"]=\"010-1234-5678\"\n",
    "dic[\"address\"]=\"여나동여나아파트\"\n",
    "\n",
    "print(dic[\"hp\"])"
   ]
  },
  {
   "cell_type": "code",
   "execution_count": 54,
   "id": "2c9b924d",
   "metadata": {},
   "outputs": [
    {
     "name": "stdout",
     "output_type": "stream",
     "text": [
      "id\n",
      "name\n",
      "age\n",
      "hp\n",
      "address\n",
      "____________\n",
      "hong\n",
      "[1, 2, 3, 4, 5]\n",
      "20\n",
      "010-1234-5678\n",
      "여나동여나아파트\n",
      "____________\n",
      "id hong\n",
      "name [1, 2, 3, 4, 5]\n",
      "age 20\n",
      "hp 010-1234-5678\n",
      "address 여나동여나아파트\n"
     ]
    }
   ],
   "source": [
    "for i in dic.keys(): \n",
    "    print(i)  # key 출력 \n",
    "print(\"____________\")\n",
    "for j in dic.values():\n",
    "    print(j)  # value 출력\n",
    "print(\"____________\")\n",
    "\n",
    "for i, j in dic.items():\n",
    "    print(i,j) # key, value값 출력 "
   ]
  },
  {
   "cell_type": "code",
   "execution_count": 57,
   "id": "f2f2d676",
   "metadata": {},
   "outputs": [
    {
     "name": "stdout",
     "output_type": "stream",
     "text": [
      "{'name': '여나조', 'id': 'yunajoe', 'age': 20}\n"
     ]
    }
   ],
   "source": [
    "# 딕셔너리 만들기2\n",
    "\n",
    "dic={\n",
    "    \"name\":\"여나조\",\n",
    "    \"id\":\"yunajoe\",\n",
    "    \"age\":20\n",
    "}\n",
    "print(dic)"
   ]
  },
  {
   "cell_type": "code",
   "execution_count": 61,
   "id": "5ef942c6",
   "metadata": {},
   "outputs": [
    {
     "name": "stdout",
     "output_type": "stream",
     "text": [
      "{'name': '을지문덕', 'age': 30, 'pastime': {'reading': 30, 'walking': 60}}\n",
      "{'reading': 30, 'walking': 60}\n"
     ]
    }
   ],
   "source": [
    "# 중첩 딕셔너리 만들기 \n",
    "\n",
    "dic={\n",
    "      \"name\":\"을지문덕\", \n",
    "      \"age\":30, \n",
    "      \"pastime\":{\n",
    "          \"reading\":30, \n",
    "          \"walking\":60\n",
    "      }    \n",
    "}\n",
    "print(dic)\n",
    "print(dic['pastime'])"
   ]
  },
  {
   "cell_type": "code",
   "execution_count": 65,
   "id": "2dfbe5f4",
   "metadata": {},
   "outputs": [
    {
     "name": "stdout",
     "output_type": "stream",
     "text": [
      "{'name': '여나조', 'id': 'yunajoe', 'age': 20}\n",
      "{'name': '여나조', 'id': 'yunajoe', 'age': 20, 'hobby': 'singing'}\n",
      "{'name': '여나조', 'id': 'yunajoe', 'age': 33, 'hobby': 'singing'}\n",
      "{'name': '여나조', 'id': 'yunajoe', 'hobby': 'singing'}\n"
     ]
    }
   ],
   "source": [
    "# 삽입, 수정, 삭제 \n",
    "dic={\n",
    "    \"name\":\"여나조\",\n",
    "    \"id\":\"yunajoe\",\n",
    "    \"age\":20\n",
    "}\n",
    "\n",
    "print(dic) # original \n",
    "\n",
    "dic[\"hobby\"]=\"singing\" # hobby 더하기 \n",
    "print(dic) \n",
    "\n",
    "dic[\"age\"] = 33\n",
    "print(dic) # 수정하기 \n",
    "\n",
    "del dic[\"age\"] #age 삭제하기 \n",
    "print(dic)"
   ]
  },
  {
   "cell_type": "code",
   "execution_count": null,
   "id": "7038759d",
   "metadata": {},
   "outputs": [],
   "source": []
  }
 ],
 "metadata": {
  "kernelspec": {
   "display_name": "Python 3",
   "language": "python",
   "name": "python3"
  },
  "language_info": {
   "codemirror_mode": {
    "name": "ipython",
    "version": 3
   },
   "file_extension": ".py",
   "mimetype": "text/x-python",
   "name": "python",
   "nbconvert_exporter": "python",
   "pygments_lexer": "ipython3",
   "version": "3.8.8"
  }
 },
 "nbformat": 4,
 "nbformat_minor": 5
}
